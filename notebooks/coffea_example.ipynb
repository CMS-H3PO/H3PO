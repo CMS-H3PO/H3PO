{
 "cells": [
  {
   "cell_type": "code",
   "execution_count": 107,
   "id": "dddd000d",
   "metadata": {},
   "outputs": [],
   "source": [
    "# Preliminary\n",
    "## Columnar analysis basics.\n",
    "import uproot\n",
    "import awkward as ak\n",
    "## Plotting.\n",
    "import matplotlib.pyplot as plt\n",
    "\n",
    "# Hists\n",
    "import hist\n",
    "from hist import Hist\n",
    "\n",
    "# NanoEvents\n",
    "from coffea.nanoevents import NanoEventsFactory, BaseSchema\n",
    "# Processors\n",
    "import coffea.processor as processor\n",
    "from coffea.nanoevents import NanoEventsFactory, NanoAODSchema\n",
    "\n",
    "import numpy as np"
   ]
  },
  {
   "cell_type": "code",
   "execution_count": 108,
   "id": "b983b614",
   "metadata": {},
   "outputs": [],
   "source": [
    "fname   = \"/STORE/ferencek/TRSM_XToHY_6b/2017/13TeV/NANOAOD/TRSM_XToHY_6b_M3_2000_M2_1100_NANOAOD.root\""
   ]
  },
  {
   "cell_type": "code",
   "execution_count": 125,
   "id": "89c7c3bf",
   "metadata": {},
   "outputs": [
    {
     "data": {
      "text/plain": [
       "<NanoEventsArray [<event 1:1:9901>, ... <event 1:1:2500>] type='10000 * event'>"
      ]
     },
     "execution_count": 125,
     "metadata": {},
     "output_type": "execute_result"
    }
   ],
   "source": [
    "eventsToRead = 10000\n",
    "events = NanoEventsFactory.from_root(fname,schemaclass=NanoAODSchema,metadata={\"dataset\": \"testSignal\"},entry_stop=eventsToRead).events()\n",
    "events"
   ]
  },
  {
   "cell_type": "code",
   "execution_count": 126,
   "id": "8a715ed7",
   "metadata": {},
   "outputs": [
    {
     "data": {
      "text/plain": [
       "['LHEPdfWeight',\n",
       " 'TrigObj',\n",
       " 'Electron',\n",
       " 'SoftActivityJetNjets5',\n",
       " 'LHEWeight',\n",
       " 'LHE',\n",
       " 'SoftActivityJetNjets10',\n",
       " 'HLT',\n",
       " 'run',\n",
       " 'L1',\n",
       " 'SubGenJetAK8',\n",
       " 'PSWeight',\n",
       " 'DeepMETResponseTune',\n",
       " 'RawPuppiMET',\n",
       " 'IsoTrack',\n",
       " 'Muon',\n",
       " 'Pileup',\n",
       " 'SoftActivityJetHT',\n",
       " 'genTtbarId',\n",
       " 'LHEScaleWeight',\n",
       " 'GenDressedLepton',\n",
       " 'SoftActivityJetHT5',\n",
       " 'Tau',\n",
       " 'fixedGridRhoFastjetAll',\n",
       " 'luminosityBlock',\n",
       " 'GenMET',\n",
       " 'HTXS',\n",
       " 'RawMET',\n",
       " 'CorrT1METJet',\n",
       " 'LHEPart',\n",
       " 'FsrPhoton',\n",
       " 'SoftActivityJetHT2',\n",
       " 'fixedGridRhoFastjetCentralCalo',\n",
       " 'event',\n",
       " 'GenPart',\n",
       " 'SoftActivityJetHT10',\n",
       " 'L1PreFiringWeight',\n",
       " 'OtherPV',\n",
       " 'GenVisTau',\n",
       " 'PV',\n",
       " 'fixedGridRhoFastjetCentralChargedPileUp',\n",
       " 'PuppiMET',\n",
       " 'HLTriggerFirstPath',\n",
       " 'GenVtx',\n",
       " 'CaloMET',\n",
       " 'L1Reco',\n",
       " 'btagWeight',\n",
       " 'TkMET',\n",
       " 'MET',\n",
       " 'SoftActivityJetNjets2',\n",
       " 'SV',\n",
       " 'ChsMET',\n",
       " 'GenIsolatedPhoton',\n",
       " 'genWeight',\n",
       " 'GenJet',\n",
       " 'fixedGridRhoFastjetCentralNeutral',\n",
       " 'fixedGridRhoFastjetCentral',\n",
       " 'Jet',\n",
       " 'Generator',\n",
       " 'LHEReweightingWeight',\n",
       " 'GenJetAK8',\n",
       " 'Flag',\n",
       " 'SubJet',\n",
       " 'L1simulation',\n",
       " 'FatJet',\n",
       " 'HLTriggerFinalPath',\n",
       " 'Photon',\n",
       " 'DeepMETResolutionTune',\n",
       " 'SoftActivityJet']"
      ]
     },
     "execution_count": 126,
     "metadata": {},
     "output_type": "execute_result"
    }
   ],
   "source": [
    "events.fields"
   ]
  },
  {
   "cell_type": "code",
   "execution_count": 127,
   "id": "11a88ed1",
   "metadata": {},
   "outputs": [
    {
     "data": {
      "text/plain": [
       "['area',\n",
       " 'btagCMVA',\n",
       " 'btagCSVV2',\n",
       " 'btagDDBvL',\n",
       " 'btagDDBvLV2',\n",
       " 'btagDDBvL_noMD',\n",
       " 'btagDDCvB',\n",
       " 'btagDDCvBV2',\n",
       " 'btagDDCvB_noMD',\n",
       " 'btagDDCvL',\n",
       " 'btagDDCvLV2',\n",
       " 'btagDDCvL_noMD',\n",
       " 'btagDeepB',\n",
       " 'btagHbb',\n",
       " 'deepTagMD_H4qvsQCD',\n",
       " 'deepTagMD_HbbvsQCD',\n",
       " 'deepTagMD_TvsQCD',\n",
       " 'deepTagMD_WvsQCD',\n",
       " 'deepTagMD_ZHbbvsQCD',\n",
       " 'deepTagMD_ZHccvsQCD',\n",
       " 'deepTagMD_ZbbvsQCD',\n",
       " 'deepTagMD_ZvsQCD',\n",
       " 'deepTagMD_bbvsLight',\n",
       " 'deepTagMD_ccvsLight',\n",
       " 'deepTag_H',\n",
       " 'deepTag_QCD',\n",
       " 'deepTag_QCDothers',\n",
       " 'deepTag_TvsQCD',\n",
       " 'deepTag_WvsQCD',\n",
       " 'deepTag_ZvsQCD',\n",
       " 'eta',\n",
       " 'mass',\n",
       " 'msoftdrop',\n",
       " 'n2b1',\n",
       " 'n3b1',\n",
       " 'particleNetMD_QCD',\n",
       " 'particleNetMD_Xbb',\n",
       " 'particleNetMD_Xcc',\n",
       " 'particleNetMD_Xqq',\n",
       " 'particleNet_H4qvsQCD',\n",
       " 'particleNet_HbbvsQCD',\n",
       " 'particleNet_HccvsQCD',\n",
       " 'particleNet_QCD',\n",
       " 'particleNet_TvsQCD',\n",
       " 'particleNet_WvsQCD',\n",
       " 'particleNet_ZvsQCD',\n",
       " 'phi',\n",
       " 'pt',\n",
       " 'rawFactor',\n",
       " 'tau1',\n",
       " 'tau2',\n",
       " 'tau3',\n",
       " 'tau4',\n",
       " 'lsf3',\n",
       " 'jetId',\n",
       " 'subJetIdx1',\n",
       " 'subJetIdx2',\n",
       " 'electronIdx3SJ',\n",
       " 'muonIdx3SJ',\n",
       " 'genJetAK8Idx',\n",
       " 'hadronFlavour',\n",
       " 'nBHadrons',\n",
       " 'nCHadrons',\n",
       " 'genJetAK8IdxG',\n",
       " 'subJetIdx1G',\n",
       " 'subJetIdx2G',\n",
       " 'subJetIdxG']"
      ]
     },
     "execution_count": 127,
     "metadata": {},
     "output_type": "execute_result"
    }
   ],
   "source": [
    "events.FatJet.fields"
   ]
  },
  {
   "cell_type": "code",
   "execution_count": 128,
   "id": "47ec32ef",
   "metadata": {},
   "outputs": [
    {
     "name": "stdout",
     "output_type": "stream",
     "text": [
      "6073\n",
      "[3, 3, 3, 3, 4, 3, 3, 3, 3, 3, 4, 3, 3, 4, ... 4, 3, 3, 3, 3, 3, 3, 3, 4, 3, 3, 3, 3]\n"
     ]
    }
   ],
   "source": [
    "ptcut  = 250\n",
    "etacut = 2.5\n",
    "\n",
    "fatjets = events.FatJet[(events.FatJet.pt>ptcut) & (np.abs(events.FatJet.eta)<etacut)]\n",
    "#Collections of fatjets matching our definition of pt and eta \n",
    "\n",
    "trijets = fatjets[(ak.num(fatjets, axis=1) > 2)]\n",
    "#Events with 3 or more fatjets\n",
    "\n",
    "print(ak.num(trijets,axis=0))\n",
    "#Number of such jets\n",
    "\n",
    "print(ak.num(trijets,axis=1))\n",
    "#Number of jets in each event\n"
   ]
  },
  {
   "cell_type": "code",
   "execution_count": 129,
   "id": "78abf8ff",
   "metadata": {},
   "outputs": [],
   "source": [
    "trijet_mass = (trijets[:,0]+trijets[:,1]+trijets[:,2]).mass\n",
    "#calc inv mass of trijets by lorentz v. sum of three leading jets\n",
    "\n",
    "dijet1_mass = (trijets[:,0]+trijets[:,1]).mass\n",
    "#calc inv mass of first dijet combination\n",
    "\n",
    "dijet2_mass = (trijets[:,0]+trijets[:,2]).mass\n",
    "#calc inv mass of first dijet combination\n",
    "\n",
    "dijet3_mass = (trijets[:,1]+trijets[:,2]).mass\n",
    "#calc inv mass of first dijet combination"
   ]
  },
  {
   "cell_type": "code",
   "execution_count": 143,
   "id": "5f8d0101",
   "metadata": {},
   "outputs": [],
   "source": [
    "j3_bin = hist.axis.Regular(label=\"Trijet Mass [GeV]\", name=\"trijet_mass\", bins=40, start=0, stop=4000)\n",
    "j3_cat = hist.axis.StrCategory(label='Trijets', name='trijet', categories=[\"signal\"])#can add bkg categories later on"
   ]
  },
  {
   "cell_type": "code",
   "execution_count": 144,
   "id": "f430f60a",
   "metadata": {},
   "outputs": [],
   "source": [
    "j3_hist = Hist(j3_bin, j3_cat)"
   ]
  },
  {
   "cell_type": "code",
   "execution_count": 145,
   "id": "097971fb",
   "metadata": {},
   "outputs": [
    {
     "data": {
      "text/html": [
       "<html>\n",
       "<div style=\"display:flex; align-items:center;\">\n",
       "<div style=\"width:290px;\">\n",
       "<svg xmlns=\"http://www.w3.org/2000/svg\" viewBox=\"-20 -270 290 290\">\n",
       "<text text-anchor=\"middle\" x=\"0\" y=\"13\" style=\"fill:currentColor;\">\n",
       "0\n",
       "</text>\n",
       "<text text-anchor=\"middle\" x=\"250\" y=\"13\" style=\"fill:currentColor;\">\n",
       "4e+03\n",
       "</text>\n",
       "<text text-anchor=\"middle\" x=\"-10\" y=\"0\" style=\"fill:currentColor;\">\n",
       "0\n",
       "</text>\n",
       "<text text-anchor=\"middle\" x=\"-10\" y=\"-250\" style=\"fill:currentColor;\">\n",
       "1\n",
       "</text>\n",
       "<text text-anchor=\"middle\" x=\"125.0\" y=\"13\" style=\"fill:currentColor;\">\n",
       "Trijet Mass [GeV]\n",
       "</text>\n",
       "<text text-anchor=\"middle\" x=\"-10\" y=\"-125.0\" transform=\"rotate(-90,-10,-125.0)\" style=\"fill:currentColor;\">\n",
       "Trijets\n",
       "</text>\n",
       "<rect x=\"0.0\" y=\"-250.0\" width=\"6.25\" height=\"250.0\" opacity=\"0.0\" fill=\"currentColor\" stroke-width=\"0.1\"/>\n",
       "<rect x=\"6.25\" y=\"-250.0\" width=\"6.25\" height=\"250.0\" opacity=\"0.0\" fill=\"currentColor\" stroke-width=\"0.1\"/>\n",
       "<rect x=\"12.5\" y=\"-250.0\" width=\"6.25\" height=\"250.0\" opacity=\"0.0\" fill=\"currentColor\" stroke-width=\"0.1\"/>\n",
       "<rect x=\"18.75\" y=\"-250.0\" width=\"6.25\" height=\"250.0\" opacity=\"0.0\" fill=\"currentColor\" stroke-width=\"0.1\"/>\n",
       "<rect x=\"25.0\" y=\"-250.0\" width=\"6.25\" height=\"250.0\" opacity=\"0.0\" fill=\"currentColor\" stroke-width=\"0.1\"/>\n",
       "<rect x=\"31.25\" y=\"-250.0\" width=\"6.25\" height=\"250.0\" opacity=\"0.0\" fill=\"currentColor\" stroke-width=\"0.1\"/>\n",
       "<rect x=\"37.5\" y=\"-250.0\" width=\"6.25\" height=\"250.0\" opacity=\"0.0\" fill=\"currentColor\" stroke-width=\"0.1\"/>\n",
       "<rect x=\"43.75\" y=\"-250.0\" width=\"6.25\" height=\"250.0\" opacity=\"0.0\" fill=\"currentColor\" stroke-width=\"0.1\"/>\n",
       "<rect x=\"50.0\" y=\"-250.0\" width=\"6.25\" height=\"250.0\" opacity=\"0.0\" fill=\"currentColor\" stroke-width=\"0.1\"/>\n",
       "<rect x=\"56.25\" y=\"-250.0\" width=\"6.25\" height=\"250.0\" opacity=\"0.0008019246190858059\" fill=\"currentColor\" stroke-width=\"0.1\"/>\n",
       "<rect x=\"62.5\" y=\"-250.0\" width=\"6.25\" height=\"250.0\" opacity=\"0.0032076984763432237\" fill=\"currentColor\" stroke-width=\"0.1\"/>\n",
       "<rect x=\"68.75\" y=\"-250.0\" width=\"6.25\" height=\"250.0\" opacity=\"0.011226944667201283\" fill=\"currentColor\" stroke-width=\"0.1\"/>\n",
       "<rect x=\"75.0\" y=\"-250.0\" width=\"6.25\" height=\"250.0\" opacity=\"0.015236567762630314\" fill=\"currentColor\" stroke-width=\"0.1\"/>\n",
       "<rect x=\"81.25\" y=\"-250.0\" width=\"6.25\" height=\"250.0\" opacity=\"0.032878909382518036\" fill=\"currentColor\" stroke-width=\"0.1\"/>\n",
       "<rect x=\"87.5\" y=\"-250.0\" width=\"6.25\" height=\"250.0\" opacity=\"0.08019246190858059\" fill=\"currentColor\" stroke-width=\"0.1\"/>\n",
       "<rect x=\"93.75\" y=\"-250.0\" width=\"6.25\" height=\"250.0\" opacity=\"0.1748195669607057\" fill=\"currentColor\" stroke-width=\"0.1\"/>\n",
       "<rect x=\"100.0\" y=\"-250.0\" width=\"6.25\" height=\"250.0\" opacity=\"0.34723336006415395\" fill=\"currentColor\" stroke-width=\"0.1\"/>\n",
       "<rect x=\"106.25\" y=\"-250.0\" width=\"6.25\" height=\"250.0\" opacity=\"0.6639935846030472\" fill=\"currentColor\" stroke-width=\"0.1\"/>\n",
       "<rect x=\"112.5\" y=\"-250.0\" width=\"6.25\" height=\"250.0\" opacity=\"1.0\" fill=\"currentColor\" stroke-width=\"0.1\"/>\n",
       "<rect x=\"118.75\" y=\"-250.0\" width=\"6.25\" height=\"250.0\" opacity=\"0.9695268644747393\" fill=\"currentColor\" stroke-width=\"0.1\"/>\n",
       "<rect x=\"125.0\" y=\"-250.0\" width=\"6.25\" height=\"250.0\" opacity=\"0.51242983159583\" fill=\"currentColor\" stroke-width=\"0.1\"/>\n",
       "<rect x=\"131.25\" y=\"-250.0\" width=\"6.25\" height=\"250.0\" opacity=\"0.2550120288692863\" fill=\"currentColor\" stroke-width=\"0.1\"/>\n",
       "<rect x=\"137.5\" y=\"-250.0\" width=\"6.25\" height=\"250.0\" opacity=\"0.15878107457898957\" fill=\"currentColor\" stroke-width=\"0.1\"/>\n",
       "<rect x=\"143.75\" y=\"-250.0\" width=\"6.25\" height=\"250.0\" opacity=\"0.1267040898155573\" fill=\"currentColor\" stroke-width=\"0.1\"/>\n",
       "<rect x=\"150.0\" y=\"-250.0\" width=\"6.25\" height=\"250.0\" opacity=\"0.0809943865276664\" fill=\"currentColor\" stroke-width=\"0.1\"/>\n",
       "<rect x=\"156.25\" y=\"-250.0\" width=\"6.25\" height=\"250.0\" opacity=\"0.07377706495589413\" fill=\"currentColor\" stroke-width=\"0.1\"/>\n",
       "<rect x=\"162.5\" y=\"-250.0\" width=\"6.25\" height=\"250.0\" opacity=\"0.07217321571772253\" fill=\"currentColor\" stroke-width=\"0.1\"/>\n",
       "<rect x=\"168.75\" y=\"-250.0\" width=\"6.25\" height=\"250.0\" opacity=\"0.0408981555733761\" fill=\"currentColor\" stroke-width=\"0.1\"/>\n",
       "<rect x=\"175.0\" y=\"-250.0\" width=\"6.25\" height=\"250.0\" opacity=\"0.040096230954290296\" fill=\"currentColor\" stroke-width=\"0.1\"/>\n",
       "<rect x=\"181.25\" y=\"-250.0\" width=\"6.25\" height=\"250.0\" opacity=\"0.03207698476343224\" fill=\"currentColor\" stroke-width=\"0.1\"/>\n",
       "<rect x=\"187.5\" y=\"-250.0\" width=\"6.25\" height=\"250.0\" opacity=\"0.028067361668003204\" fill=\"currentColor\" stroke-width=\"0.1\"/>\n",
       "<rect x=\"193.75\" y=\"-250.0\" width=\"6.25\" height=\"250.0\" opacity=\"0.02967121090617482\" fill=\"currentColor\" stroke-width=\"0.1\"/>\n",
       "<rect x=\"200.0\" y=\"-250.0\" width=\"6.25\" height=\"250.0\" opacity=\"0.021651964715316756\" fill=\"currentColor\" stroke-width=\"0.1\"/>\n",
       "<rect x=\"206.25\" y=\"-250.0\" width=\"6.25\" height=\"250.0\" opacity=\"0.01764234161988773\" fill=\"currentColor\" stroke-width=\"0.1\"/>\n",
       "<rect x=\"212.5\" y=\"-250.0\" width=\"6.25\" height=\"250.0\" opacity=\"0.018444266238973533\" fill=\"currentColor\" stroke-width=\"0.1\"/>\n",
       "<rect x=\"218.75\" y=\"-250.0\" width=\"6.25\" height=\"250.0\" opacity=\"0.011226944667201283\" fill=\"currentColor\" stroke-width=\"0.1\"/>\n",
       "<rect x=\"225.0\" y=\"-250.0\" width=\"6.25\" height=\"250.0\" opacity=\"0.008821170809943865\" fill=\"currentColor\" stroke-width=\"0.1\"/>\n",
       "<rect x=\"231.25\" y=\"-250.0\" width=\"6.25\" height=\"250.0\" opacity=\"0.00801924619085806\" fill=\"currentColor\" stroke-width=\"0.1\"/>\n",
       "<rect x=\"237.5\" y=\"-250.0\" width=\"6.25\" height=\"250.0\" opacity=\"0.00801924619085806\" fill=\"currentColor\" stroke-width=\"0.1\"/>\n",
       "<rect x=\"243.75\" y=\"-250.0\" width=\"6.25\" height=\"250.0\" opacity=\"0.0032076984763432237\" fill=\"currentColor\" stroke-width=\"0.1\"/>\n",
       "</svg>\n",
       "</div>\n",
       "<div style=\"flex=grow:1;\">\n",
       "Regular(40, 0, 4000, name='trijet_mass', label='Trijet Mass [GeV]')<br/>\n",
       "StrCategory(['signal'], name='trijet', label='Trijets')<br/>\n",
       "<hr style=\"margin-top:.2em; margin-bottom:.2em;\"/>\n",
       "Double() Σ=6044.0 <em>(6073.0 with flow)</em>\n",
       "\n",
       "</div>\n",
       "</div>\n",
       "</html>"
      ],
      "text/plain": [
       "Hist(\n",
       "  Regular(40, 0, 4000, name='trijet_mass', label='Trijet Mass [GeV]'),\n",
       "  StrCategory(['signal'], name='trijet', label='Trijets'),\n",
       "  storage=Double()) # Sum: 6044.0 (6073.0 with flow)"
      ]
     },
     "execution_count": 145,
     "metadata": {},
     "output_type": "execute_result"
    }
   ],
   "source": [
    "j3_hist.fill(trijet=\"signal\", trijet_mass=trijet_mass)"
   ]
  },
  {
   "cell_type": "code",
   "execution_count": 147,
   "id": "e3fd0ae8",
   "metadata": {},
   "outputs": [
    {
     "data": {
      "text/plain": [
       "<matplotlib.legend.Legend at 0x7f2ae77afe50>"
      ]
     },
     "execution_count": 147,
     "metadata": {},
     "output_type": "execute_result"
    },
    {
     "data": {
      "image/png": "[encoded data removed]",
      "text/plain": [
       "<Figure size 720x720 with 1 Axes>"
      ]
     },
     "metadata": {
      "needs_background": "light"
     },
     "output_type": "display_data"
    }
   ],
   "source": [
    "import mplhep as hep\n",
    "plt.style.use([hep.style.CMS])\n",
    "j3_hist.plot(color=\"black\")\n",
    "hep.cms.text(\"Work in progress\",loc=0)\n",
    "plt.ylabel(\"Event count\",horizontalalignment='right', y=1.0)\n",
    "plt.legend()"
   ]
  },
  {
   "cell_type": "code",
   "execution_count": 152,
   "id": "049f0199",
   "metadata": {},
   "outputs": [],
   "source": [
    "j2_bin = hist.axis.Regular(label=\"Dijet Mass [GeV]\", name=\"dijet_mass\", bins=40, start=0, stop=2000)\n",
    "j2_cat = hist.axis.StrCategory(label='Dijets', name='dijet', categories=[\"Pair1\",\"Pair2\",\"Pair3\"])"
   ]
  },
  {
   "cell_type": "code",
   "execution_count": 153,
   "id": "580da154",
   "metadata": {},
   "outputs": [],
   "source": [
    "j2_hist = Hist(j2_bin, j2_cat)"
   ]
  },
  {
   "cell_type": "code",
   "execution_count": 154,
   "id": "40f44635",
   "metadata": {},
   "outputs": [
    {
     "data": {
      "text/html": [
       "<html>\n",
       "<div style=\"display:flex; align-items:center;\">\n",
       "<div style=\"width:290px;\">\n",
       "<svg xmlns=\"http://www.w3.org/2000/svg\" viewBox=\"-20 -270 290 290\">\n",
       "<text text-anchor=\"middle\" x=\"0\" y=\"13\" style=\"fill:currentColor;\">\n",
       "0\n",
       "</text>\n",
       "<text text-anchor=\"middle\" x=\"250\" y=\"13\" style=\"fill:currentColor;\">\n",
       "2e+03\n",
       "</text>\n",
       "<text text-anchor=\"middle\" x=\"-10\" y=\"0\" style=\"fill:currentColor;\">\n",
       "0\n",
       "</text>\n",
       "<text text-anchor=\"middle\" x=\"-10\" y=\"-250\" style=\"fill:currentColor;\">\n",
       "3\n",
       "</text>\n",
       "<text text-anchor=\"middle\" x=\"125.0\" y=\"13\" style=\"fill:currentColor;\">\n",
       "Dijet Mass [GeV]\n",
       "</text>\n",
       "<text text-anchor=\"middle\" x=\"-10\" y=\"-125.0\" transform=\"rotate(-90,-10,-125.0)\" style=\"fill:currentColor;\">\n",
       "Dijets\n",
       "</text>\n",
       "<rect x=\"0.0\" y=\"-83.33333333333333\" width=\"6.25\" height=\"83.333\" opacity=\"0.0\" fill=\"currentColor\" stroke-width=\"0.1\"/>\n",
       "<rect x=\"6.25\" y=\"-83.33333333333333\" width=\"6.25\" height=\"83.333\" opacity=\"0.0\" fill=\"currentColor\" stroke-width=\"0.1\"/>\n",
       "<rect x=\"12.5\" y=\"-83.33333333333333\" width=\"6.25\" height=\"83.333\" opacity=\"0.0\" fill=\"currentColor\" stroke-width=\"0.1\"/>\n",
       "<rect x=\"18.75\" y=\"-83.33333333333333\" width=\"6.25\" height=\"83.333\" opacity=\"0.0\" fill=\"currentColor\" stroke-width=\"0.1\"/>\n",
       "<rect x=\"25.0\" y=\"-83.33333333333333\" width=\"6.25\" height=\"83.333\" opacity=\"0.0\" fill=\"currentColor\" stroke-width=\"0.1\"/>\n",
       "<rect x=\"31.25\" y=\"-83.33333333333333\" width=\"6.25\" height=\"83.333\" opacity=\"0.0\" fill=\"currentColor\" stroke-width=\"0.1\"/>\n",
       "<rect x=\"37.5\" y=\"-83.33333333333333\" width=\"6.25\" height=\"83.333\" opacity=\"0.0\" fill=\"currentColor\" stroke-width=\"0.1\"/>\n",
       "<rect x=\"43.75\" y=\"-83.33333333333333\" width=\"6.25\" height=\"83.333\" opacity=\"0.0\" fill=\"currentColor\" stroke-width=\"0.1\"/>\n",
       "<rect x=\"50.0\" y=\"-83.33333333333333\" width=\"6.25\" height=\"83.333\" opacity=\"0.0\" fill=\"currentColor\" stroke-width=\"0.1\"/>\n",
       "<rect x=\"56.25\" y=\"-83.33333333333333\" width=\"6.25\" height=\"83.333\" opacity=\"0.0024271844660194177\" fill=\"currentColor\" stroke-width=\"0.1\"/>\n",
       "<rect x=\"62.5\" y=\"-83.33333333333333\" width=\"6.25\" height=\"83.333\" opacity=\"0.0\" fill=\"currentColor\" stroke-width=\"0.1\"/>\n",
       "<rect x=\"68.75\" y=\"-83.33333333333333\" width=\"6.25\" height=\"83.333\" opacity=\"0.004854368932038835\" fill=\"currentColor\" stroke-width=\"0.1\"/>\n",
       "<rect x=\"75.0\" y=\"-83.33333333333333\" width=\"6.25\" height=\"83.333\" opacity=\"0.015776699029126214\" fill=\"currentColor\" stroke-width=\"0.1\"/>\n",
       "<rect x=\"81.25\" y=\"-83.33333333333333\" width=\"6.25\" height=\"83.333\" opacity=\"0.015776699029126214\" fill=\"currentColor\" stroke-width=\"0.1\"/>\n",
       "<rect x=\"87.5\" y=\"-83.33333333333333\" width=\"6.25\" height=\"83.333\" opacity=\"0.01820388349514563\" fill=\"currentColor\" stroke-width=\"0.1\"/>\n",
       "<rect x=\"93.75\" y=\"-83.33333333333333\" width=\"6.25\" height=\"83.333\" opacity=\"0.04004854368932039\" fill=\"currentColor\" stroke-width=\"0.1\"/>\n",
       "<rect x=\"100.0\" y=\"-83.33333333333333\" width=\"6.25\" height=\"83.333\" opacity=\"0.05825242718446602\" fill=\"currentColor\" stroke-width=\"0.1\"/>\n",
       "<rect x=\"106.25\" y=\"-83.33333333333333\" width=\"6.25\" height=\"83.333\" opacity=\"0.11771844660194175\" fill=\"currentColor\" stroke-width=\"0.1\"/>\n",
       "<rect x=\"112.5\" y=\"-83.33333333333333\" width=\"6.25\" height=\"83.333\" opacity=\"0.17961165048543692\" fill=\"currentColor\" stroke-width=\"0.1\"/>\n",
       "<rect x=\"118.75\" y=\"-83.33333333333333\" width=\"6.25\" height=\"83.333\" opacity=\"0.24150485436893204\" fill=\"currentColor\" stroke-width=\"0.1\"/>\n",
       "<rect x=\"125.0\" y=\"-83.33333333333333\" width=\"6.25\" height=\"83.333\" opacity=\"0.42111650485436897\" fill=\"currentColor\" stroke-width=\"0.1\"/>\n",
       "<rect x=\"131.25\" y=\"-83.33333333333333\" width=\"6.25\" height=\"83.333\" opacity=\"0.49393203883495146\" fill=\"currentColor\" stroke-width=\"0.1\"/>\n",
       "<rect x=\"137.5\" y=\"-83.33333333333333\" width=\"6.25\" height=\"83.333\" opacity=\"0.5242718446601942\" fill=\"currentColor\" stroke-width=\"0.1\"/>\n",
       "<rect x=\"143.75\" y=\"-83.33333333333333\" width=\"6.25\" height=\"83.333\" opacity=\"0.4733009708737864\" fill=\"currentColor\" stroke-width=\"0.1\"/>\n",
       "<rect x=\"150.0\" y=\"-83.33333333333333\" width=\"6.25\" height=\"83.333\" opacity=\"0.5436893203883495\" fill=\"currentColor\" stroke-width=\"0.1\"/>\n",
       "<rect x=\"156.25\" y=\"-83.33333333333333\" width=\"6.25\" height=\"83.333\" opacity=\"0.5351941747572816\" fill=\"currentColor\" stroke-width=\"0.1\"/>\n",
       "<rect x=\"162.5\" y=\"-83.33333333333333\" width=\"6.25\" height=\"83.333\" opacity=\"0.5558252427184466\" fill=\"currentColor\" stroke-width=\"0.1\"/>\n",
       "<rect x=\"168.75\" y=\"-83.33333333333333\" width=\"6.25\" height=\"83.333\" opacity=\"0.5643203883495147\" fill=\"currentColor\" stroke-width=\"0.1\"/>\n",
       "<rect x=\"175.0\" y=\"-83.33333333333333\" width=\"6.25\" height=\"83.333\" opacity=\"0.5145631067961165\" fill=\"currentColor\" stroke-width=\"0.1\"/>\n",
       "<rect x=\"181.25\" y=\"-83.33333333333333\" width=\"6.25\" height=\"83.333\" opacity=\"0.4259708737864078\" fill=\"currentColor\" stroke-width=\"0.1\"/>\n",
       "<rect x=\"187.5\" y=\"-83.33333333333333\" width=\"6.25\" height=\"83.333\" opacity=\"0.3580097087378641\" fill=\"currentColor\" stroke-width=\"0.1\"/>\n",
       "<rect x=\"193.75\" y=\"-83.33333333333333\" width=\"6.25\" height=\"83.333\" opacity=\"0.25728155339805825\" fill=\"currentColor\" stroke-width=\"0.1\"/>\n",
       "<rect x=\"200.0\" y=\"-83.33333333333333\" width=\"6.25\" height=\"83.333\" opacity=\"0.1905339805825243\" fill=\"currentColor\" stroke-width=\"0.1\"/>\n",
       "<rect x=\"206.25\" y=\"-83.33333333333333\" width=\"6.25\" height=\"83.333\" opacity=\"0.13228155339805825\" fill=\"currentColor\" stroke-width=\"0.1\"/>\n",
       "<rect x=\"212.5\" y=\"-83.33333333333333\" width=\"6.25\" height=\"83.333\" opacity=\"0.09101941747572816\" fill=\"currentColor\" stroke-width=\"0.1\"/>\n",
       "<rect x=\"218.75\" y=\"-83.33333333333333\" width=\"6.25\" height=\"83.333\" opacity=\"0.09344660194174757\" fill=\"currentColor\" stroke-width=\"0.1\"/>\n",
       "<rect x=\"225.0\" y=\"-83.33333333333333\" width=\"6.25\" height=\"83.333\" opacity=\"0.05703883495145631\" fill=\"currentColor\" stroke-width=\"0.1\"/>\n",
       "<rect x=\"231.25\" y=\"-83.33333333333333\" width=\"6.25\" height=\"83.333\" opacity=\"0.06553398058252427\" fill=\"currentColor\" stroke-width=\"0.1\"/>\n",
       "<rect x=\"237.5\" y=\"-83.33333333333333\" width=\"6.25\" height=\"83.333\" opacity=\"0.04490291262135923\" fill=\"currentColor\" stroke-width=\"0.1\"/>\n",
       "<rect x=\"243.75\" y=\"-83.33333333333333\" width=\"6.25\" height=\"83.333\" opacity=\"0.04247572815533981\" fill=\"currentColor\" stroke-width=\"0.1\"/>\n",
       "<rect x=\"0.0\" y=\"-166.66666666666666\" width=\"6.25\" height=\"83.333\" opacity=\"0.0\" fill=\"currentColor\" stroke-width=\"0.1\"/>\n",
       "<rect x=\"6.25\" y=\"-166.66666666666666\" width=\"6.25\" height=\"83.333\" opacity=\"0.0\" fill=\"currentColor\" stroke-width=\"0.1\"/>\n",
       "<rect x=\"12.5\" y=\"-166.66666666666666\" width=\"6.25\" height=\"83.333\" opacity=\"0.0\" fill=\"currentColor\" stroke-width=\"0.1\"/>\n",
       "<rect x=\"18.75\" y=\"-166.66666666666666\" width=\"6.25\" height=\"83.333\" opacity=\"0.0\" fill=\"currentColor\" stroke-width=\"0.1\"/>\n",
       "<rect x=\"25.0\" y=\"-166.66666666666666\" width=\"6.25\" height=\"83.333\" opacity=\"0.0\" fill=\"currentColor\" stroke-width=\"0.1\"/>\n",
       "<rect x=\"31.25\" y=\"-166.66666666666666\" width=\"6.25\" height=\"83.333\" opacity=\"0.0\" fill=\"currentColor\" stroke-width=\"0.1\"/>\n",
       "<rect x=\"37.5\" y=\"-166.66666666666666\" width=\"6.25\" height=\"83.333\" opacity=\"0.0\" fill=\"currentColor\" stroke-width=\"0.1\"/>\n",
       "<rect x=\"43.75\" y=\"-166.66666666666666\" width=\"6.25\" height=\"83.333\" opacity=\"0.0012135922330097088\" fill=\"currentColor\" stroke-width=\"0.1\"/>\n",
       "<rect x=\"50.0\" y=\"-166.66666666666666\" width=\"6.25\" height=\"83.333\" opacity=\"0.010922330097087379\" fill=\"currentColor\" stroke-width=\"0.1\"/>\n",
       "<rect x=\"56.25\" y=\"-166.66666666666666\" width=\"6.25\" height=\"83.333\" opacity=\"0.015776699029126214\" fill=\"currentColor\" stroke-width=\"0.1\"/>\n",
       "<rect x=\"62.5\" y=\"-166.66666666666666\" width=\"6.25\" height=\"83.333\" opacity=\"0.013349514563106797\" fill=\"currentColor\" stroke-width=\"0.1\"/>\n",
       "<rect x=\"68.75\" y=\"-166.66666666666666\" width=\"6.25\" height=\"83.333\" opacity=\"0.05703883495145631\" fill=\"currentColor\" stroke-width=\"0.1\"/>\n",
       "<rect x=\"75.0\" y=\"-166.66666666666666\" width=\"6.25\" height=\"83.333\" opacity=\"0.04975728155339806\" fill=\"currentColor\" stroke-width=\"0.1\"/>\n",
       "<rect x=\"81.25\" y=\"-166.66666666666666\" width=\"6.25\" height=\"83.333\" opacity=\"0.08616504854368932\" fill=\"currentColor\" stroke-width=\"0.1\"/>\n",
       "<rect x=\"87.5\" y=\"-166.66666666666666\" width=\"6.25\" height=\"83.333\" opacity=\"0.11893203883495146\" fill=\"currentColor\" stroke-width=\"0.1\"/>\n",
       "<rect x=\"93.75\" y=\"-166.66666666666666\" width=\"6.25\" height=\"83.333\" opacity=\"0.17475728155339806\" fill=\"currentColor\" stroke-width=\"0.1\"/>\n",
       "<rect x=\"100.0\" y=\"-166.66666666666666\" width=\"6.25\" height=\"83.333\" opacity=\"0.2354368932038835\" fill=\"currentColor\" stroke-width=\"0.1\"/>\n",
       "<rect x=\"106.25\" y=\"-166.66666666666666\" width=\"6.25\" height=\"83.333\" opacity=\"0.3677184466019418\" fill=\"currentColor\" stroke-width=\"0.1\"/>\n",
       "<rect x=\"112.5\" y=\"-166.66666666666666\" width=\"6.25\" height=\"83.333\" opacity=\"0.4987864077669903\" fill=\"currentColor\" stroke-width=\"0.1\"/>\n",
       "<rect x=\"118.75\" y=\"-166.66666666666666\" width=\"6.25\" height=\"83.333\" opacity=\"0.7366504854368932\" fill=\"currentColor\" stroke-width=\"0.1\"/>\n",
       "<rect x=\"125.0\" y=\"-166.66666666666666\" width=\"6.25\" height=\"83.333\" opacity=\"0.9150485436893204\" fill=\"currentColor\" stroke-width=\"0.1\"/>\n",
       "<rect x=\"131.25\" y=\"-166.66666666666666\" width=\"6.25\" height=\"83.333\" opacity=\"1.0\" fill=\"currentColor\" stroke-width=\"0.1\"/>\n",
       "<rect x=\"137.5\" y=\"-166.66666666666666\" width=\"6.25\" height=\"83.333\" opacity=\"0.7050970873786407\" fill=\"currentColor\" stroke-width=\"0.1\"/>\n",
       "<rect x=\"143.75\" y=\"-166.66666666666666\" width=\"6.25\" height=\"83.333\" opacity=\"0.4769417475728156\" fill=\"currentColor\" stroke-width=\"0.1\"/>\n",
       "<rect x=\"150.0\" y=\"-166.66666666666666\" width=\"6.25\" height=\"83.333\" opacity=\"0.32645631067961167\" fill=\"currentColor\" stroke-width=\"0.1\"/>\n",
       "<rect x=\"156.25\" y=\"-166.66666666666666\" width=\"6.25\" height=\"83.333\" opacity=\"0.26577669902912626\" fill=\"currentColor\" stroke-width=\"0.1\"/>\n",
       "<rect x=\"162.5\" y=\"-166.66666666666666\" width=\"6.25\" height=\"83.333\" opacity=\"0.21601941747572814\" fill=\"currentColor\" stroke-width=\"0.1\"/>\n",
       "<rect x=\"168.75\" y=\"-166.66666666666666\" width=\"6.25\" height=\"83.333\" opacity=\"0.1771844660194175\" fill=\"currentColor\" stroke-width=\"0.1\"/>\n",
       "<rect x=\"175.0\" y=\"-166.66666666666666\" width=\"6.25\" height=\"83.333\" opacity=\"0.18810679611650485\" fill=\"currentColor\" stroke-width=\"0.1\"/>\n",
       "<rect x=\"181.25\" y=\"-166.66666666666666\" width=\"6.25\" height=\"83.333\" opacity=\"0.11529126213592235\" fill=\"currentColor\" stroke-width=\"0.1\"/>\n",
       "<rect x=\"187.5\" y=\"-166.66666666666666\" width=\"6.25\" height=\"83.333\" opacity=\"0.08616504854368932\" fill=\"currentColor\" stroke-width=\"0.1\"/>\n",
       "<rect x=\"193.75\" y=\"-166.66666666666666\" width=\"6.25\" height=\"83.333\" opacity=\"0.05825242718446602\" fill=\"currentColor\" stroke-width=\"0.1\"/>\n",
       "<rect x=\"200.0\" y=\"-166.66666666666666\" width=\"6.25\" height=\"83.333\" opacity=\"0.05703883495145631\" fill=\"currentColor\" stroke-width=\"0.1\"/>\n",
       "<rect x=\"206.25\" y=\"-166.66666666666666\" width=\"6.25\" height=\"83.333\" opacity=\"0.06796116504854369\" fill=\"currentColor\" stroke-width=\"0.1\"/>\n",
       "<rect x=\"212.5\" y=\"-166.66666666666666\" width=\"6.25\" height=\"83.333\" opacity=\"0.06553398058252427\" fill=\"currentColor\" stroke-width=\"0.1\"/>\n",
       "<rect x=\"218.75\" y=\"-166.66666666666666\" width=\"6.25\" height=\"83.333\" opacity=\"0.032766990291262135\" fill=\"currentColor\" stroke-width=\"0.1\"/>\n",
       "<rect x=\"225.0\" y=\"-166.66666666666666\" width=\"6.25\" height=\"83.333\" opacity=\"0.03762135922330097\" fill=\"currentColor\" stroke-width=\"0.1\"/>\n",
       "<rect x=\"231.25\" y=\"-166.66666666666666\" width=\"6.25\" height=\"83.333\" opacity=\"0.026699029126213594\" fill=\"currentColor\" stroke-width=\"0.1\"/>\n",
       "<rect x=\"237.5\" y=\"-166.66666666666666\" width=\"6.25\" height=\"83.333\" opacity=\"0.021844660194174758\" fill=\"currentColor\" stroke-width=\"0.1\"/>\n",
       "<rect x=\"243.75\" y=\"-166.66666666666666\" width=\"6.25\" height=\"83.333\" opacity=\"0.01820388349514563\" fill=\"currentColor\" stroke-width=\"0.1\"/>\n",
       "<rect x=\"0.0\" y=\"-250.0\" width=\"6.25\" height=\"83.333\" opacity=\"0.0\" fill=\"currentColor\" stroke-width=\"0.1\"/>\n",
       "<rect x=\"6.25\" y=\"-250.0\" width=\"6.25\" height=\"83.333\" opacity=\"0.0\" fill=\"currentColor\" stroke-width=\"0.1\"/>\n",
       "<rect x=\"12.5\" y=\"-250.0\" width=\"6.25\" height=\"83.333\" opacity=\"0.0\" fill=\"currentColor\" stroke-width=\"0.1\"/>\n",
       "<rect x=\"18.75\" y=\"-250.0\" width=\"6.25\" height=\"83.333\" opacity=\"0.0\" fill=\"currentColor\" stroke-width=\"0.1\"/>\n",
       "<rect x=\"25.0\" y=\"-250.0\" width=\"6.25\" height=\"83.333\" opacity=\"0.0\" fill=\"currentColor\" stroke-width=\"0.1\"/>\n",
       "<rect x=\"31.25\" y=\"-250.0\" width=\"6.25\" height=\"83.333\" opacity=\"0.0024271844660194177\" fill=\"currentColor\" stroke-width=\"0.1\"/>\n",
       "<rect x=\"37.5\" y=\"-250.0\" width=\"6.25\" height=\"83.333\" opacity=\"0.01941747572815534\" fill=\"currentColor\" stroke-width=\"0.1\"/>\n",
       "<rect x=\"43.75\" y=\"-250.0\" width=\"6.25\" height=\"83.333\" opacity=\"0.06917475728155341\" fill=\"currentColor\" stroke-width=\"0.1\"/>\n",
       "<rect x=\"50.0\" y=\"-250.0\" width=\"6.25\" height=\"83.333\" opacity=\"0.08616504854368932\" fill=\"currentColor\" stroke-width=\"0.1\"/>\n",
       "<rect x=\"56.25\" y=\"-250.0\" width=\"6.25\" height=\"83.333\" opacity=\"0.15898058252427186\" fill=\"currentColor\" stroke-width=\"0.1\"/>\n",
       "<rect x=\"62.5\" y=\"-250.0\" width=\"6.25\" height=\"83.333\" opacity=\"0.2366504854368932\" fill=\"currentColor\" stroke-width=\"0.1\"/>\n",
       "<rect x=\"68.75\" y=\"-250.0\" width=\"6.25\" height=\"83.333\" opacity=\"0.2669902912621359\" fill=\"currentColor\" stroke-width=\"0.1\"/>\n",
       "<rect x=\"75.0\" y=\"-250.0\" width=\"6.25\" height=\"83.333\" opacity=\"0.33495145631067963\" fill=\"currentColor\" stroke-width=\"0.1\"/>\n",
       "<rect x=\"81.25\" y=\"-250.0\" width=\"6.25\" height=\"83.333\" opacity=\"0.3604368932038835\" fill=\"currentColor\" stroke-width=\"0.1\"/>\n",
       "<rect x=\"87.5\" y=\"-250.0\" width=\"6.25\" height=\"83.333\" opacity=\"0.4283980582524272\" fill=\"currentColor\" stroke-width=\"0.1\"/>\n",
       "<rect x=\"93.75\" y=\"-250.0\" width=\"6.25\" height=\"83.333\" opacity=\"0.470873786407767\" fill=\"currentColor\" stroke-width=\"0.1\"/>\n",
       "<rect x=\"100.0\" y=\"-250.0\" width=\"6.25\" height=\"83.333\" opacity=\"0.5060679611650486\" fill=\"currentColor\" stroke-width=\"0.1\"/>\n",
       "<rect x=\"106.25\" y=\"-250.0\" width=\"6.25\" height=\"83.333\" opacity=\"0.6140776699029127\" fill=\"currentColor\" stroke-width=\"0.1\"/>\n",
       "<rect x=\"112.5\" y=\"-250.0\" width=\"6.25\" height=\"83.333\" opacity=\"0.5849514563106797\" fill=\"currentColor\" stroke-width=\"0.1\"/>\n",
       "<rect x=\"118.75\" y=\"-250.0\" width=\"6.25\" height=\"83.333\" opacity=\"0.6783980582524272\" fill=\"currentColor\" stroke-width=\"0.1\"/>\n",
       "<rect x=\"125.0\" y=\"-250.0\" width=\"6.25\" height=\"83.333\" opacity=\"0.6128640776699029\" fill=\"currentColor\" stroke-width=\"0.1\"/>\n",
       "<rect x=\"131.25\" y=\"-250.0\" width=\"6.25\" height=\"83.333\" opacity=\"0.5060679611650486\" fill=\"currentColor\" stroke-width=\"0.1\"/>\n",
       "<rect x=\"137.5\" y=\"-250.0\" width=\"6.25\" height=\"83.333\" opacity=\"0.3713592233009709\" fill=\"currentColor\" stroke-width=\"0.1\"/>\n",
       "<rect x=\"143.75\" y=\"-250.0\" width=\"6.25\" height=\"83.333\" opacity=\"0.22815533980582525\" fill=\"currentColor\" stroke-width=\"0.1\"/>\n",
       "<rect x=\"150.0\" y=\"-250.0\" width=\"6.25\" height=\"83.333\" opacity=\"0.1820388349514563\" fill=\"currentColor\" stroke-width=\"0.1\"/>\n",
       "<rect x=\"156.25\" y=\"-250.0\" width=\"6.25\" height=\"83.333\" opacity=\"0.1237864077669903\" fill=\"currentColor\" stroke-width=\"0.1\"/>\n",
       "<rect x=\"162.5\" y=\"-250.0\" width=\"6.25\" height=\"83.333\" opacity=\"0.11529126213592235\" fill=\"currentColor\" stroke-width=\"0.1\"/>\n",
       "<rect x=\"168.75\" y=\"-250.0\" width=\"6.25\" height=\"83.333\" opacity=\"0.06553398058252427\" fill=\"currentColor\" stroke-width=\"0.1\"/>\n",
       "<rect x=\"175.0\" y=\"-250.0\" width=\"6.25\" height=\"83.333\" opacity=\"0.05703883495145631\" fill=\"currentColor\" stroke-width=\"0.1\"/>\n",
       "<rect x=\"181.25\" y=\"-250.0\" width=\"6.25\" height=\"83.333\" opacity=\"0.05097087378640777\" fill=\"currentColor\" stroke-width=\"0.1\"/>\n",
       "<rect x=\"187.5\" y=\"-250.0\" width=\"6.25\" height=\"83.333\" opacity=\"0.03883495145631068\" fill=\"currentColor\" stroke-width=\"0.1\"/>\n",
       "<rect x=\"193.75\" y=\"-250.0\" width=\"6.25\" height=\"83.333\" opacity=\"0.024271844660194178\" fill=\"currentColor\" stroke-width=\"0.1\"/>\n",
       "<rect x=\"200.0\" y=\"-250.0\" width=\"6.25\" height=\"83.333\" opacity=\"0.013349514563106797\" fill=\"currentColor\" stroke-width=\"0.1\"/>\n",
       "<rect x=\"206.25\" y=\"-250.0\" width=\"6.25\" height=\"83.333\" opacity=\"0.023058252427184466\" fill=\"currentColor\" stroke-width=\"0.1\"/>\n",
       "<rect x=\"212.5\" y=\"-250.0\" width=\"6.25\" height=\"83.333\" opacity=\"0.015776699029126214\" fill=\"currentColor\" stroke-width=\"0.1\"/>\n",
       "<rect x=\"218.75\" y=\"-250.0\" width=\"6.25\" height=\"83.333\" opacity=\"0.013349514563106797\" fill=\"currentColor\" stroke-width=\"0.1\"/>\n",
       "<rect x=\"225.0\" y=\"-250.0\" width=\"6.25\" height=\"83.333\" opacity=\"0.014563106796116505\" fill=\"currentColor\" stroke-width=\"0.1\"/>\n",
       "<rect x=\"231.25\" y=\"-250.0\" width=\"6.25\" height=\"83.333\" opacity=\"0.012135922330097089\" fill=\"currentColor\" stroke-width=\"0.1\"/>\n",
       "<rect x=\"237.5\" y=\"-250.0\" width=\"6.25\" height=\"83.333\" opacity=\"0.014563106796116505\" fill=\"currentColor\" stroke-width=\"0.1\"/>\n",
       "<rect x=\"243.75\" y=\"-250.0\" width=\"6.25\" height=\"83.333\" opacity=\"0.013349514563106797\" fill=\"currentColor\" stroke-width=\"0.1\"/>\n",
       "</svg>\n",
       "</div>\n",
       "<div style=\"flex=grow:1;\">\n",
       "Regular(40, 0, 2000, name='dijet_mass', label='Dijet Mass [GeV]')<br/>\n",
       "StrCategory(['Pair1', 'Pair2', 'Pair3'], name='dijet', label='Dijets')<br/>\n",
       "<hr style=\"margin-top:.2em; margin-bottom:.2em;\"/>\n",
       "Double() Σ=17813.0 <em>(18219.0 with flow)</em>\n",
       "\n",
       "</div>\n",
       "</div>\n",
       "</html>"
      ],
      "text/plain": [
       "Hist(\n",
       "  Regular(40, 0, 2000, name='dijet_mass', label='Dijet Mass [GeV]'),\n",
       "  StrCategory(['Pair1', 'Pair2', 'Pair3'], name='dijet', label='Dijets'),\n",
       "  storage=Double()) # Sum: 17813.0 (18219.0 with flow)"
      ]
     },
     "execution_count": 154,
     "metadata": {},
     "output_type": "execute_result"
    }
   ],
   "source": [
    "j2_hist.fill(dijet=\"Pair1\", dijet_mass=dijet1_mass)\n",
    "j2_hist.fill(dijet=\"Pair2\", dijet_mass=dijet2_mass)\n",
    "j2_hist.fill(dijet=\"Pair3\", dijet_mass=dijet3_mass)"
   ]
  },
  {
   "cell_type": "code",
   "execution_count": 156,
   "id": "f609743c",
   "metadata": {},
   "outputs": [
    {
     "data": {
      "text/plain": [
       "<matplotlib.legend.Legend at 0x7f2ae7318100>"
      ]
     },
     "execution_count": 156,
     "metadata": {},
     "output_type": "execute_result"
    },
    {
     "data": {
      "image/png": "[encoded data removed]",
      "text/plain": [
       "<Figure size 720x720 with 1 Axes>"
      ]
     },
     "metadata": {
      "needs_background": "light"
     },
     "output_type": "display_data"
    }
   ],
   "source": [
    "j2_hist.plot()\n",
    "hep.cms.text(\"Work in progress\",loc=0)\n",
    "plt.ylabel(\"Event count\",horizontalalignment='right', y=1.0)\n",
    "plt.legend()"
   ]
  },
  {
   "cell_type": "code",
   "execution_count": null,
   "id": "8073cc96",
   "metadata": {},
   "outputs": [],
   "source": []
  }
 ],
 "metadata": {
  "kernelspec": {
   "display_name": "Python 3 (ipykernel)",
   "language": "python",
   "name": "python3"
  },
  "language_info": {
   "codemirror_mode": {
    "name": "ipython",
    "version": 3
   },
   "file_extension": ".py",
   "mimetype": "text/x-python",
   "name": "python",
   "nbconvert_exporter": "python",
   "pygments_lexer": "ipython3",
   "version": "3.9.6"
  }
 },
 "nbformat": 4,
 "nbformat_minor": 5
}
