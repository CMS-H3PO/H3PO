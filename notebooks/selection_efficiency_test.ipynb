{
 "cells": [
  {
   "cell_type": "code",
   "execution_count": 1,
   "id": "61951bd2",
   "metadata": {},
   "outputs": [
    {
     "name": "stdout",
     "output_type": "stream",
     "text": [
      "Welcome to JupyROOT 6.26/07\n"
     ]
    }
   ],
   "source": [
    "# import everything needed\n",
    "import ROOT\n",
    "import numpy as np\n",
    "import awkward as ak\n",
    "from coffea.nanoevents import NanoEventsFactory, NanoAODSchema\n",
    "\n",
    "# configure ROOT's behavior\n",
    "ROOT.gROOT.SetBatch()\n",
    "ROOT.gStyle.SetOptStat(\"nemruoi\")\n",
    "ROOT.gROOT.ForceStyle()"
   ]
  },
  {
   "cell_type": "code",
   "execution_count": 2,
   "id": "69e96bdc",
   "metadata": {},
   "outputs": [],
   "source": [
    "mass_cut = [100., 150.]\n",
    "min_jet_mass = 60.\n",
    "max_jet_mass = 250.\n",
    "ptcut = 250.\n",
    "etacut = 2.5\n",
    "\n",
    "\n",
    "def FatJetMass_sd(fatjet):\n",
    "    return fatjet.msoftdrop\n",
    "\n",
    "def FatJetMass_pn(fatjet):\n",
    "    return fatjet.particleNet_mass\n",
    "\n",
    "\n",
    "# this is a jet mask\n",
    "def precut(fatjets):\n",
    "    return (fatjets.pt>ptcut) & (np.absolute(fatjets.eta)<etacut)\n",
    "\n",
    "\n",
    "#this is a jet mask\n",
    "def higgsCandidateMask(fatjets, version=\"new\"):\n",
    "    if \"old\" in version:\n",
    "        return (FatJetMass_sd(fatjets) >= mass_cut[0]) & (FatJetMass_sd(fatjets) <= mass_cut[1])\n",
    "\n",
    "    return (FatJetMass_pn(fatjets) >= mass_cut[0]) & (FatJetMass_pn(fatjets) <= mass_cut[1])\n",
    "\n",
    "\n",
    "#this is a jet mask\n",
    "def yCandidateMask(fatjets, version=\"new\"):\n",
    "    if \"old\" in version:\n",
    "        return FatJetMass_sd(fatjets) > max_jet_mass\n",
    "\n",
    "    return ( FatJetMass_sd(fatjets) > max_jet_mass ) & ( FatJetMass_pn(fatjets) > mass_cut[1] )\n",
    "\n",
    "\n",
    "def SR_JetMass_evtMask(fatjets, version=\"new\"):\n",
    "    if \"old\" in version:\n",
    "        return ( ( FatJetMass_sd(fatjets[:,0]) > max_jet_mass ) | ( FatJetMass_sd(fatjets[:,1]) > max_jet_mass ) )\n",
    "\n",
    "    return ( ( ( FatJetMass_sd(fatjets[:,0]) > max_jet_mass ) & ( FatJetMass_pn(fatjets[:,0]) > mass_cut[1] ) )\n",
    "            | ( ( FatJetMass_sd(fatjets[:,1]) > max_jet_mass ) & ( FatJetMass_pn(fatjets[:,1]) > mass_cut[1] ) ) )\n"
   ]
  },
  {
   "cell_type": "code",
   "execution_count": 3,
   "id": "27c689fe",
   "metadata": {},
   "outputs": [
    {
     "name": "stderr",
     "output_type": "stream",
     "text": [
      "/cvmfs/cms.cern.ch/el9_amd64_gcc11/external/py3-numpy/1.22.4-1e1240160543ee39175a125e9a5e9cae/lib/python3.9/site-packages/numpy/core/getlimits.py:499: UserWarning: The value of the smallest subnormal for <class 'numpy.float32'> type is zero.\n",
      "  setattr(self, word, getattr(machar, word).flat[0])\n",
      "/cvmfs/cms.cern.ch/el9_amd64_gcc11/external/py3-numpy/1.22.4-1e1240160543ee39175a125e9a5e9cae/lib/python3.9/site-packages/numpy/core/getlimits.py:89: UserWarning: The value of the smallest subnormal for <class 'numpy.float32'> type is zero.\n",
      "  return self._float_to_str(self.smallest_subnormal)\n",
      "/cvmfs/cms.cern.ch/el9_amd64_gcc11/external/py3-numpy/1.22.4-1e1240160543ee39175a125e9a5e9cae/lib/python3.9/site-packages/numpy/core/getlimits.py:499: UserWarning: The value of the smallest subnormal for <class 'numpy.float64'> type is zero.\n",
      "  setattr(self, word, getattr(machar, word).flat[0])\n",
      "/cvmfs/cms.cern.ch/el9_amd64_gcc11/external/py3-numpy/1.22.4-1e1240160543ee39175a125e9a5e9cae/lib/python3.9/site-packages/numpy/core/getlimits.py:89: UserWarning: The value of the smallest subnormal for <class 'numpy.float64'> type is zero.\n",
      "  return self._float_to_str(self.smallest_subnormal)\n"
     ]
    },
    {
     "name": "stdout",
     "output_type": "stream",
     "text": [
      "Ukupno fatjets: 200000\n",
      "\n",
      "Nakon precuta fatjets: 196668\n",
      "\n",
      "Nakon stare selekcije Y kandidata: 84311\n",
      "\n",
      "Nakon stare selekcije\n",
      "fatjets_old_higgs_old: 50338\n",
      "\n",
      "Nakon nove selekcije\n",
      "fatjets_old_higgs_new: 72165\n"
     ]
    }
   ],
   "source": [
    "events = NanoEventsFactory.from_root(\"/STORE/matej/H3_skims/2017/XToYHTo6B_MX-4000_MY-300/1C0AE519-F164-C149-B3EA-4B48017F9D08.root\",schemaclass=NanoAODSchema,metadata={\"dataset\":\"\"},entry_stop=None).events()\n",
    "fatjets = events.FatJet\n",
    "\n",
    "print(\"Ukupno fatjets:\", len(fatjets))\n",
    "\n",
    "\n",
    "fatjets = fatjets[precut(fatjets)]\n",
    "events  =  events[ak.num(fatjets, axis=1)>1]\n",
    "fatjets = fatjets[ak.num(fatjets, axis=1)>1][:,0:2]\n",
    "\n",
    "\n",
    "\n",
    "print(\"\\nNakon precuta fatjets:\", len(fatjets))\n",
    "\n",
    "fatjets_old_evtMask = SR_JetMass_evtMask(fatjets, version=\"old\")\n",
    "events_old  =  events[fatjets_old_evtMask]\n",
    "fatjets_old = fatjets[fatjets_old_evtMask]\n",
    "\n",
    "print(\"\\nNakon stare selekcije Y kandidata:\", len(fatjets_old))\n",
    "\n",
    "\n",
    "\n",
    "fatjets_old_higgs_old = fatjets_old[higgsCandidateMask(fatjets_old, version=\"old\")]\n",
    "events_old_higgs_old = events_old[ak.num(fatjets_old_higgs_old, axis=1)>0]\n",
    "fatjets_old_higgs_old = fatjets_old_higgs_old[ak.num(fatjets_old_higgs_old, axis=1)>0]\n",
    "\n",
    "print(\"\\nNakon stare selekcije\\nfatjets_old_higgs_old:\", len(fatjets_old_higgs_old))\n",
    "\n",
    "\n",
    "\n",
    "\n",
    "fatjets_old_higgs_new = fatjets_old[higgsCandidateMask(fatjets_old)]\n",
    "fatjets_old_higgs_new = fatjets_old_higgs_new[ak.num(fatjets_old_higgs_new, axis=1)>0]\n",
    "\n",
    "print(\"\\nNakon nove selekcije\\nfatjets_old_higgs_new:\", len(fatjets_old_higgs_new))\n",
    "\n",
    "events_old_higgs_old_numbers = events_old_higgs_old.event\n"
   ]
  },
  {
   "cell_type": "code",
   "execution_count": 4,
   "id": "f14a42ad",
   "metadata": {},
   "outputs": [
    {
     "name": "stdout",
     "output_type": "stream",
     "text": [
      "Ukupno fatjets: 200000\n",
      "\n",
      "Nakon precuta fatjets: 196668\n",
      "\n",
      "Nakon nove selekcije Y kandidata: 80409\n",
      "\n",
      "Nakon stare selekcije\n",
      "fatjets_new_higgs_old: 48990\n",
      "\n",
      "Nakon nove selekcije\n",
      "fatjets_new_higgs_new: 68590\n"
     ]
    }
   ],
   "source": [
    "events = NanoEventsFactory.from_root(\"/STORE/matej/H3_skims/2017/XToYHTo6B_MX-4000_MY-300/1C0AE519-F164-C149-B3EA-4B48017F9D08.root\",schemaclass=NanoAODSchema,metadata={\"dataset\":\"\"},entry_stop=None).events()\n",
    "fatjets = events.FatJet\n",
    "\n",
    "print(\"Ukupno fatjets:\", len(fatjets))\n",
    "\n",
    "\n",
    "fatjets = fatjets[precut(fatjets)]\n",
    "events  =  events[ak.num(fatjets, axis=1)>1]\n",
    "fatjets = fatjets[ak.num(fatjets, axis=1)>1][:,0:2]\n",
    "\n",
    "\n",
    "print(\"\\nNakon precuta fatjets:\", len(fatjets))\n",
    "\n",
    "fatjets_new_evtMask = SR_JetMass_evtMask(fatjets)\n",
    "events_new  =  events[fatjets_new_evtMask]\n",
    "fatjets_new = fatjets[fatjets_new_evtMask]\n",
    "\n",
    "print(\"\\nNakon nove selekcije Y kandidata:\", len(fatjets_new))\n",
    "\n",
    "\n",
    "\n",
    "\n",
    "fatjets_new_higgs_old = fatjets_new[higgsCandidateMask(fatjets_new, version=\"old\")]\n",
    "fatjets_new_higgs_old = fatjets_new_higgs_old[ak.num(fatjets_new_higgs_old, axis=1)>0]\n",
    "\n",
    "print(\"\\nNakon stare selekcije\\nfatjets_new_higgs_old:\", len(fatjets_new_higgs_old))\n",
    "\n",
    "\n",
    "\n",
    "\n",
    "fatjets_new_higgs_new = fatjets_new[higgsCandidateMask(fatjets_new)]\n",
    "events_new_higgs_new = events_new[ak.num(fatjets_new_higgs_new, axis=1)>0]\n",
    "fatjets_new_higgs_new = fatjets_new_higgs_new[ak.num(fatjets_new_higgs_new, axis=1)>0]\n",
    "\n",
    "print(\"\\nNakon nove selekcije\\nfatjets_new_higgs_new:\", len(fatjets_new_higgs_new))\n",
    "\n",
    "events_new_higgs_new_numbers = events_new_higgs_new.event\n"
   ]
  },
  {
   "cell_type": "code",
   "execution_count": 5,
   "id": "269930e9",
   "metadata": {},
   "outputs": [
    {
     "name": "stdout",
     "output_type": "stream",
     "text": [
      "[2, 12, 7, 20, 15, 16, 27, 32, 42, 50, 51, 48, 56, 54, 52, 65, 72, 79, 81, 85]\n",
      "[2, 12, 20, 15, 16, 26, 27, 32, 42, 50, 51, 48, 56, 54, 52, 65, 60, 67, 72, 71]\n"
     ]
    }
   ],
   "source": [
    "print(events_old_higgs_old_numbers[:20])\n",
    "print(events_new_higgs_new_numbers[:20])"
   ]
  },
  {
   "cell_type": "code",
   "execution_count": 6,
   "id": "59fc9b04",
   "metadata": {},
   "outputs": [
    {
     "name": "stdout",
     "output_type": "stream",
     "text": [
      "Softdrop mass of jet1:    12.765625\n",
      "ParticleNet mass of jet1: 129.125\n",
      "Softdrop mass of jet2:    280.0\n",
      "ParticleNet mass of jet2: 251.125\n"
     ]
    }
   ],
   "source": [
    "targeted_event = events_new_higgs_new[events_new_higgs_new.event == 26]\n",
    "targeted_event_fatjets = targeted_event.FatJet\n",
    "jet1 = targeted_event_fatjets[0][0]\n",
    "jet2 = targeted_event_fatjets[0][1]\n",
    "print(\"Softdrop mass of jet1:   \", FatJetMass_sd(jet1))\n",
    "print(\"ParticleNet mass of jet1:\", FatJetMass_pn(jet1))\n",
    "print(\"Softdrop mass of jet2:   \", FatJetMass_sd(jet2))\n",
    "print(\"ParticleNet mass of jet2:\", FatJetMass_pn(jet2))"
   ]
  },
  {
   "cell_type": "code",
   "execution_count": 7,
   "id": "d3a9fba1",
   "metadata": {},
   "outputs": [
    {
     "name": "stdout",
     "output_type": "stream",
     "text": [
      "Softdrop mass of jet1:    119.125\n",
      "ParticleNet mass of jet1: 121.8125\n",
      "Softdrop mass of jet2:    294.5\n",
      "ParticleNet mass of jet2: 201.625\n"
     ]
    }
   ],
   "source": [
    "targeted_event = events_old_higgs_old[events_old_higgs_old.event == 12]\n",
    "targeted_event_fatjets = targeted_event.FatJet\n",
    "jet1 = targeted_event_fatjets[0][0]\n",
    "jet2 = targeted_event_fatjets[0][1]\n",
    "print(\"Softdrop mass of jet1:   \", FatJetMass_sd(jet1))\n",
    "print(\"ParticleNet mass of jet1:\", FatJetMass_pn(jet1))\n",
    "print(\"Softdrop mass of jet2:   \", FatJetMass_sd(jet2))\n",
    "print(\"ParticleNet mass of jet2:\", FatJetMass_pn(jet2))"
   ]
  },
  {
   "cell_type": "code",
   "execution_count": 8,
   "id": "467969c1",
   "metadata": {},
   "outputs": [
    {
     "name": "stdout",
     "output_type": "stream",
     "text": [
      "Softdrop mass of jet1:    270.75\n",
      "ParticleNet mass of jet1: 238.125\n",
      "Softdrop mass of jet2:    100.25\n",
      "ParticleNet mass of jet2: 98.75\n"
     ]
    }
   ],
   "source": [
    "targeted_event = events_old_higgs_old[events_old_higgs_old.event == 7]\n",
    "targeted_event_fatjets = targeted_event.FatJet\n",
    "jet1 = targeted_event_fatjets[0][0]\n",
    "jet2 = targeted_event_fatjets[0][1]\n",
    "print(\"Softdrop mass of jet1:   \", FatJetMass_sd(jet1))\n",
    "print(\"ParticleNet mass of jet1:\", FatJetMass_pn(jet1))\n",
    "print(\"Softdrop mass of jet2:   \", FatJetMass_sd(jet2))\n",
    "print(\"ParticleNet mass of jet2:\", FatJetMass_pn(jet2))"
   ]
  },
  {
   "cell_type": "code",
   "execution_count": null,
   "id": "727e8873",
   "metadata": {},
   "outputs": [],
   "source": []
  }
 ],
 "metadata": {
  "kernelspec": {
   "display_name": "Python 3 (ipykernel)",
   "language": "python",
   "name": "python3"
  },
  "language_info": {
   "codemirror_mode": {
    "name": "ipython",
    "version": 3
   },
   "file_extension": ".py",
   "mimetype": "text/x-python",
   "name": "python",
   "nbconvert_exporter": "python",
   "pygments_lexer": "ipython3",
   "version": "3.9.14"
  }
 },
 "nbformat": 4,
 "nbformat_minor": 5
}
