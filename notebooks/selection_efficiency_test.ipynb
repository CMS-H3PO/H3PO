{
 "cells": [
  {
   "cell_type": "code",
   "execution_count": 1,
   "id": "61951bd2",
   "metadata": {},
   "outputs": [
    {
     "name": "stdout",
     "output_type": "stream",
     "text": [
      "Welcome to JupyROOT 6.26/07\n"
     ]
    }
   ],
   "source": [
    "# import everything needed\n",
    "import ROOT\n",
    "import numpy as np\n",
    "import awkward as ak\n",
    "from coffea.nanoevents import NanoEventsFactory, NanoAODSchema\n",
    "\n",
    "# configure ROOT's behavior\n",
    "ROOT.gROOT.SetBatch()\n",
    "ROOT.gStyle.SetOptStat(\"nemruoi\")\n",
    "ROOT.gROOT.ForceStyle()"
   ]
  },
  {
   "cell_type": "code",
   "execution_count": 2,
   "id": "69e96bdc",
   "metadata": {},
   "outputs": [],
   "source": [
    "mass_cut = [100., 150.]\n",
    "min_jet_mass = 60.\n",
    "max_jet_mass = 250.\n",
    "ptcut = 250.\n",
    "etacut = 2.5\n",
    "\n",
    "\n",
    "def FatJetMass_sd(fatjet):\n",
    "    return fatjet.msoftdrop\n",
    "\n",
    "def FatJetMass_pn(fatjet):\n",
    "    return fatjet.particleNet_mass\n",
    "\n",
    "\n",
    "# this is a jet mask\n",
    "def precut(fatjets):\n",
    "    return (fatjets.pt>ptcut) & (np.absolute(fatjets.eta)<etacut)\n",
    "\n",
    "\n",
    "#this is a jet mask\n",
    "def higgsCandidateMask(fatjets, version=\"new\"):\n",
    "    if \"old\" in version:\n",
    "        return (FatJetMass_sd(fatjets) >= mass_cut[0]) & (FatJetMass_sd(fatjets) <= mass_cut[1])\n",
    "\n",
    "    return (FatJetMass_pn(fatjets) >= mass_cut[0]) & (FatJetMass_pn(fatjets) <= mass_cut[1])\n",
    "\n",
    "\n",
    "#this is a jet mask\n",
    "def yCandidateMask(fatjets, version=\"new\"):\n",
    "    if \"old\" in version:\n",
    "        return FatJetMass_sd(fatjets) > max_jet_mass\n",
    "\n",
    "    return ( FatJetMass_sd(fatjets) > max_jet_mass ) & ( FatJetMass_pn(fatjets) > mass_cut[1] )"
   ]
  },
  {
   "cell_type": "code",
   "execution_count": 3,
   "id": "2313c71d",
   "metadata": {},
   "outputs": [
    {
     "name": "stderr",
     "output_type": "stream",
     "text": [
      "/cvmfs/cms.cern.ch/el9_amd64_gcc11/external/py3-numpy/1.22.4-1e1240160543ee39175a125e9a5e9cae/lib/python3.9/site-packages/numpy/core/getlimits.py:499: UserWarning: The value of the smallest subnormal for <class 'numpy.float32'> type is zero.\n",
      "  setattr(self, word, getattr(machar, word).flat[0])\n",
      "/cvmfs/cms.cern.ch/el9_amd64_gcc11/external/py3-numpy/1.22.4-1e1240160543ee39175a125e9a5e9cae/lib/python3.9/site-packages/numpy/core/getlimits.py:89: UserWarning: The value of the smallest subnormal for <class 'numpy.float32'> type is zero.\n",
      "  return self._float_to_str(self.smallest_subnormal)\n",
      "/cvmfs/cms.cern.ch/el9_amd64_gcc11/external/py3-numpy/1.22.4-1e1240160543ee39175a125e9a5e9cae/lib/python3.9/site-packages/numpy/core/getlimits.py:499: UserWarning: The value of the smallest subnormal for <class 'numpy.float64'> type is zero.\n",
      "  setattr(self, word, getattr(machar, word).flat[0])\n",
      "/cvmfs/cms.cern.ch/el9_amd64_gcc11/external/py3-numpy/1.22.4-1e1240160543ee39175a125e9a5e9cae/lib/python3.9/site-packages/numpy/core/getlimits.py:89: UserWarning: The value of the smallest subnormal for <class 'numpy.float64'> type is zero.\n",
      "  return self._float_to_str(self.smallest_subnormal)\n"
     ]
    },
    {
     "name": "stdout",
     "output_type": "stream",
     "text": [
      "Ukupno fatjets1: 200000\n",
      "\n",
      "Nakon precuta fatjets1: 196668\n",
      "\n",
      "Nakon stare selekcije\n",
      "fatjets1_higgs_old: 127952\n",
      "fatjets1_y_old:     84311\n",
      "\n",
      "Nakon nove selekcije\n",
      "fatjets1_higgs_new: 170124\n",
      "fatjets1_y_new:     80409\n"
     ]
    }
   ],
   "source": [
    "events1 = NanoEventsFactory.from_root(\"/STORE/matej/H3_skims/2017/XToYHTo6B_MX-4000_MY-300/1C0AE519-F164-C149-B3EA-4B48017F9D08.root\",schemaclass=NanoAODSchema,metadata={\"dataset\":\"\"},entry_stop=None).events()\n",
    "fatjets1 = events1.FatJet\n",
    "\n",
    "print(\"Ukupno fatjets1:\", len(fatjets1))\n",
    "\n",
    "\n",
    "fatjets1 = fatjets1[precut(fatjets1)]\n",
    "fatjets1 = fatjets1[ak.num(fatjets1, axis=1)>1][:,0:2]\n",
    "\n",
    "\n",
    "print(\"\\nNakon precuta fatjets1:\", len(fatjets1))\n",
    "\n",
    "fatjets1_higgs_old_evtMask = higgsCandidateMask(fatjets1, version=\"old\")\n",
    "fatjets1_higgs_old = fatjets1[fatjets1_higgs_old_evtMask]\n",
    "fatjets1_higgs_old = fatjets1_higgs_old[ak.num(fatjets1_higgs_old)>0]\n",
    "\n",
    "fatjets1_y_old_evtMask = yCandidateMask(fatjets1, version=\"old\")\n",
    "fatjets1_y_old = fatjets1[fatjets1_y_old_evtMask]\n",
    "fatjets1_y_old = fatjets1_y_old[ak.num(fatjets1_y_old)>0]\n",
    "\n",
    "print(\"\\nNakon stare selekcije\\nfatjets1_higgs_old:\", len(fatjets1_higgs_old))\n",
    "print(\"fatjets1_y_old:    \", len(fatjets1_y_old))\n",
    "\n",
    "\n",
    "\n",
    "fatjets1_higgs_new_evtMask = higgsCandidateMask(fatjets1)\n",
    "fatjets1_higgs_new = fatjets1[fatjets1_higgs_new_evtMask]\n",
    "fatjets1_higgs_new = fatjets1_higgs_new[ak.num(fatjets1_higgs_new, axis=1)>0]\n",
    "\n",
    "fatjets1_y_new_evtMask = yCandidateMask(fatjets1)\n",
    "fatjets1_y_new = fatjets1[fatjets1_y_new_evtMask]\n",
    "fatjets1_y_new = fatjets1_y_new[ak.num(fatjets1_y_new, axis=1)>0]\n",
    "\n",
    "\n",
    "print(\"\\nNakon nove selekcije\\nfatjets1_higgs_new:\", len(fatjets1_higgs_new))\n",
    "print(\"fatjets1_y_new:    \", len(fatjets1_y_new))"
   ]
  },
  {
   "cell_type": "code",
   "execution_count": 4,
   "id": "8f70b1ef",
   "metadata": {},
   "outputs": [
    {
     "name": "stdout",
     "output_type": "stream",
     "text": [
      "Ukupno fatjets2: 200000\n",
      "\n",
      "Nakon precuta fatjets2: 199684\n",
      "\n",
      "Nakon stare selekcije\n",
      "fatjets2_higgs_old: 167823\n",
      "\n",
      "Nakon nove selekcije\n",
      "fatjets2_higgs_new: 193199\n"
     ]
    }
   ],
   "source": [
    "events2 = NanoEventsFactory.from_root(\"/STORE/matej/H3_skims/2017/XToYHTo6B_MX-4000_MY-2500/EEEFEB88-4B76-014D-94E5-70AD4CEDE674.root\",schemaclass=NanoAODSchema,metadata={\"dataset\":\"\"},entry_stop=None).events()\n",
    "fatjets2 = events2.FatJet\n",
    "\n",
    "print(\"Ukupno fatjets2:\", len(fatjets2))\n",
    "\n",
    "\n",
    "fatjets2 = fatjets2[precut(fatjets2)]\n",
    "fatjets2 = fatjets2[ak.num(fatjets2, axis=1)>1][:,0:2]\n",
    "\n",
    "\n",
    "print(\"\\nNakon precuta fatjets2:\", len(fatjets2))\n",
    "\n",
    "fatjets2_higgs_old_evtMask = higgsCandidateMask(fatjets2, version=\"old\")\n",
    "fatjets2_higgs_old = fatjets2[fatjets2_higgs_old_evtMask]\n",
    "fatjets2_higgs_old = fatjets2_higgs_old[ak.num(fatjets2_higgs_old)>0]\n",
    "\n",
    "\n",
    "print(\"\\nNakon stare selekcije\\nfatjets2_higgs_old:\", len(fatjets2_higgs_old))\n",
    "\n",
    "\n",
    "\n",
    "fatjets2_higgs_new_evtMask = higgsCandidateMask(fatjets2)\n",
    "fatjets2_higgs_new = fatjets2[fatjets2_higgs_new_evtMask]\n",
    "fatjets2_higgs_new = fatjets2_higgs_new[ak.num(fatjets2_higgs_new, axis=1)>0]\n",
    "\n",
    "\n",
    "\n",
    "print(\"\\nNakon nove selekcije\\nfatjets2_higgs_new:\", len(fatjets2_higgs_new))"
   ]
  },
  {
   "cell_type": "code",
   "execution_count": null,
   "id": "269930e9",
   "metadata": {},
   "outputs": [],
   "source": []
  }
 ],
 "metadata": {
  "kernelspec": {
   "display_name": "Python 3 (ipykernel)",
   "language": "python",
   "name": "python3"
  },
  "language_info": {
   "codemirror_mode": {
    "name": "ipython",
    "version": 3
   },
   "file_extension": ".py",
   "mimetype": "text/x-python",
   "name": "python",
   "nbconvert_exporter": "python",
   "pygments_lexer": "ipython3",
   "version": "3.9.14"
  }
 },
 "nbformat": 4,
 "nbformat_minor": 5
}
