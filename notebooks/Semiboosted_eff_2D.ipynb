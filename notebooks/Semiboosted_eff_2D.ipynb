{
 "cells": [
  {
   "cell_type": "code",
   "execution_count": 22,
   "id": "ca4d1924",
   "metadata": {},
   "outputs": [],
   "source": [
    "import uproot\n",
    "import awkward as ak\n",
    "import matplotlib.pyplot as plt\n",
    "import hist\n",
    "from hist import Hist\n",
    "from coffea.nanoevents import NanoEventsFactory, BaseSchema\n",
    "import coffea.processor as processor\n",
    "from coffea.nanoevents import NanoEventsFactory, NanoAODSchema\n",
    "import numpy as np\n",
    "import mplhep as hep"
   ]
  },
  {
   "cell_type": "code",
   "execution_count": 23,
   "id": "01c35057",
   "metadata": {},
   "outputs": [],
   "source": [
    "fileset = \"/eos/home-b/bchitrod/HHH/NANOAOD/TRSM_XToHY_6b_M3_2000_M2_1100_NANOAOD.root\" "
   ]
  },
  {
   "cell_type": "code",
   "execution_count": 24,
   "id": "8501af29",
   "metadata": {},
   "outputs": [],
   "source": [
    "eventsToRead = 10000\n",
    "events = NanoEventsFactory.from_root(fileset,schemaclass=NanoAODSchema,metadata={\"dataset\": \"testSignal\"},entry_stop=eventsToRead).events()"
   ]
  },
  {
   "cell_type": "code",
   "execution_count": 25,
   "id": "8d6b6253",
   "metadata": {},
   "outputs": [],
   "source": [
    "#useful functions\n",
    "def closest(masses):\n",
    "    delta = abs(125 - masses)\n",
    "    closest_masses = ak.min(delta, axis=1)\n",
    "    is_closest = (delta == closest_masses)\n",
    "    return is_closest\n",
    "\n",
    "def HbbvsQCD(fatjet):\n",
    "    score = (fatjet.particleNetMD_Xbb/(fatjet.particleNetMD_Xbb+fatjet.particleNetMD_QCD))\n",
    "    return score\n"
   ]
  },
  {
   "cell_type": "code",
   "execution_count": 26,
   "id": "b1e665d7",
   "metadata": {},
   "outputs": [
    {
     "name": "stdout",
     "output_type": "stream",
     "text": [
      "3398\n",
      "2535\n",
      "2535\n",
      "2478\n",
      "1864\n"
     ]
    }
   ],
   "source": [
    "\n",
    "\n",
    "    fatjets = events.FatJet\n",
    "    jets = events.Jet\n",
    "\n",
    "    ##FatJet cuts                                                                                                                                                                                                                                     \n",
    "    ptcut = 250\n",
    "    etacut = 2.5\n",
    "    mass_cut = [100,150]\n",
    "    pNet_cut = 0.9105\n",
    "\n",
    "    good_fatjets = fatjets[(fatjets.pt>ptcut) & (np.absolute(fatjets.eta)<etacut) & (fatjets.msoftdrop>=mass_cut[0]) & (fatjets.msoftdrop<=mass_cut[1])]\n",
    "    pre_semiboosted = good_fatjets[ak.num(good_fatjets, axis=1) == 2]\n",
    "    print(ak.num(pre_semiboosted,axis=0))\n",
    "    pre_boosted = good_fatjets[ak.num(good_fatjets, axis=1)> 2]\n",
    "    btag_semiboosted = pre_semiboosted[HbbvsQCD(pre_semiboosted)>=pNet_cut]\n",
    "    btag_boosted = pre_boosted[HbbvsQCD(pre_boosted)>=pNet_cut]\n",
    "    good_semiboosted = btag_semiboosted[ak.num(btag_semiboosted, axis=1) == 2]\n",
    "    good_boosted = btag_boosted[ak.num(btag_boosted, axis=1)> 2]\n",
    "    print(ak.num(good_semiboosted,axis=0))\n",
    "    \n",
    "    res_ptcut = 30\n",
    "    res_etacut = 2.5\n",
    "    res_mass_cut = [90,150]\n",
    "    # loose cut = 0.0532, med_cut = 0.3040, tight_cut = 0.7476 , https://twiki.cern.ch/twiki/bin/view/CMS/BtagRecommendation106XUL17                                                                                                                  \n",
    "    res_deepBcut = 0.0532\n",
    "\n",
    "    good_jets = jets[(jets.pt > res_ptcut) & (np.absolute(jets.eta) < res_etacut) & (jets.btagDeepB>res_deepBcut)]\n",
    "\n",
    "    res_jets = (good_jets[ak.num(btag_semiboosted, axis=1) == 2])\n",
    "    print(ak.num(res_jets,axis=0))\n",
    "    good_pairs = res_jets.nearest(good_semiboosted).delta_r(res_jets)>0.8\n",
    "    good_paired = res_jets[good_pairs]\n",
    "    res_bjets = (good_paired[ak.num(good_paired, axis=1) >= 2])\n",
    "    print(ak.num(res_bjets,axis=0))\n",
    "    dijets = ak.combinations(res_bjets, 2, fields=['i0', 'i1'])\n",
    "    dijet_masses = (dijets['i0'] + dijets['i1']).mass\n",
    "    # Get the masses closest to specified value (see function above)                                                                                                                                                                                  \n",
    "    is_closest = closest(dijet_masses)\n",
    "    closest_dijets = dijets[is_closest]\n",
    "\n",
    "    mass_jets = closest_dijets[((closest_dijets['i0'] + closest_dijets['i1']).mass>=res_mass_cut[0]) & ((closest_dijets['i0'] + closest_dijets['i1']).mass<=res_mass_cut[1])]\n",
    "    selected_jets = mass_jets[ak.num(mass_jets,axis=1)>0]\n",
    "    print(ak.num(selected_jets,axis=0))\n",
    "    selected_fatjets = good_semiboosted[ak.num(selected_jets, axis=1)>0]\n",
    "    semiboosted = ak.num(selected_fatjets,axis=0)"
   ]
  },
  {
   "cell_type": "code",
   "execution_count": 27,
   "id": "e869f23a",
   "metadata": {},
   "outputs": [
    {
     "name": "stdout",
     "output_type": "stream",
     "text": [
      "1864\n"
     ]
    }
   ],
   "source": [
    "print(semiboosted)"
   ]
  },
  {
   "cell_type": "code",
   "execution_count": 28,
   "id": "12183231",
   "metadata": {},
   "outputs": [
    {
     "name": "stdout",
     "output_type": "stream",
     "text": [
      "Efficiency =  18.64\n"
     ]
    }
   ],
   "source": [
    "print(\"Efficiency = \",semiboosted/100)"
   ]
  },
  {
   "cell_type": "code",
   "execution_count": null,
   "id": "954d350b",
   "metadata": {},
   "outputs": [],
   "source": []
  }
 ],
 "metadata": {
  "kernelspec": {
   "display_name": "Python 3",
   "language": "python",
   "name": "python3"
  },
  "language_info": {
   "codemirror_mode": {
    "name": "ipython",
    "version": 3
   },
   "file_extension": ".py",
   "mimetype": "text/x-python",
   "name": "python",
   "nbconvert_exporter": "python",
   "pygments_lexer": "ipython3",
   "version": "3.9.12"
  }
 },
 "nbformat": 4,
 "nbformat_minor": 5
}
