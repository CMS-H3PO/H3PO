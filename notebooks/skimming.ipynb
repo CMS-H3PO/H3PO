{
 "cells": [
  {
   "cell_type": "code",
   "execution_count": 1,
   "id": "7416ebec",
   "metadata": {},
   "outputs": [
    {
     "name": "stdout",
     "output_type": "stream",
     "text": [
      "Welcome to JupyROOT 6.24/07\n"
     ]
    }
   ],
   "source": [
    "import uproot\n",
    "import awkward as ak\n",
    "from coffea.nanoevents import NanoEventsFactory, BaseSchema, NanoAODSchema\n",
    "import numpy as np\n",
    "import ROOT as r"
   ]
  },
  {
   "cell_type": "code",
   "execution_count": 2,
   "id": "e4e58072",
   "metadata": {},
   "outputs": [],
   "source": [
    "fileToSkim   = \"root://cms-xrd-global.cern.ch///store/mc/RunIISummer19UL17NanoAODv2/QCD_HT1000to1500_TuneCP5_PSWeights_13TeV-madgraphMLM-pythia8/NANOAODSIM/106X_mc2017_realistic_v8-v1/250000/032CD0E4-6F4F-A049-A65C-0A24275AB0C2.root\"\n",
    "outputFile   = \"test.root\""
   ]
  },
  {
   "cell_type": "code",
   "execution_count": 4,
   "id": "25c523cd",
   "metadata": {},
   "outputs": [],
   "source": [
    "#Taken from https://github.com/CoffeaTeam/coffea/discussions/735\n",
    "\n",
    "def is_rootcompat(a):\n",
    "    \"\"\"Is it a flat or 1-d jagged array?\"\"\"\n",
    "    t = ak.type(a)\n",
    "    if isinstance(t, ak._ext.ArrayType):\n",
    "        if isinstance(t.type, ak._ext.PrimitiveType):\n",
    "            return True\n",
    "        if isinstance(t.type, ak._ext.ListType) and isinstance(t.type.type, ak._ext.PrimitiveType):\n",
    "            return True\n",
    "    return False\n",
    "\n",
    "def uproot_writeable(events):\n",
    "    \"\"\"Restrict to columns that uproot can write compactly\"\"\"\n",
    "    out = {}\n",
    "    for bname in events.fields:\n",
    "        if events[bname].fields:\n",
    "            out[bname] = ak.zip(\n",
    "                {\n",
    "                    n: ak.packed(ak.without_parameters(events[bname][n]))\n",
    "                    for n in events[bname].fields\n",
    "                    if is_rootcompat(events[bname][n])\n",
    "                }\n",
    "            )\n",
    "        else:\n",
    "            out[bname] = ak.packed(ak.without_parameters(events[bname]))\n",
    "    return out"
   ]
  },
  {
   "cell_type": "code",
   "execution_count": 5,
   "id": "e7fc4e79",
   "metadata": {},
   "outputs": [
    {
     "name": "stderr",
     "output_type": "stream",
     "text": [
      "/users/mrogul/Work/H3/H3env/lib/python3.9/site-packages/uproot/reading.py:171: FutureWarning: XRootD unknown is not fully supported; either upgrade to 5.2.0+ or set\n",
      "\n",
      "    open.defaults[\"xrootd_handler\"] = uproot.MultithreadedXRootDSource\n",
      "\n",
      "  warnings.warn(message, FutureWarning)\n"
     ]
    }
   ],
   "source": [
    "eventsToRead = None\n",
    "#eventsToRead = 10000\n",
    "events = NanoEventsFactory.from_root(fileToSkim,schemaclass=NanoAODSchema,entry_stop=eventsToRead).events()"
   ]
  },
  {
   "cell_type": "code",
   "execution_count": 6,
   "id": "8b425c25",
   "metadata": {},
   "outputs": [],
   "source": [
    "ptCut  = 200\n",
    "msdCut = 50\n",
    "etaCut = 2.5\n",
    "\n",
    "ptMask       = events.FatJet.pt>ptCut\n",
    "msdMask      = events.FatJet.msoftdrop>msdCut\n",
    "etaMask      = np.abs(events.FatJet.eta)<etaCut\n",
    "\n",
    "#We require at least two FatJets satisfying pt, eta and msd requirements\n",
    "#This allows for 3+0 or 2+1 (AK8Jet+AK4Jet topologies)\n",
    "skimmingMask = ak.sum(ptMask & msdMask & etaMask, axis=1)>1\n",
    "skimmed      = events[skimmingMask]"
   ]
  },
  {
   "cell_type": "code",
   "execution_count": 7,
   "id": "92891179",
   "metadata": {},
   "outputs": [
    {
     "name": "stderr",
     "output_type": "stream",
     "text": [
      "Warning in <TClass::Init>: no dictionary for class __pair_base<edm::Hash<1>,edm::ParameterSetBlob> is available\n"
     ]
    }
   ],
   "source": [
    "with uproot.recreate(outputFile) as fout:\n",
    "    fout[\"Events\"] = uproot_writeable(skimmed)\n",
    "    \n",
    "#Save Runs tree\n",
    "#Copying TTrees with uproot is not yet supported so we use ROOT directly\n",
    "inputFile  = r.TFile.Open(fileToSkim)\n",
    "runsTree   = inputFile.Get(\"Runs\")\n",
    "outputFile = r.TFile.Open(outputFile,\"UPDATE\")\n",
    "outputFile.cd()\n",
    "runsTree.CloneTree().Write()\n",
    "outputFile.Close()\n",
    "inputFile.Close()"
   ]
  }
 ],
 "metadata": {
  "kernelspec": {
   "display_name": "Python 3 (ipykernel)",
   "language": "python",
   "name": "python3"
  },
  "language_info": {
   "codemirror_mode": {
    "name": "ipython",
    "version": 3
   },
   "file_extension": ".py",
   "mimetype": "text/x-python",
   "name": "python",
   "nbconvert_exporter": "python",
   "pygments_lexer": "ipython3",
   "version": "3.9.6"
  }
 },
 "nbformat": 4,
 "nbformat_minor": 5
}
