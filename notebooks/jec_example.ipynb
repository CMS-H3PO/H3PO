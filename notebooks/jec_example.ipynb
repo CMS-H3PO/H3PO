{
 "cells": [
  {
   "cell_type": "markdown",
   "id": "0dd30e3b",
   "metadata": {},
   "source": [
    "## How to apply JEC with coffea?\n",
    "The boxes below take the JME-provided files to create an object that calibrates AK8 PUPPI jets"
   ]
  },
  {
   "cell_type": "code",
   "execution_count": 1,
   "id": "1d9d37fd",
   "metadata": {},
   "outputs": [],
   "source": [
    "import importlib.resources\n",
    "import contextlib\n",
    "from coffea.lookup_tools import extractor\n",
    "from coffea.jetmet_tools import JECStack, CorrectedJetsFactory, CorrectedMETFactory\n"
   ]
  },
  {
   "cell_type": "code",
   "execution_count": 2,
   "id": "6e76e385",
   "metadata": {},
   "outputs": [],
   "source": [
    "#Adapted from https://github.com/nsmith-/boostedhiggs/blob/cc/boostedhiggs/build_jec.py\n",
    "jec_name_map = {\n",
    "    'JetPt': 'pt',\n",
    "    'JetMass': 'mass',\n",
    "    'JetEta': 'eta',\n",
    "    'JetA': 'area',\n",
    "    'ptGenJet': 'pt_gen',\n",
    "    'ptRaw': 'pt_raw',\n",
    "    'massRaw': 'mass_raw',\n",
    "    'Rho': 'event_rho',\n",
    "    'METpt': 'pt',\n",
    "    'METphi': 'phi',\n",
    "    'JetPhi': 'phi',\n",
    "    'UnClusteredEnergyDeltaX': 'MetUnclustEnUpDeltaX',\n",
    "    'UnClusteredEnergyDeltaY': 'MetUnclustEnUpDeltaY',\n",
    "}\n",
    "\n",
    "\n",
    "def jet_factory_factory(files,path):\n",
    "    ext = extractor()\n",
    "    with contextlib.ExitStack() as stack:\n",
    "        # this would work even in zipballs but since extractor keys on file extension and\n",
    "        # importlib make a random tempfile, it won't work. coffea needs to enable specifying the type manually\n",
    "        # for now we run this whole module as $ python -m boostedhiggs.build_jec boostedhiggs/data/jec_compiled.pkl.gz\n",
    "        # so the compiled value can be loaded using the importlib tool in corrections.py\n",
    "        real_files = [path+f for f in files]\n",
    "        ext.add_weight_sets([f\"* * {file}\" for file in real_files])\n",
    "        ext.finalize()\n",
    "\n",
    "    jec_stack = JECStack(ext.make_evaluator())\n",
    "    return CorrectedJetsFactory(jec_name_map, jec_stack)\n"
   ]
  },
  {
   "cell_type": "markdown",
   "id": "954a1b90",
   "metadata": {},
   "source": [
    "The .jec, .junc, .jr and .jersf tell the `JECStack` what is the nature of the payload. From the name of the file, it figures out which correction it is and applies them in proper order (L1, L2, L3, L2L3) "
   ]
  },
  {
   "cell_type": "code",
   "execution_count": 3,
   "id": "8c7e6746",
   "metadata": {
    "scrolled": true
   },
   "outputs": [
    {
     "name": "stdout",
     "output_type": "stream",
     "text": [
      "Done\n"
     ]
    }
   ],
   "source": [
    "#UL \n",
    "#JEC from https://twiki.cern.ch/twiki/bin/view/CMS/JECDataMC#Recommended_for_MC\n",
    "#JER from https://github.com/cms-jet/JRDatabase/tree/master/tarballs\n",
    "fatjet_factory = {    \n",
    "    \"2016APVmc\": jet_factory_factory(\n",
    "        files=[\n",
    "            \"Summer19UL16APV_V7_MC_L1FastJet_AK8PFPuppi.jec.txt.gz\",\n",
    "            \"Summer19UL16APV_V7_MC_L2Relative_AK8PFPuppi.jec.txt.gz\",\n",
    "            \"Summer19UL16APV_V7_MC_L2L3Residual_AK8PFPuppi.jec.txt.gz\",\n",
    "            \"Summer19UL16APV_V7_MC_L2Residual_AK8PFPuppi.jec.txt.gz\",\n",
    "            \"Summer19UL16APV_V7_MC_L3Absolute_AK8PFPuppi.jec.txt.gz\",\n",
    "            \"Summer19UL16APV_V7_MC_Uncertainty_AK8PFPuppi.junc.txt.gz\",\n",
    "            \"Summer19UL16APV_V7_MC_UncertaintySources_AK8PFPuppi.junc.txt.gz\",\n",
    "            \"Summer20UL16APV_JRV3_MC_PtResolution_AK8PFPuppi.jr.txt.gz\",\n",
    "            \"Summer20UL16APV_JRV3_MC_SF_AK8PFPuppi.jersf.txt.gz\"\n",
    "        ],path=\"../data/jec/2016APV/\"\n",
    "    ),\n",
    "        \"2016mc\": jet_factory_factory(\n",
    "        files=[\n",
    "            \"Summer19UL16_V7_MC_L1FastJet_AK8PFPuppi.jec.txt.gz\",\n",
    "            \"Summer19UL16_V7_MC_L2Relative_AK8PFPuppi.jec.txt.gz\",\n",
    "            \"Summer19UL16_V7_MC_L2L3Residual_AK8PFPuppi.jec.txt.gz\",\n",
    "            \"Summer19UL16_V7_MC_L2Residual_AK8PFPuppi.jec.txt.gz\",\n",
    "            \"Summer19UL16_V7_MC_L3Absolute_AK8PFPuppi.jec.txt.gz\",\n",
    "            \"Summer19UL16_V7_MC_Uncertainty_AK8PFPuppi.junc.txt.gz\",\n",
    "            \"Summer19UL16_V7_MC_UncertaintySources_AK8PFPuppi.junc.txt.gz\",\n",
    "            \"Summer20UL16_JRV3_MC_PtResolution_AK8PFPuppi.jr.txt.gz\",\n",
    "            \"Summer20UL16_JRV3_MC_SF_AK8PFPuppi.jersf.txt.gz\"\n",
    "        ],path=\"../data/jec/2016/\"\n",
    "    ),\n",
    "        \"2017mc\": jet_factory_factory(\n",
    "        files=[\n",
    "            \"Summer19UL17_V5_MC_L1FastJet_AK8PFPuppi.jec.txt.gz\",\n",
    "            \"Summer19UL17_V5_MC_L2Relative_AK8PFPuppi.jec.txt.gz\",\n",
    "            \"Summer19UL17_V5_MC_L2L3Residual_AK8PFPuppi.jec.txt.gz\",\n",
    "            \"Summer19UL17_V5_MC_L2Residual_AK8PFPuppi.jec.txt.gz\",\n",
    "            \"Summer19UL17_V5_MC_L3Absolute_AK8PFPuppi.jec.txt.gz\",\n",
    "            \"Summer19UL17_V5_MC_Uncertainty_AK8PFPuppi.junc.txt.gz\",\n",
    "            \"Summer19UL17_V5_MC_UncertaintySources_AK8PFPuppi.junc.txt.gz\",\n",
    "            \"Summer19UL17_JRV3_MC_PtResolution_AK8PFPuppi.jr.txt.gz\",\n",
    "            \"Summer19UL17_JRV3_MC_SF_AK8PFPuppi.jersf.txt.gz\"\n",
    "        ],path=\"../data/jec/2017/\"\n",
    "    ),\n",
    "        \"2017mcNoL2Res\": jet_factory_factory(\n",
    "        files=[\n",
    "            \"Summer19UL17_V5_MC_L1FastJet_AK8PFPuppi.jec.txt.gz\",\n",
    "            \"Summer19UL17_V5_MC_L2Relative_AK8PFPuppi.jec.txt.gz\",\n",
    "            \"Summer19UL17_V5_MC_L2L3Residual_AK8PFPuppi.jec.txt.gz\",\n",
    "            #\"Summer19UL17_V5_MC_L2Residual_AK8PFPuppi.jec.txt.gz\", #Looks like L2Res does not change the result, included in L2L23 Residual?\n",
    "            \"Summer19UL17_V5_MC_L3Absolute_AK8PFPuppi.jec.txt.gz\",\n",
    "            \"Summer19UL17_V5_MC_Uncertainty_AK8PFPuppi.junc.txt.gz\",\n",
    "            \"Summer19UL17_V5_MC_UncertaintySources_AK8PFPuppi.junc.txt.gz\",\n",
    "            \"Summer19UL17_JRV3_MC_PtResolution_AK8PFPuppi.jr.txt.gz\",\n",
    "            \"Summer19UL17_JRV3_MC_SF_AK8PFPuppi.jersf.txt.gz\"\n",
    "        ],path=\"../data/jec/2017/\"\n",
    "    ),\n",
    "        \"2018mc\": jet_factory_factory(\n",
    "        files=[\n",
    "        \"Summer19UL18_V5_MC_L1FastJet_AK8PFPuppi.jec.txt.gz\",\n",
    "        \"Summer19UL18_V5_MC_L2Relative_AK8PFPuppi.jec.txt.gz\",\n",
    "        \"Summer19UL18_V5_MC_L2L3Residual_AK8PFPuppi.jec.txt.gz\",\n",
    "        \"Summer19UL18_V5_MC_L2Residual_AK8PFPuppi.jec.txt.gz\",\n",
    "        \"Summer19UL18_V5_MC_L3Absolute_AK8PFPuppi.jec.txt.gz\",\n",
    "        \"Summer19UL18_V5_MC_Uncertainty_AK8PFPuppi.junc.txt.gz\",\n",
    "        \"Summer19UL18_V5_MC_UncertaintySources_AK8PFPuppi.junc.txt.gz\",\n",
    "        \"Summer19UL18_JRV2_MC_PtResolution_AK8PFPuppi.jr.txt.gz\",\n",
    "        \"Summer19UL18_JRV2_MC_SF_AK8PFPuppi.jersf.txt.gz\"\n",
    "\n",
    "        ],path=\"../data/jec/2018/\"\n",
    "    )\n",
    "}\n",
    "\n",
    "\n",
    "if __name__ == \"__main__\":\n",
    "    import gzip\n",
    "    import cloudpickle\n",
    "    \n",
    "    with gzip.open(\"jme_UL_pickled.pkl\", \"wb\") as fout:\n",
    "        cloudpickle.dump(\n",
    "            {\n",
    "                \"fatjet_factory\": fatjet_factory,\n",
    "            },\n",
    "            fout\n",
    "        )\n",
    "    print(\"Done\")"
   ]
  },
  {
   "cell_type": "markdown",
   "id": "9dca7192",
   "metadata": {},
   "source": [
    "## Using the calibrator object\n",
    "The above box stored a \"fatjet_factory\" dictionary that contains MC calibrations separated per year.<br>\n",
    "We will now load it and apply it to the FaJets collection"
   ]
  },
  {
   "cell_type": "code",
   "execution_count": 4,
   "id": "739eb034",
   "metadata": {},
   "outputs": [],
   "source": [
    "import gzip\n",
    "import cloudpickle\n",
    "with gzip.open(\"jme_UL_pickled.pkl\") as fin:\n",
    "    jmestuff = cloudpickle.load(fin)\n",
    "    fatjet_factory = jmestuff[\"fatjet_factory\"]"
   ]
  },
  {
   "cell_type": "code",
   "execution_count": 5,
   "id": "7e221dd6",
   "metadata": {},
   "outputs": [],
   "source": [
    "def add_jec_variables(jets, event_rho):\n",
    "    jets[\"pt_raw\"] = (1 - jets.rawFactor)*jets.pt\n",
    "    jets[\"mass_raw\"] = (1 - jets.rawFactor)*jets.mass\n",
    "    jets[\"pt_gen\"] = ak.values_astype(ak.fill_none(jets.matched_gen.pt, 0), np.float32)\n",
    "    jets[\"event_rho\"] = ak.broadcast_arrays(event_rho, jets.pt)[0]\n",
    "    return jets"
   ]
  },
  {
   "cell_type": "code",
   "execution_count": 6,
   "id": "95bc966f",
   "metadata": {},
   "outputs": [
    {
     "name": "stdout",
     "output_type": "stream",
     "text": [
      "Welcome to JupyROOT 6.24/07\n"
     ]
    }
   ],
   "source": [
    "import numpy as np\n",
    "import awkward as ak\n",
    "import ROOT\n",
    "from coffea.nanoevents import NanoEventsFactory, NanoAODSchema\n",
    "import hist\n",
    "from hist import Hist"
   ]
  },
  {
   "cell_type": "code",
   "execution_count": 7,
   "id": "df074d45",
   "metadata": {},
   "outputs": [],
   "source": [
    "events = NanoEventsFactory.from_root(\"/STORE/matej/H3_skims/2017/TTbarHadronic/DBADF3D8-7C75-F74B-99AF-7AF0D41083BE.root\",schemaclass=NanoAODSchema,metadata={\"dataset\":\"\"},entry_stop=None).events()"
   ]
  },
  {
   "cell_type": "code",
   "execution_count": 8,
   "id": "9e5cb30b",
   "metadata": {},
   "outputs": [
    {
     "name": "stderr",
     "output_type": "stream",
     "text": [
      "/tmp/ipykernel_3365042/3890649366.py:4: DeprecationWarning: In version 1.7.0 (target date: 2021-10-01), this will be changed.\n",
      "\n",
      "To raise these warnings as errors (and get stack traces to find out where they're called), run\n",
      "\n",
      "    import warnings\n",
      "    warnings.filterwarnings(\"error\", module=\"awkward.*\")\n",
      "\n",
      "after the first `import awkward` or use `@pytest.mark.filterwarnings(\"error:::awkward.*\")` in pytest.\n",
      "\n",
      "Issue: ak.fill_none needs an explicit `axis` because the default will change to `axis=-1`.\n",
      "  jets[\"pt_gen\"] = ak.values_astype(ak.fill_none(jets.matched_gen.pt, 0), np.float32)\n"
     ]
    }
   ],
   "source": [
    "jec_cache = {}\n",
    "fatjets    = events.FatJet\n",
    "fatjets_calib = fatjet_factory[\"2017mc\"].build(add_jec_variables(events.FatJet, events.fixedGridRhoFastjetAll), jec_cache)\n",
    "fatjets_calib_no_L2Res = fatjet_factory[\"2017mcNoL2Res\"].build(add_jec_variables(events.FatJet, events.fixedGridRhoFastjetAll), jec_cache)"
   ]
  },
  {
   "cell_type": "code",
   "execution_count": 9,
   "id": "5a8b0dd0",
   "metadata": {},
   "outputs": [
    {
     "name": "stdout",
     "output_type": "stream",
     "text": [
      "332.25\n",
      "330.85260009765625\n",
      "332.6395263671875\n",
      "329.065673828125\n",
      "331.6187744140625\n",
      "330.08782958984375\n"
     ]
    }
   ],
   "source": [
    "print(fatjets.pt[0][0])\n",
    "print(fatjets_calib.pt[0][0])\n",
    "print(fatjets_calib.JES_jes.up.pt[0][0])\n",
    "print(fatjets_calib.JES_jes.down.pt[0][0])\n",
    "print(fatjets_calib.JER.down.pt[0][0])\n",
    "print(fatjets_calib.JER.up.pt[0][0])"
   ]
  },
  {
   "cell_type": "markdown",
   "id": "6a88b988",
   "metadata": {},
   "source": [
    "Looks like there is some difference between pt in the NanoAOD and the calibrated pt. Either the MC dataset does not contain the latest and greatest JEC or I messed up the implementation.<br>\n",
    "Also, by comparing the output of boxes above and below, I conclude that L2Res payload does not contribute to JEC. This makes sense because L2Res is part of L2L3Res that we already apply."
   ]
  },
  {
   "cell_type": "code",
   "execution_count": 10,
   "id": "076600e3",
   "metadata": {},
   "outputs": [
    {
     "name": "stdout",
     "output_type": "stream",
     "text": [
      "330.85260009765625\n",
      "332.6395263671875\n",
      "329.065673828125\n",
      "331.6187744140625\n",
      "330.08782958984375\n"
     ]
    }
   ],
   "source": [
    "print(fatjets_calib_no_L2Res.pt[0][0])\n",
    "print(fatjets_calib_no_L2Res.JES_jes.up.pt[0][0])\n",
    "print(fatjets_calib_no_L2Res.JES_jes.down.pt[0][0])\n",
    "print(fatjets_calib_no_L2Res.JER.down.pt[0][0])\n",
    "print(fatjets_calib_no_L2Res.JER.up.pt[0][0])"
   ]
  },
  {
   "cell_type": "code",
   "execution_count": null,
   "id": "0eb14c0e",
   "metadata": {},
   "outputs": [],
   "source": []
  }
 ],
 "metadata": {
  "kernelspec": {
   "display_name": "Python 3 (ipykernel)",
   "language": "python",
   "name": "python3"
  },
  "language_info": {
   "codemirror_mode": {
    "name": "ipython",
    "version": 3
   },
   "file_extension": ".py",
   "mimetype": "text/x-python",
   "name": "python",
   "nbconvert_exporter": "python",
   "pygments_lexer": "ipython3",
   "version": "3.9.6"
  }
 },
 "nbformat": 4,
 "nbformat_minor": 5
}
