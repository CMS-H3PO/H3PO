{
 "cells": [
  {
   "cell_type": "code",
   "execution_count": 37,
   "id": "1d9d37fd",
   "metadata": {},
   "outputs": [],
   "source": [
    "import importlib.resources\n",
    "import contextlib\n",
    "from coffea.lookup_tools import extractor\n",
    "from coffea.jetmet_tools import JECStack, CorrectedJetsFactory, CorrectedMETFactory\n"
   ]
  },
  {
   "cell_type": "code",
   "execution_count": 38,
   "id": "6e76e385",
   "metadata": {},
   "outputs": [],
   "source": [
    "#Stolen from https://github.com/nsmith-/boostedhiggs/blob/cc/boostedhiggs/build_jec.py\n",
    "jec_name_map = {\n",
    "    'JetPt': 'pt',\n",
    "    'JetMass': 'mass',\n",
    "    'JetEta': 'eta',\n",
    "    'JetA': 'area',\n",
    "    'ptGenJet': 'pt_gen',\n",
    "    'ptRaw': 'pt_raw',\n",
    "    'massRaw': 'mass_raw',\n",
    "    'Rho': 'event_rho',\n",
    "    'METpt': 'pt',\n",
    "    'METphi': 'phi',\n",
    "    'JetPhi': 'phi',\n",
    "    'UnClusteredEnergyDeltaX': 'MetUnclustEnUpDeltaX',\n",
    "    'UnClusteredEnergyDeltaY': 'MetUnclustEnUpDeltaY',\n",
    "}\n",
    "\n",
    "\n",
    "def jet_factory_factory(files):\n",
    "    ext = extractor()\n",
    "    with contextlib.ExitStack() as stack:\n",
    "        # this would work even in zipballs but since extractor keys on file extension and\n",
    "        # importlib make a random tempfile, it won't work. coffea needs to enable specifying the type manually\n",
    "        # for now we run this whole module as $ python -m boostedhiggs.build_jec boostedhiggs/data/jec_compiled.pkl.gz\n",
    "        # so the compiled value can be loaded using the importlib tool in corrections.py\n",
    "        real_files = [\"data/\"+f for f in files]\n",
    "        ext.add_weight_sets([f\"* * {file}\" for file in real_files])\n",
    "        ext.finalize()\n",
    "\n",
    "    jec_stack = JECStack(ext.make_evaluator())\n",
    "    return CorrectedJetsFactory(jec_name_map, jec_stack)\n"
   ]
  },
  {
   "cell_type": "code",
   "execution_count": 39,
   "id": "94e022a1",
   "metadata": {},
   "outputs": [
    {
     "name": "stdout",
     "output_type": "stream",
     "text": [
      "Done\n"
     ]
    }
   ],
   "source": [
    "#Need to update to UL\n",
    "fatjet_factory = {    \n",
    "    \"2016mc\": jet_factory_factory(\n",
    "        files=[\n",
    "            # https://github.com/cms-jet/JECDatabase/raw/master/textFiles/Summer16_07Aug2017_V11_MC/Summer16_07Aug2017_V11_MC_L1FastJet_AK8PFPuppi.txt\n",
    "            \"Summer16_07Aug2017_V11_MC_L1FastJet_AK8PFPuppi.jec.txt.gz\",\n",
    "            # https://github.com/cms-jet/JECDatabase/raw/master/textFiles/Summer16_07Aug2017_V11_MC/Summer16_07Aug2017_V11_MC_L2Relative_AK8PFPuppi.txt\n",
    "            \"Summer16_07Aug2017_V11_MC_L2Relative_AK8PFPuppi.jec.txt.gz\",\n",
    "            # https://github.com/cms-jet/JECDatabase/raw/master/textFiles/Summer16_07Aug2017_V11_MC/Summer16_07Aug2017_V11_MC_UncertaintySources_AK8PFPuppi.txt\n",
    "            \"Summer16_07Aug2017_V11_MC_UncertaintySources_AK8PFPuppi.junc.txt.gz\",\n",
    "            # https://github.com/cms-jet/JECDatabase/raw/master/textFiles/Summer16_07Aug2017_V11_MC/Summer16_07Aug2017_V11_MC_Uncertainty_AK8PFPuppi.txt\n",
    "            \"Summer16_07Aug2017_V11_MC_Uncertainty_AK8PFPuppi.junc.txt.gz\",\n",
    "            # https://github.com/cms-jet/JRDatabase/raw/master/textFiles/Summer16_25nsV1b_MC/Summer16_25nsV1b_MC_PtResolution_AK8PFPuppi.txt\n",
    "            \"Summer16_25nsV1b_MC_PtResolution_AK8PFPuppi.jr.txt.gz\",\n",
    "            # https://github.com/cms-jet/JRDatabase/raw/master/textFiles/Summer16_25nsV1b_MC/Summer16_25nsV1b_MC_SF_AK8PFPuppi.txt\n",
    "            \"Summer16_25nsV1b_MC_SF_AK8PFPuppi.jersf.txt.gz\",\n",
    "        ]\n",
    "    ),\n",
    "    \"2017mc\": jet_factory_factory(\n",
    "        files=[\n",
    "            # https://github.com/cms-jet/JECDatabase/raw/master/textFiles/Fall17_17Nov2017_V32_MC/Fall17_17Nov2017_V32_MC_L1FastJet_AK8PFPuppi.txt\n",
    "            \"Fall17_17Nov2017_V32_MC_L1FastJet_AK8PFPuppi.jec.txt.gz\",\n",
    "            # https://github.com/cms-jet/JECDatabase/raw/master/textFiles/Fall17_17Nov2017_V32_MC/Fall17_17Nov2017_V32_MC_L2Relative_AK8PFPuppi.txt\n",
    "            \"Fall17_17Nov2017_V32_MC_L2Relative_AK8PFPuppi.jec.txt.gz\",\n",
    "            # https://raw.githubusercontent.com/cms-jet/JECDatabase/master/textFiles/Fall17_17Nov2017_V32_MC/Fall17_17Nov2017_V32_MC_UncertaintySources_AK8PFPuppi.txt\n",
    "            \"Fall17_17Nov2017_V32_MC_UncertaintySources_AK8PFPuppi.junc.txt.gz\",\n",
    "            # https://github.com/cms-jet/JECDatabase/raw/master/textFiles/Fall17_17Nov2017_V32_MC/Fall17_17Nov2017_V32_MC_Uncertainty_AK8PFPuppi.txt\n",
    "            \"Fall17_17Nov2017_V32_MC_Uncertainty_AK8PFPuppi.junc.txt.gz\",\n",
    "            # https://github.com/cms-jet/JRDatabase/raw/master/textFiles/Fall17_V3b_MC/Fall17_V3b_MC_PtResolution_AK8PFPuppi.txt\n",
    "            \"Fall17_V3b_MC_PtResolution_AK8PFPuppi.jr.txt.gz\",\n",
    "            # https://github.com/cms-jet/JRDatabase/raw/master/textFiles/Fall17_V3b_MC/Fall17_V3b_MC_SF_AK8PFPuppi.txt\n",
    "            \"Fall17_V3b_MC_SF_AK8PFPuppi.jersf.txt.gz\",\n",
    "        ]\n",
    "    ),\n",
    "    \"2018mc\": jet_factory_factory(\n",
    "        files=[\n",
    "            # https://github.com/cms-jet/JECDatabase/raw/master/textFiles/Autumn18_V19_MC/Autumn18_V19_MC_L1FastJet_AK8PFPuppi.txt\n",
    "            \"Autumn18_V19_MC_L1FastJet_AK8PFPuppi.jec.txt.gz\",\n",
    "            # https://github.com/cms-jet/JECDatabase/raw/master/textFiles/Autumn18_V19_MC/Autumn18_V19_MC_L2Relative_AK8PFPuppi.txt\n",
    "            \"Autumn18_V19_MC_L2Relative_AK8PFPuppi.jec.txt.gz\",\n",
    "            # https://raw.githubusercontent.com/cms-jet/JECDatabase/master/textFiles/Autumn18_V19_MC/Autumn18_V19_MC_UncertaintySources_AK8PFPuppi.txt\n",
    "            \"Autumn18_V19_MC_UncertaintySources_AK8PFPuppi.junc.txt.gz\",\n",
    "            # https://github.com/cms-jet/JECDatabase/raw/master/textFiles/Autumn18_V19_MC/Autumn18_V19_MC_Uncertainty_AK8PFPuppi.txt\n",
    "            \"Autumn18_V19_MC_Uncertainty_AK8PFPuppi.junc.txt.gz\",\n",
    "            # https://github.com/cms-jet/JRDatabase/raw/master/textFiles/Autumn18_V7b_MC/Autumn18_V7b_MC_PtResolution_AK8PFPuppi.txt\n",
    "            \"Autumn18_V7b_MC_PtResolution_AK8PFPuppi.jr.txt.gz\",\n",
    "            # https://github.com/cms-jet/JRDatabase/raw/master/textFiles/Autumn18_V7b_MC/Autumn18_V7b_MC_SF_AK8PFPuppi.txt\n",
    "            \"Autumn18_V7b_MC_SF_AK8PFPuppi.jersf.txt.gz\",\n",
    "        ]\n",
    "    )\n",
    "}\n",
    "\n",
    "\n",
    "if __name__ == \"__main__\":\n",
    "    import sys\n",
    "    import gzip\n",
    "    # jme stuff not pickleable in coffea\n",
    "    import cloudpickle\n",
    "\n",
    "    with gzip.open(\"jme_pickled.pkl\", \"wb\") as fout:\n",
    "        cloudpickle.dump(\n",
    "            {\n",
    "                \"fatjet_factory\": fatjet_factory,\n",
    "            },\n",
    "            fout\n",
    "        )\n",
    "    print(\"Done\")\n",
    "        "
   ]
  },
  {
   "cell_type": "code",
   "execution_count": 40,
   "id": "739eb034",
   "metadata": {},
   "outputs": [],
   "source": [
    "with gzip.open(\"jme_pickled.pkl\") as fin:\n",
    "    jmestuff = cloudpickle.load(fin)"
   ]
  },
  {
   "cell_type": "code",
   "execution_count": 41,
   "id": "7e221dd6",
   "metadata": {},
   "outputs": [],
   "source": [
    "def add_jec_variables(jets, event_rho):\n",
    "    jets[\"pt_raw\"] = (1 - jets.rawFactor)*jets.pt\n",
    "    jets[\"mass_raw\"] = (1 - jets.rawFactor)*jets.mass\n",
    "    jets[\"pt_gen\"] = ak.values_astype(ak.fill_none(jets.matched_gen.pt, 0), np.float32)\n",
    "    jets[\"event_rho\"] = ak.broadcast_arrays(event_rho, jets.pt)[0]\n",
    "    return jets"
   ]
  },
  {
   "cell_type": "code",
   "execution_count": 42,
   "id": "95bc966f",
   "metadata": {},
   "outputs": [],
   "source": [
    "import numpy as np\n",
    "import awkward as ak\n",
    "import ROOT\n",
    "from coffea.nanoevents import NanoEventsFactory, NanoAODSchema\n",
    "import hist\n",
    "from hist import Hist"
   ]
  },
  {
   "cell_type": "code",
   "execution_count": 43,
   "id": "df074d45",
   "metadata": {},
   "outputs": [],
   "source": [
    "events = NanoEventsFactory.from_root(\"/STORE/matej/H3_skims/2017/TTbarHadronic/DBADF3D8-7C75-F74B-99AF-7AF0D41083BE.root\",schemaclass=NanoAODSchema,metadata={\"dataset\":\"\"},entry_stop=None).events()"
   ]
  },
  {
   "cell_type": "code",
   "execution_count": 44,
   "id": "9e5cb30b",
   "metadata": {},
   "outputs": [
    {
     "name": "stderr",
     "output_type": "stream",
     "text": [
      "/tmp/ipykernel_3460122/3890649366.py:4: DeprecationWarning: In version 1.7.0 (target date: 2021-10-01), this will be changed.\n",
      "\n",
      "To raise these warnings as errors (and get stack traces to find out where they're called), run\n",
      "\n",
      "    import warnings\n",
      "    warnings.filterwarnings(\"error\", module=\"awkward.*\")\n",
      "\n",
      "after the first `import awkward` or use `@pytest.mark.filterwarnings(\"error:::awkward.*\")` in pytest.\n",
      "\n",
      "Issue: ak.fill_none needs an explicit `axis` because the default will change to `axis=-1`.\n",
      "  jets[\"pt_gen\"] = ak.values_astype(ak.fill_none(jets.matched_gen.pt, 0), np.float32)\n"
     ]
    }
   ],
   "source": [
    "jec_cache = {}\n",
    "fatjets = fatjet_factory[\"2016mc\"].build(add_jec_variables(events.FatJet, events.fixedGridRhoFastjetAll), jec_cache)"
   ]
  },
  {
   "cell_type": "code",
   "execution_count": 45,
   "id": "c6a3c6a1",
   "metadata": {},
   "outputs": [
    {
     "data": {
      "text/plain": [
       "336.83074951171875"
      ]
     },
     "execution_count": 45,
     "metadata": {},
     "output_type": "execute_result"
    }
   ],
   "source": [
    "fatjets.pt[0][0]"
   ]
  },
  {
   "cell_type": "code",
   "execution_count": 46,
   "id": "5a8b0dd0",
   "metadata": {},
   "outputs": [
    {
     "name": "stdout",
     "output_type": "stream",
     "text": [
      "339.1488342285156\n",
      "334.5126647949219\n",
      "337.3371276855469\n",
      "336.32440185546875\n"
     ]
    }
   ],
   "source": [
    "print(fatjets.JES_jes.up.pt[0][0])\n",
    "print(fatjets.JES_jes.down.pt[0][0])\n",
    "print(fatjets.JER.down.pt[0][0])\n",
    "print(fatjets.JER.up.pt[0][0])"
   ]
  },
  {
   "cell_type": "code",
   "execution_count": null,
   "id": "076600e3",
   "metadata": {},
   "outputs": [],
   "source": []
  }
 ],
 "metadata": {
  "kernelspec": {
   "display_name": "Python 3 (ipykernel)",
   "language": "python",
   "name": "python3"
  },
  "language_info": {
   "codemirror_mode": {
    "name": "ipython",
    "version": 3
   },
   "file_extension": ".py",
   "mimetype": "text/x-python",
   "name": "python",
   "nbconvert_exporter": "python",
   "pygments_lexer": "ipython3",
   "version": "3.9.6"
  }
 },
 "nbformat": 4,
 "nbformat_minor": 5
}
