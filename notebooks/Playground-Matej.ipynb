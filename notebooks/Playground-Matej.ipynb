{
 "cells": [
  {
   "cell_type": "markdown",
   "id": "a745633c",
   "metadata": {},
   "source": [
    "## Testing the \"addition\" of FatJets\n",
    "What does FatJet[i]+FatJet[j] do?\n",
    "After testing, the conclusion is that it performs a 4-vec addition based on FatJet_mass, _pt, _eta and _phi branches\n",
    "\n",
    "It returns a four-vector object"
   ]
  },
  {
   "cell_type": "code",
   "execution_count": 22,
   "id": "7193dd75",
   "metadata": {},
   "outputs": [],
   "source": [
    "import numpy as np\n",
    "import awkward as ak\n",
    "import ROOT\n",
    "from coffea.nanoevents import NanoEventsFactory, NanoAODSchema\n",
    "import hist\n",
    "from hist import Hist"
   ]
  },
  {
   "cell_type": "code",
   "execution_count": 3,
   "id": "6766abba",
   "metadata": {},
   "outputs": [],
   "source": [
    "#---------------------------------------------\n",
    "# Selection cuts\n",
    "#---------------------------------------------\n",
    "higgs_mass = 125.\n",
    "delta_r_cut = 0.8\n",
    "min_jet_mass = 50.\n",
    "\n",
    "# FatJet cuts\n",
    "ptcut = 250.\n",
    "etacut = 2.5\n",
    "mass_cut = [100.,150.]\n",
    "pNet_cut = 0.9105\n",
    "\n",
    "# Resolved jet cuts\n",
    "res_ptcut = 30.\n",
    "res_etacut = 2.5\n",
    "res_mass_cut = [90.,150.]\n",
    "# loose cut = 0.0532, med_cut = 0.3040, tight_cut = 0.7476 , https://twiki.cern.ch/twiki/bin/view/CMS/BtagRecommendation106XUL17   \n",
    "res_deepBcut = 0.0532\n",
    "#---------------------------------------------\n",
    "\n",
    "\n",
    "def closest(masses):\n",
    "    delta = abs(higgs_mass - masses)\n",
    "    min_delta = ak.min(delta, axis=1)\n",
    "    is_closest = (delta == min_delta)\n",
    "    return is_closest\n",
    "\n",
    "\n",
    "def HbbvsQCD(fatjet):\n",
    "    score = (fatjet.particleNetMD_Xbb/(fatjet.particleNetMD_Xbb+fatjet.particleNetMD_QCD))\n",
    "    return score\n",
    "\n",
    "\n",
    "def precut(fatjets):\n",
    "    return (fatjets.pt>ptcut) & (np.absolute(fatjets.eta)<etacut)\n",
    "\n",
    "\n",
    "def FailPassCategories(fatjets, jets=None):\n",
    "    # sort the fat jets in the descending pNet HbbvsQCD score\n",
    "    sorted_fatjets = fatjets[ak.argsort(-HbbvsQCD(fatjets),axis=-1)]\n",
    "\n",
    "    # fail region: 0 fat jets passing the pNet cut\n",
    "    # pass region: at least 1 fat jets passing the pNet cut\n",
    "    fail_mask = (HbbvsQCD(sorted_fatjets[:,0])<pNet_cut)\n",
    "    pass_mask = (HbbvsQCD(sorted_fatjets[:,0])>pNet_cut)\n",
    "    if jets is not None:\n",
    "        return fatjets[fail_mask], fatjets[pass_mask], jets[fail_mask], jets[pass_mask]\n",
    "    else:\n",
    "        return fatjets[fail_mask], fatjets[pass_mask]\n",
    "\n",
    "\n",
    "def FatJetMassCut_SR(fatjets):\n",
    "    return (fatjets.msoftdrop>=mass_cut[0]) & (fatjets.msoftdrop<=mass_cut[1])\n",
    "\n",
    "\n",
    "def FatJetMassCut_VR_boosted(fatjets):\n",
    "    return (((fatjets[:,0].msoftdrop<mass_cut[0]) | (fatjets.msoftdrop[:,0]>mass_cut[1])) & (fatjets[:,0].msoftdrop>min_jet_mass) \n",
    "    & (fatjets[:,1].msoftdrop>min_jet_mass) & ((fatjets[:,1].msoftdrop<mass_cut[0]) | (fatjets[:,1].msoftdrop>mass_cut[1])) \n",
    "    & (fatjets[:,2].msoftdrop>=mass_cut[0]) & (fatjets[:,2].msoftdrop<=mass_cut[1]))\n",
    "\n",
    "\n",
    "def VR_semiboosted_mask(fatjets):\n",
    "    return ((fatjets.msoftdrop<mass_cut[0]) | (fatjets.msoftdrop>mass_cut[1])) & (fatjets.msoftdrop>min_jet_mass)"
   ]
  },
  {
   "cell_type": "code",
   "execution_count": 4,
   "id": "17628c37",
   "metadata": {},
   "outputs": [],
   "source": [
    "events = NanoEventsFactory.from_root(\"/STORE/matej/H3_skims/2017/TTbarHadronic/DBADF3D8-7C75-F74B-99AF-7AF0D41083BE.root\",schemaclass=NanoAODSchema,metadata={\"dataset\":\"\"},entry_stop=None).events()"
   ]
  },
  {
   "cell_type": "code",
   "execution_count": 5,
   "id": "738231e2",
   "metadata": {},
   "outputs": [
    {
     "name": "stdout",
     "output_type": "stream",
     "text": [
      "235.5 185.875 1675.8468329718098\n"
     ]
    }
   ],
   "source": [
    "fatjets = events.FatJet\n",
    "    \n",
    "# fat jets preselection\n",
    "fatjets = fatjets[precut(fatjets)]\n",
    "    \n",
    "# select events with at least 3 preselected fat jets\n",
    "fatjets = fatjets[ak.num(fatjets, axis=1)>2]\n",
    "\n",
    "# apply the SR jet mass cuts to preselected fat jets\n",
    "fatjets_SR = fatjets\n",
    "fatjets_SR = fatjets_SR[FatJetMassCut_SR(fatjets_SR)]\n",
    "#print(len(fatjets_SR))\n",
    "# apply the VR jet mass cuts to the 3 leading (in pT) fat jets and reject overlaps with the SR\n",
    "#fatjets = fatjets[FatJetMassCut_VR_boosted(fatjets)]\n",
    "#print(len(FatJetMassCut_VR_boosted(fatjets)))\n",
    "#print(len(~(ak.num(fatjets_SR, axis=1)>2)))\n",
    "fatjets = fatjets[FatJetMassCut_VR_boosted(fatjets) & ~(ak.num(fatjets_SR, axis=1)>2)]\n",
    "#print(len(fatjets))\n",
    "\n",
    "# select events with at least 3 good fat jets (at this point this is always true)\n",
    "fatjets = fatjets[ak.num(fatjets, axis=1)>2]\n",
    "#print(len(fatjets))\n",
    "\n",
    "dijet = fatjets[0][0]+fatjets[0][1]\n",
    "print(fatjets[0][0].mass, fatjets[0][1].mass, dijet.mass)"
   ]
  },
  {
   "cell_type": "code",
   "execution_count": 6,
   "id": "5c4b95c0",
   "metadata": {},
   "outputs": [
    {
     "name": "stdout",
     "output_type": "stream",
     "text": [
      "1675.8467860820829 1674.5568193946706\n"
     ]
    }
   ],
   "source": [
    "vec1_mass = ROOT.Math.PtEtaPhiMVector(fatjets[0][0].pt,fatjets[0][0].eta,fatjets[0][0].phi,fatjets[0][0].mass)\n",
    "vec2_mass = ROOT.Math.PtEtaPhiMVector(fatjets[0][1].pt,fatjets[0][1].eta,fatjets[0][1].phi,fatjets[0][1].mass)\n",
    "\n",
    "vec1_msoftdrop = ROOT.Math.PtEtaPhiMVector(fatjets[0][0].pt,fatjets[0][0].eta,fatjets[0][0].phi,fatjets[0][0].msoftdrop)\n",
    "vec2_msoftdrop = ROOT.Math.PtEtaPhiMVector(fatjets[0][1].pt,fatjets[0][1].eta,fatjets[0][1].phi,fatjets[0][1].msoftdrop)\n",
    "\n",
    "dijet_mass = vec1_mass+vec2_mass\n",
    "dijet_msoftdrop = vec1_msoftdrop+vec2_msoftdrop\n",
    "\n",
    "#By comparing these values with the output of the previous cell, \n",
    "#we conclude that FatJet_mass is used in the 4-vec representation\n",
    "print(dijet_mass.M(),dijet_msoftdrop.M())\n"
   ]
  },
  {
   "cell_type": "markdown",
   "id": "2daa515a",
   "metadata": {},
   "source": [
    "## Testing histograms with weights\n",
    "Are the stat. uncertainties properly propagated?"
   ]
  },
  {
   "cell_type": "code",
   "execution_count": 56,
   "id": "dc149bb2",
   "metadata": {},
   "outputs": [
    {
     "data": {
      "text/html": [
       "<html>\n",
       "<div style=\"display:flex; align-items:center;\">\n",
       "<div style=\"width:290px;\">\n",
       "<svg xmlns=\"http://www.w3.org/2000/svg\" viewBox=\"-10 -105 270 120\">\n",
       "<line x1=\"-5\" y1=\"0\" x2=\"255\" y2=\"0\" style=\"fill:none;stroke-width:2;stroke:currentColor\"/>\n",
       "<text text-anchor=\"middle\" x=\"0\" y=\"15\" style=\"fill:currentColor;\">\n",
       "400\n",
       "</text>\n",
       "<text text-anchor=\"middle\" x=\"250\" y=\"15\" style=\"fill:currentColor;\">\n",
       "2e+03\n",
       "</text>\n",
       "<text text-anchor=\"middle\" x=\"125.0\" y=\"15\" style=\"fill:currentColor;\">\n",
       "$p_{T}$ [GeV]\n",
       "</text>\n",
       "<polyline points=\"  0,0   0,-95 14.7059,-95 14.7059,-100 29.4118,-100 29.4118,-75 44.1176,-75 44.1176,-70 58.8235,-70 58.8235,-35 73.5294,-35 73.5294,-30 88.2353,-30 88.2353,-15 102.941,-15 102.941,-0 117.647,-0 117.647,-0 132.353,-0 132.353,-5 147.059,-5 147.059,-0 161.765,-0 161.765,-5 176.471,-5 176.471,-0 191.176,-0 191.176,-0 205.882,-0 205.882,-0 220.588,-0 220.588,-0 235.294,-0 235.294,-0 250,-0 250,0\" style=\"fill:none; stroke:currentColor;\"/>\n",
       "</svg>\n",
       "</div>\n",
       "<div style=\"flex=grow:1;\">\n",
       "Regular(17, 400, 2000, name='leading_jet_pt', label='$p_{T}$ [GeV]')<br/>\n",
       "<hr style=\"margin-top:.2em; margin-bottom:.2em;\"/>\n",
       "Weight() Σ=WeightedSum(value=43, variance=21.5) <em>(WeightedSum(value=49.5, variance=24.75) with flow)</em>\n",
       "\n",
       "</div>\n",
       "</div>\n",
       "</html>"
      ],
      "text/plain": [
       "Hist(Regular(17, 400, 2000, name='leading_jet_pt', label='$p_{T}$ [GeV]'), storage=Weight()) # Sum: WeightedSum(value=43, variance=21.5) (WeightedSum(value=49.5, variance=24.75) with flow)"
      ]
     },
     "execution_count": 56,
     "metadata": {},
     "output_type": "execute_result"
    }
   ],
   "source": [
    "fatjet0_pt = fatjets[:,0].pt\n",
    "weights    = np.full(len(fatjet0_pt),0.5)\n",
    "binning    = hist.axis.Regular(label=\"$p_{T}$ [GeV]\", name=\"leading_jet_pt\", bins=17, start=400, stop=2000)\n",
    "#storage=\"weight\" is necessary in order to internally stored (weighted) event counts\n",
    "h          = Hist(binning,storage=\"weight\")\n",
    "h_weights  = Hist(binning,storage=\"weight\")\n",
    "h.fill(fatjet0_pt)\n",
    "h_weights.fill(fatjet0_pt,weight=weights)"
   ]
  },
  {
   "cell_type": "code",
   "execution_count": 39,
   "id": "1b3a80f0",
   "metadata": {},
   "outputs": [
    {
     "data": {
      "text/plain": [
       "[StairsArtists(stairs=<matplotlib.patches.StepPatch object at 0x7fba214779a0>, errorbar=<ErrorbarContainer object of 3 artists>, legend_artist=<ErrorbarContainer object of 3 artists>)]"
      ]
     },
     "execution_count": 39,
     "metadata": {},
     "output_type": "execute_result"
    },
    {
     "data": {
      "image/png": "[encoded data removed]",
      "text/plain": [
       "<Figure size 432x288 with 1 Axes>"
      ]
     },
     "metadata": {
      "needs_background": "light"
     },
     "output_type": "display_data"
    }
   ],
   "source": [
    "h.plot1d()\n",
    "h_weights.plot1d()"
   ]
  },
  {
   "cell_type": "code",
   "execution_count": 43,
   "id": "54847f88",
   "metadata": {},
   "outputs": [
    {
     "name": "stdout",
     "output_type": "stream",
     "text": [
      "[('h_orig;1', <TH1D (version 3) at 0x7fba213e9f40>), ('h_weights;1', <TH1D (version 3) at 0x7fba213e9730>)]\n"
     ]
    }
   ],
   "source": [
    "import uproot\n",
    "\n",
    "with uproot.recreate(\"matej_test.root\") as fout:\n",
    "    fout[f\"h_orig\"] = h\n",
    "    fout[f\"h_weights\"] = h_weights"
   ]
  },
  {
   "cell_type": "code",
   "execution_count": 55,
   "id": "de9938c9",
   "metadata": {},
   "outputs": [
    {
     "name": "stdout",
     "output_type": "stream",
     "text": [
      "\t\tYield\tErr\tsqrt(yield)\n",
      "Orig:\t\t19.0\t4.4\t4.4\n",
      "Weighted:\t9.5\t2.2\t3.1\n"
     ]
    }
   ],
   "source": [
    "f          = ROOT.TFile.Open(\"matej_test.root\")\n",
    "h_orig     = f.Get(\"h_orig\")\n",
    "h_weights  = f.Get(\"h_weights\")\n",
    "\n",
    "print(\"\\t\\tYield\\tErr\\tsqrt(yield)\")\n",
    "print(\"Orig:\\t\\t{0:.1f}\\t{1:.1f}\\t{2:.1f}\".format(h_orig.GetBinContent(1),h_orig.GetBinError(1),np.sqrt(h_orig.GetBinContent(1))))\n",
    "print(\"Weighted:\\t{0:.1f}\\t{1:.1f}\\t{2:.1f}\".format(h_weights.GetBinContent(1),h_weights.GetBinError(1),np.sqrt(h_weights.GetBinContent(1))))\n"
   ]
  },
  {
   "cell_type": "markdown",
   "id": "d3aea165",
   "metadata": {},
   "source": [
    "## Conclusion:\n",
    "When creating a `Hist` object, we need to tell it to track errors with `storage=\"weight\"`.<br> The errors are calculated as a square root of bin counts and properly scaled if the histogram is weighted.<br>This behavior is preserved even when converting `Hist` to ROOT histograms."
   ]
  }
 ],
 "metadata": {
  "kernelspec": {
   "display_name": "Python 3 (ipykernel)",
   "language": "python",
   "name": "python3"
  },
  "language_info": {
   "codemirror_mode": {
    "name": "ipython",
    "version": 3
   },
   "file_extension": ".py",
   "mimetype": "text/x-python",
   "name": "python",
   "nbconvert_exporter": "python",
   "pygments_lexer": "ipython3",
   "version": "3.9.6"
  }
 },
 "nbformat": 4,
 "nbformat_minor": 5
}
