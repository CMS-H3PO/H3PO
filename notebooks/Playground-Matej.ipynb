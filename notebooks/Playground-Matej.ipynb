{
 "cells": [
  {
   "cell_type": "markdown",
   "id": "a745633c",
   "metadata": {},
   "source": [
    "## Testing the \"addition\" of FatJets\n",
    "What does FatJet[i]+FatJet[j] do?\n",
    "After testing, the conclusion is that it performs a 4-vec addition based on FatJet_mass, _pt, _eta and _phi branches\n",
    "\n",
    "It returns a four-vector object"
   ]
  },
  {
   "cell_type": "code",
   "execution_count": 1,
   "id": "7193dd75",
   "metadata": {},
   "outputs": [
    {
     "name": "stdout",
     "output_type": "stream",
     "text": [
      "Welcome to JupyROOT 6.24/07\n"
     ]
    }
   ],
   "source": [
    "import numpy as np\n",
    "import awkward as ak\n",
    "import ROOT\n",
    "from coffea.nanoevents import NanoEventsFactory, NanoAODSchema\n",
    "import hist\n",
    "from hist import Hist"
   ]
  },
  {
   "cell_type": "code",
   "execution_count": 2,
   "id": "6766abba",
   "metadata": {},
   "outputs": [],
   "source": [
    "#---------------------------------------------\n",
    "# Selection cuts\n",
    "#---------------------------------------------\n",
    "higgs_mass = 125.\n",
    "delta_r_cut = 0.8\n",
    "min_jet_mass = 50.\n",
    "\n",
    "# FatJet cuts\n",
    "ptcut = 250.\n",
    "etacut = 2.5\n",
    "mass_cut = [100.,150.]\n",
    "pNet_cut = 0.9105\n",
    "\n",
    "# Resolved jet cuts\n",
    "res_ptcut = 30.\n",
    "res_etacut = 2.5\n",
    "res_mass_cut = [90.,150.]\n",
    "# loose cut = 0.0532, med_cut = 0.3040, tight_cut = 0.7476 , https://twiki.cern.ch/twiki/bin/view/CMS/BtagRecommendation106XUL17   \n",
    "res_deepBcut = 0.0532\n",
    "#---------------------------------------------\n",
    "\n",
    "\n",
    "def closest(masses):\n",
    "    delta = abs(higgs_mass - masses)\n",
    "    min_delta = ak.min(delta, axis=1)\n",
    "    is_closest = (delta == min_delta)\n",
    "    return is_closest\n",
    "\n",
    "\n",
    "def HbbvsQCD(fatjet):\n",
    "    score = (fatjet.particleNetMD_Xbb/(fatjet.particleNetMD_Xbb+fatjet.particleNetMD_QCD))\n",
    "    return score\n",
    "\n",
    "\n",
    "def precut(fatjets):\n",
    "    return (fatjets.pt>ptcut) & (np.absolute(fatjets.eta)<etacut)\n",
    "\n",
    "\n",
    "def FailPassCategories(fatjets, jets=None):\n",
    "    # sort the fat jets in the descending pNet HbbvsQCD score\n",
    "    sorted_fatjets = fatjets[ak.argsort(-HbbvsQCD(fatjets),axis=-1)]\n",
    "\n",
    "    # fail region: 0 fat jets passing the pNet cut\n",
    "    # pass region: at least 1 fat jets passing the pNet cut\n",
    "    fail_mask = (HbbvsQCD(sorted_fatjets[:,0])<pNet_cut)\n",
    "    pass_mask = (HbbvsQCD(sorted_fatjets[:,0])>pNet_cut)\n",
    "    if jets is not None:\n",
    "        return fatjets[fail_mask], fatjets[pass_mask], jets[fail_mask], jets[pass_mask]\n",
    "    else:\n",
    "        return fatjets[fail_mask], fatjets[pass_mask]\n",
    "\n",
    "\n",
    "def FatJetMassCut_SR(fatjets):\n",
    "    return (fatjets.msoftdrop>=mass_cut[0]) & (fatjets.msoftdrop<=mass_cut[1])\n",
    "\n",
    "\n",
    "def FatJetMassCut_VR_boosted(fatjets):\n",
    "    return (((fatjets[:,0].msoftdrop<mass_cut[0]) | (fatjets.msoftdrop[:,0]>mass_cut[1])) & (fatjets[:,0].msoftdrop>min_jet_mass) \n",
    "    & (fatjets[:,1].msoftdrop>min_jet_mass) & ((fatjets[:,1].msoftdrop<mass_cut[0]) | (fatjets[:,1].msoftdrop>mass_cut[1])) \n",
    "    & (fatjets[:,2].msoftdrop>=mass_cut[0]) & (fatjets[:,2].msoftdrop<=mass_cut[1]))\n",
    "\n",
    "\n",
    "def VR_semiboosted_mask(fatjets):\n",
    "    return ((fatjets.msoftdrop<mass_cut[0]) | (fatjets.msoftdrop>mass_cut[1])) & (fatjets.msoftdrop>min_jet_mass)"
   ]
  },
  {
   "cell_type": "code",
   "execution_count": 3,
   "id": "17628c37",
   "metadata": {},
   "outputs": [],
   "source": [
    "events = NanoEventsFactory.from_root(\"/STORE/matej/H3_skims/2017/TTbarHadronic/DBADF3D8-7C75-F74B-99AF-7AF0D41083BE.root\",schemaclass=NanoAODSchema,metadata={\"dataset\":\"\"},entry_stop=None).events()"
   ]
  },
  {
   "cell_type": "code",
   "execution_count": 4,
   "id": "738231e2",
   "metadata": {},
   "outputs": [
    {
     "name": "stdout",
     "output_type": "stream",
     "text": [
      "235.5 185.875 1675.8468329718098\n"
     ]
    }
   ],
   "source": [
    "fatjets = events.FatJet\n",
    "    \n",
    "# fat jets preselection\n",
    "fatjets = fatjets[precut(fatjets)]\n",
    "    \n",
    "# select events with at least 3 preselected fat jets\n",
    "fatjets = fatjets[ak.num(fatjets, axis=1)>2]\n",
    "\n",
    "# apply the SR jet mass cuts to preselected fat jets\n",
    "fatjets_SR = fatjets\n",
    "fatjets_SR = fatjets_SR[FatJetMassCut_SR(fatjets_SR)]\n",
    "#print(len(fatjets_SR))\n",
    "# apply the VR jet mass cuts to the 3 leading (in pT) fat jets and reject overlaps with the SR\n",
    "#fatjets = fatjets[FatJetMassCut_VR_boosted(fatjets)]\n",
    "#print(len(FatJetMassCut_VR_boosted(fatjets)))\n",
    "#print(len(~(ak.num(fatjets_SR, axis=1)>2)))\n",
    "fatjets = fatjets[FatJetMassCut_VR_boosted(fatjets) & ~(ak.num(fatjets_SR, axis=1)>2)]\n",
    "#print(len(fatjets))\n",
    "\n",
    "# select events with at least 3 good fat jets (at this point this is always true)\n",
    "fatjets = fatjets[ak.num(fatjets, axis=1)>2]\n",
    "#print(len(fatjets))\n",
    "\n",
    "dijet = fatjets[0][0]+fatjets[0][1]\n",
    "print(fatjets[0][0].mass, fatjets[0][1].mass, dijet.mass)"
   ]
  },
  {
   "cell_type": "code",
   "execution_count": 5,
   "id": "5c4b95c0",
   "metadata": {},
   "outputs": [
    {
     "name": "stdout",
     "output_type": "stream",
     "text": [
      "1675.8467860820829 1674.5568193946706\n"
     ]
    }
   ],
   "source": [
    "vec1_mass = ROOT.Math.PtEtaPhiMVector(fatjets[0][0].pt,fatjets[0][0].eta,fatjets[0][0].phi,fatjets[0][0].mass)\n",
    "vec2_mass = ROOT.Math.PtEtaPhiMVector(fatjets[0][1].pt,fatjets[0][1].eta,fatjets[0][1].phi,fatjets[0][1].mass)\n",
    "\n",
    "vec1_msoftdrop = ROOT.Math.PtEtaPhiMVector(fatjets[0][0].pt,fatjets[0][0].eta,fatjets[0][0].phi,fatjets[0][0].msoftdrop)\n",
    "vec2_msoftdrop = ROOT.Math.PtEtaPhiMVector(fatjets[0][1].pt,fatjets[0][1].eta,fatjets[0][1].phi,fatjets[0][1].msoftdrop)\n",
    "\n",
    "dijet_mass = vec1_mass+vec2_mass\n",
    "dijet_msoftdrop = vec1_msoftdrop+vec2_msoftdrop\n",
    "\n",
    "#By comparing these values with the output of the previous cell, \n",
    "#we conclude that FatJet_mass is used in the 4-vec representation\n",
    "print(dijet_mass.M(),dijet_msoftdrop.M())\n"
   ]
  },
  {
   "cell_type": "markdown",
   "id": "2daa515a",
   "metadata": {},
   "source": [
    "## Testing histograms with weights\n",
    "Are the stat. uncertainties properly propagated?"
   ]
  },
  {
   "cell_type": "code",
   "execution_count": 17,
   "id": "dc149bb2",
   "metadata": {},
   "outputs": [],
   "source": [
    "fatjet0_pt = fatjets[:,0].pt\n",
    "weights    = np.full(len(fatjet0_pt),0.5)\n",
    "binning    = hist.axis.Regular(label=\"$p_{T}$ [GeV]\", name=\"leading_jet_pt\", bins=17, start=400, stop=2000)\n",
    "#storage=\"weight\" is necessary in order to internally stored (weighted) event counts\n",
    "h          = Hist(binning,storage=\"weight\")\n",
    "h_weights  = Hist(binning,storage=\"weight\")\n",
    "h.fill(fatjet0_pt)\n",
    "h_weights.fill(fatjet0_pt,weight=weights)\n",
    "h_scaled   = h*3.0"
   ]
  },
  {
   "cell_type": "code",
   "execution_count": 18,
   "id": "1b3a80f0",
   "metadata": {},
   "outputs": [
    {
     "data": {
      "text/plain": [
       "[StairsArtists(stairs=<matplotlib.patches.StepPatch object at 0x7f56b51b9f40>, errorbar=<ErrorbarContainer object of 3 artists>, legend_artist=<ErrorbarContainer object of 3 artists>)]"
      ]
     },
     "execution_count": 18,
     "metadata": {},
     "output_type": "execute_result"
    },
    {
     "data": {
      "image/png": "[encoded data removed]",
      "text/plain": [
       "<Figure size 432x288 with 1 Axes>"
      ]
     },
     "metadata": {
      "needs_background": "light"
     },
     "output_type": "display_data"
    }
   ],
   "source": [
    "h.plot1d()\n",
    "h_weights.plot1d()\n",
    "h_scaled.plot1d()"
   ]
  },
  {
   "cell_type": "markdown",
   "id": "ebae93fd",
   "metadata": {},
   "source": [
    "In the above, you can immediately see that the `h_scaled` (green) has errors greater than the square root of counts, indicating that the error is propagated correctly after multiplying by a certain scale"
   ]
  },
  {
   "cell_type": "code",
   "execution_count": 19,
   "id": "54847f88",
   "metadata": {},
   "outputs": [],
   "source": [
    "import uproot\n",
    "\n",
    "with uproot.recreate(\"matej_test.root\") as fout:\n",
    "    fout[f\"h_orig\"]    = h\n",
    "    fout[f\"h_weights\"] = h_weights\n",
    "    fout[f\"h_scaled\"]  = h_scaled"
   ]
  },
  {
   "cell_type": "code",
   "execution_count": 21,
   "id": "de9938c9",
   "metadata": {},
   "outputs": [
    {
     "name": "stdout",
     "output_type": "stream",
     "text": [
      "\t\tYield\tErr\tsqrt(yield)\n",
      "Orig:\t\t19.0\t4.4\t4.4\n",
      "Weighted:\t9.5\t2.2\t3.1\n",
      "Scaled:\t\t57.0\t13.1\t7.5\n"
     ]
    }
   ],
   "source": [
    "f          = ROOT.TFile.Open(\"matej_test.root\")\n",
    "h_orig     = f.Get(\"h_orig\")\n",
    "h_weights  = f.Get(\"h_weights\")\n",
    "h_scaled   = f.Get(\"h_scaled\")\n",
    "\n",
    "print(\"\\t\\tYield\\tErr\\tsqrt(yield)\")\n",
    "print(\"Orig:\\t\\t{0:.1f}\\t{1:.1f}\\t{2:.1f}\".format(h_orig.GetBinContent(1),h_orig.GetBinError(1),np.sqrt(h_orig.GetBinContent(1))))\n",
    "print(\"Weighted:\\t{0:.1f}\\t{1:.1f}\\t{2:.1f}\".format(h_weights.GetBinContent(1),h_weights.GetBinError(1),np.sqrt(h_weights.GetBinContent(1))))\n",
    "print(\"Scaled:\\t\\t{0:.1f}\\t{1:.1f}\\t{2:.1f}\".format(h_scaled.GetBinContent(1),h_scaled.GetBinError(1),np.sqrt(h_scaled.GetBinContent(1))))\n"
   ]
  },
  {
   "cell_type": "markdown",
   "id": "d3aea165",
   "metadata": {},
   "source": [
    "## Conclusion:\n",
    "When creating a `Hist` object, we need to tell it to track errors with `storage=\"weight\"`.<br> The errors are calculated as a square root of bin counts and properly propagated if the histogram is weighted or scaled.<br>This behavior is preserved even when converting `Hist` to ROOT histograms."
   ]
  }
 ],
 "metadata": {
  "kernelspec": {
   "display_name": "Python 3 (ipykernel)",
   "language": "python",
   "name": "python3"
  },
  "language_info": {
   "codemirror_mode": {
    "name": "ipython",
    "version": 3
   },
   "file_extension": ".py",
   "mimetype": "text/x-python",
   "name": "python",
   "nbconvert_exporter": "python",
   "pygments_lexer": "ipython3",
   "version": "3.9.6"
  }
 },
 "nbformat": 4,
 "nbformat_minor": 5
}
