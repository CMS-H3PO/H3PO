{
 "cells": [
  {
   "cell_type": "code",
   "execution_count": 1,
   "id": "4eebac52",
   "metadata": {},
   "outputs": [],
   "source": [
    "import uproot\n",
    "import awkward as ak\n",
    "import matplotlib.pyplot as plt\n",
    "import hist\n",
    "from hist import Hist\n",
    "from coffea.nanoevents import NanoEventsFactory, BaseSchema\n",
    "import coffea.processor as processor\n",
    "from coffea.nanoevents import NanoEventsFactory, NanoAODSchema, schemas\n",
    "import numpy as np"
   ]
  },
  {
   "cell_type": "code",
   "execution_count": 2,
   "id": "5eba1b33",
   "metadata": {},
   "outputs": [],
   "source": [
    "fileset = \"/eos/home-b/bchitrod/HHH/NANOAOD/TRSM_XToHY_6b_M3_2000_M2_1100_NANOAOD.root\" "
   ]
  },
  {
   "cell_type": "code",
   "execution_count": 3,
   "id": "50da25c4",
   "metadata": {},
   "outputs": [],
   "source": [
    "eventsToRead = 10000\n",
    "events = NanoEventsFactory.from_root(fileset,schemaclass=NanoAODSchema,metadata={\"dataset\": \"testSignal\"},entry_stop=eventsToRead).events()"
   ]
  },
  {
   "cell_type": "code",
   "execution_count": 5,
   "id": "598c44b2",
   "metadata": {},
   "outputs": [],
   "source": [
    "fatjets = events.FatJet\n",
    "jets = events.Jet\n",
    "\n",
    "##FatJet cuts\n",
    "ptcut = 250\n",
    "etacut = 2.5\n",
    "mass_cut = [110,140]\n",
    "pNet_cut = 0.9105\n",
    "\n",
    "good_fatjets = fatjets[(fatjets.pt>ptcut) & (np.absolute(fatjets.eta)<etacut) & (fatjets.msoftdrop>=mass_cut[0]) & (fatjets.msoftdrop<=mass_cut[1])] #& (fatjets.particleNet_HbbvsQCD>=pNet_cut)\n",
    "good_semiboosted = good_fatjets[ak.num(good_fatjets, axis=1) == 2]\n",
    "good_boosted = good_fatjets[ak.num(good_fatjets, axis=1)> 2]\n",
    "\n",
    "## Resolved Jet cuts\n",
    "res_ptcut = 30\n",
    "res_etacut = 2.5\n",
    "res_mass_cut = [90,140]\n",
    "# loose cut = 0.0532, med_cut = 0.3040, tight_cut = 0.7476 , https://twiki.cern.ch/twiki/bin/view/CMS/BtagRecommendation106XUL17\n",
    "res_deepBcut = 0.0532\n",
    "\n",
    "good_jets = jets[(jets.pt > res_ptcut) & (np.absolute(jets.eta) < res_etacut)] #& (jets.btagDeepB>res_deepBcut)\n",
    "\n",
    "res_jets = (good_jets[ak.num(good_fatjets, axis=1) == 2])\n",
    "good_pairs = res_jets.nearest(good_semiboosted).delta_r(res_jets)>0.8\n",
    "good_paired = res_jets[good_pairs]\n",
    "res_bjets = (good_paired[ak.num(good_paired, axis=1) >= 2])\n",
    "\n",
    "mass = (res_bjets[:,0]+res_bjets[:,1]).mass\n",
    "selected_jets = res_bjets[((res_bjets[:,0]+res_bjets[:,1]).mass>=res_mass_cut[0]) &  ((res_bjets[:,0]+res_bjets[:,1]).mass<=res_mass_cut[1])]\n",
    "selected_fatjets = good_semiboosted[ak.num(selected_jets, axis=1)>1]"
   ]
  },
  {
   "cell_type": "code",
   "execution_count": 6,
   "id": "2872cac9",
   "metadata": {},
   "outputs": [],
   "source": [
    "trijet_mass = (selected_fatjets[:,0]+selected_fatjets[:,1]+selected_jets[:,0]+selected_jets[:,1]).mass"
   ]
  },
  {
   "cell_type": "code",
   "execution_count": 7,
   "id": "9dade603",
   "metadata": {},
   "outputs": [],
   "source": [
    "dijet1_mass = (selected_fatjets[:,0]+selected_fatjets[:,1]).mass\n",
    "dijet2_mass = (selected_fatjets[:,0]+selected_jets[:,0]+selected_jets[:,1]).mass\n",
    "dijet3_mass = (selected_fatjets[:,1]+selected_jets[:,0]+selected_jets[:,1]).mass"
   ]
  },
  {
   "cell_type": "code",
   "execution_count": 8,
   "id": "f25249fc",
   "metadata": {},
   "outputs": [],
   "source": [
    "j3_bin = hist.axis.Regular(label=\"Trijet Mass [GeV]\", name=\"trijet_mass\", bins=40, start=0, stop=4000)\n",
    "j3_cat = hist.axis.StrCategory(label='Trijets', name='trijet', categories=[\"signal\"])"
   ]
  },
  {
   "cell_type": "code",
   "execution_count": 9,
   "id": "59df8a39",
   "metadata": {},
   "outputs": [
    {
     "data": {
      "text/html": [
       "<html>\n",
       "<div style=\"display:flex; align-items:center;\">\n",
       "<div style=\"width:290px;\">\n",
       "<svg xmlns=\"http://www.w3.org/2000/svg\" viewBox=\"-20 -270 290 290\">\n",
       "<text text-anchor=\"middle\" x=\"0\" y=\"13\" style=\"fill:currentColor;\">\n",
       "0\n",
       "</text>\n",
       "<text text-anchor=\"middle\" x=\"250\" y=\"13\" style=\"fill:currentColor;\">\n",
       "4e+03\n",
       "</text>\n",
       "<text text-anchor=\"middle\" x=\"-10\" y=\"0\" style=\"fill:currentColor;\">\n",
       "0\n",
       "</text>\n",
       "<text text-anchor=\"middle\" x=\"-10\" y=\"-250\" style=\"fill:currentColor;\">\n",
       "1\n",
       "</text>\n",
       "<text text-anchor=\"middle\" x=\"125.0\" y=\"13\" style=\"fill:currentColor;\">\n",
       "Trijet Mass [GeV]\n",
       "</text>\n",
       "<text text-anchor=\"middle\" x=\"-10\" y=\"-125.0\" transform=\"rotate(-90,-10,-125.0)\" style=\"fill:currentColor;\">\n",
       "Trijets\n",
       "</text>\n",
       "<rect x=\"0.0\" y=\"-250.0\" width=\"6.25\" height=\"250.0\" opacity=\"0.0\" fill=\"currentColor\" stroke-width=\"0.1\"/>\n",
       "<rect x=\"6.25\" y=\"-250.0\" width=\"6.25\" height=\"250.0\" opacity=\"0.0\" fill=\"currentColor\" stroke-width=\"0.1\"/>\n",
       "<rect x=\"12.5\" y=\"-250.0\" width=\"6.25\" height=\"250.0\" opacity=\"0.0\" fill=\"currentColor\" stroke-width=\"0.1\"/>\n",
       "<rect x=\"18.75\" y=\"-250.0\" width=\"6.25\" height=\"250.0\" opacity=\"0.0\" fill=\"currentColor\" stroke-width=\"0.1\"/>\n",
       "<rect x=\"25.0\" y=\"-250.0\" width=\"6.25\" height=\"250.0\" opacity=\"0.0\" fill=\"currentColor\" stroke-width=\"0.1\"/>\n",
       "<rect x=\"31.25\" y=\"-250.0\" width=\"6.25\" height=\"250.0\" opacity=\"0.0\" fill=\"currentColor\" stroke-width=\"0.1\"/>\n",
       "<rect x=\"37.5\" y=\"-250.0\" width=\"6.25\" height=\"250.0\" opacity=\"0.015384615384615384\" fill=\"currentColor\" stroke-width=\"0.1\"/>\n",
       "<rect x=\"43.75\" y=\"-250.0\" width=\"6.25\" height=\"250.0\" opacity=\"0.0\" fill=\"currentColor\" stroke-width=\"0.1\"/>\n",
       "<rect x=\"50.0\" y=\"-250.0\" width=\"6.25\" height=\"250.0\" opacity=\"0.030769230769230767\" fill=\"currentColor\" stroke-width=\"0.1\"/>\n",
       "<rect x=\"56.25\" y=\"-250.0\" width=\"6.25\" height=\"250.0\" opacity=\"0.030769230769230767\" fill=\"currentColor\" stroke-width=\"0.1\"/>\n",
       "<rect x=\"62.5\" y=\"-250.0\" width=\"6.25\" height=\"250.0\" opacity=\"0.030769230769230767\" fill=\"currentColor\" stroke-width=\"0.1\"/>\n",
       "<rect x=\"68.75\" y=\"-250.0\" width=\"6.25\" height=\"250.0\" opacity=\"0.04615384615384615\" fill=\"currentColor\" stroke-width=\"0.1\"/>\n",
       "<rect x=\"75.0\" y=\"-250.0\" width=\"6.25\" height=\"250.0\" opacity=\"0.3384615384615385\" fill=\"currentColor\" stroke-width=\"0.1\"/>\n",
       "<rect x=\"81.25\" y=\"-250.0\" width=\"6.25\" height=\"250.0\" opacity=\"0.46153846153846156\" fill=\"currentColor\" stroke-width=\"0.1\"/>\n",
       "<rect x=\"87.5\" y=\"-250.0\" width=\"6.25\" height=\"250.0\" opacity=\"0.6307692307692307\" fill=\"currentColor\" stroke-width=\"0.1\"/>\n",
       "<rect x=\"93.75\" y=\"-250.0\" width=\"6.25\" height=\"250.0\" opacity=\"0.9076923076923077\" fill=\"currentColor\" stroke-width=\"0.1\"/>\n",
       "<rect x=\"100.0\" y=\"-250.0\" width=\"6.25\" height=\"250.0\" opacity=\"0.7999999999999999\" fill=\"currentColor\" stroke-width=\"0.1\"/>\n",
       "<rect x=\"106.25\" y=\"-250.0\" width=\"6.25\" height=\"250.0\" opacity=\"1.0\" fill=\"currentColor\" stroke-width=\"0.1\"/>\n",
       "<rect x=\"112.5\" y=\"-250.0\" width=\"6.25\" height=\"250.0\" opacity=\"0.8307692307692308\" fill=\"currentColor\" stroke-width=\"0.1\"/>\n",
       "<rect x=\"118.75\" y=\"-250.0\" width=\"6.25\" height=\"250.0\" opacity=\"0.7999999999999999\" fill=\"currentColor\" stroke-width=\"0.1\"/>\n",
       "<rect x=\"125.0\" y=\"-250.0\" width=\"6.25\" height=\"250.0\" opacity=\"0.7076923076923077\" fill=\"currentColor\" stroke-width=\"0.1\"/>\n",
       "<rect x=\"131.25\" y=\"-250.0\" width=\"6.25\" height=\"250.0\" opacity=\"0.39999999999999997\" fill=\"currentColor\" stroke-width=\"0.1\"/>\n",
       "<rect x=\"137.5\" y=\"-250.0\" width=\"6.25\" height=\"250.0\" opacity=\"0.35384615384615387\" fill=\"currentColor\" stroke-width=\"0.1\"/>\n",
       "<rect x=\"143.75\" y=\"-250.0\" width=\"6.25\" height=\"250.0\" opacity=\"0.23076923076923078\" fill=\"currentColor\" stroke-width=\"0.1\"/>\n",
       "<rect x=\"150.0\" y=\"-250.0\" width=\"6.25\" height=\"250.0\" opacity=\"0.1076923076923077\" fill=\"currentColor\" stroke-width=\"0.1\"/>\n",
       "<rect x=\"156.25\" y=\"-250.0\" width=\"6.25\" height=\"250.0\" opacity=\"0.04615384615384615\" fill=\"currentColor\" stroke-width=\"0.1\"/>\n",
       "<rect x=\"162.5\" y=\"-250.0\" width=\"6.25\" height=\"250.0\" opacity=\"0.1076923076923077\" fill=\"currentColor\" stroke-width=\"0.1\"/>\n",
       "<rect x=\"168.75\" y=\"-250.0\" width=\"6.25\" height=\"250.0\" opacity=\"0.04615384615384615\" fill=\"currentColor\" stroke-width=\"0.1\"/>\n",
       "<rect x=\"175.0\" y=\"-250.0\" width=\"6.25\" height=\"250.0\" opacity=\"0.030769230769230767\" fill=\"currentColor\" stroke-width=\"0.1\"/>\n",
       "<rect x=\"181.25\" y=\"-250.0\" width=\"6.25\" height=\"250.0\" opacity=\"0.061538461538461535\" fill=\"currentColor\" stroke-width=\"0.1\"/>\n",
       "<rect x=\"187.5\" y=\"-250.0\" width=\"6.25\" height=\"250.0\" opacity=\"0.015384615384615384\" fill=\"currentColor\" stroke-width=\"0.1\"/>\n",
       "<rect x=\"193.75\" y=\"-250.0\" width=\"6.25\" height=\"250.0\" opacity=\"0.07692307692307693\" fill=\"currentColor\" stroke-width=\"0.1\"/>\n",
       "<rect x=\"200.0\" y=\"-250.0\" width=\"6.25\" height=\"250.0\" opacity=\"0.0\" fill=\"currentColor\" stroke-width=\"0.1\"/>\n",
       "<rect x=\"206.25\" y=\"-250.0\" width=\"6.25\" height=\"250.0\" opacity=\"0.030769230769230767\" fill=\"currentColor\" stroke-width=\"0.1\"/>\n",
       "<rect x=\"212.5\" y=\"-250.0\" width=\"6.25\" height=\"250.0\" opacity=\"0.015384615384615384\" fill=\"currentColor\" stroke-width=\"0.1\"/>\n",
       "<rect x=\"218.75\" y=\"-250.0\" width=\"6.25\" height=\"250.0\" opacity=\"0.015384615384615384\" fill=\"currentColor\" stroke-width=\"0.1\"/>\n",
       "<rect x=\"225.0\" y=\"-250.0\" width=\"6.25\" height=\"250.0\" opacity=\"0.0\" fill=\"currentColor\" stroke-width=\"0.1\"/>\n",
       "<rect x=\"231.25\" y=\"-250.0\" width=\"6.25\" height=\"250.0\" opacity=\"0.0\" fill=\"currentColor\" stroke-width=\"0.1\"/>\n",
       "<rect x=\"237.5\" y=\"-250.0\" width=\"6.25\" height=\"250.0\" opacity=\"0.0\" fill=\"currentColor\" stroke-width=\"0.1\"/>\n",
       "<rect x=\"243.75\" y=\"-250.0\" width=\"6.25\" height=\"250.0\" opacity=\"0.0\" fill=\"currentColor\" stroke-width=\"0.1\"/>\n",
       "</svg>\n",
       "</div>\n",
       "<div style=\"flex=grow:1;\">\n",
       "Regular(40, 0, 4000, name='trijet_mass', label='Trijet Mass [GeV]')<br/>\n",
       "StrCategory(['signal'], name='trijet', label='Trijets')<br/>\n",
       "<hr style=\"margin-top:.2em; margin-bottom:.2em;\"/>\n",
       "Double() Σ=531.0 <em>(532.0 with flow)</em>\n",
       "\n",
       "</div>\n",
       "</div>\n",
       "</html>"
      ],
      "text/plain": [
       "Hist(\n",
       "  Regular(40, 0, 4000, name='trijet_mass', label='Trijet Mass [GeV]'),\n",
       "  StrCategory(['signal'], name='trijet', label='Trijets'),\n",
       "  storage=Double()) # Sum: 531.0 (532.0 with flow)"
      ]
     },
     "execution_count": 9,
     "metadata": {},
     "output_type": "execute_result"
    }
   ],
   "source": [
    "j3_hist = Hist(j3_bin, j3_cat)\n",
    "j3_hist.fill(trijet=\"signal\", trijet_mass=trijet_mass)"
   ]
  },
  {
   "cell_type": "code",
   "execution_count": 10,
   "id": "e9f38495",
   "metadata": {},
   "outputs": [
    {
     "data": {
      "text/plain": [
       "<matplotlib.legend.Legend at 0x7f7a4185aa90>"
      ]
     },
     "execution_count": 10,
     "metadata": {},
     "output_type": "execute_result"
    },
    {
     "data": {
      "image/png": "[encoded data removed]",
      "text/plain": [
       "<Figure size 720x720 with 1 Axes>"
      ]
     },
     "metadata": {
      "needs_background": "light"
     },
     "output_type": "display_data"
    }
   ],
   "source": [
    "import mplhep as hep\n",
    "plt.style.use([hep.style.CMS])\n",
    "j3_hist.plot(color=\"black\")\n",
    "hep.cms.text(\"Work in progress\",loc=0)\n",
    "plt.ylabel(\"Event count\",horizontalalignment='right', y=1.0)\n",
    "plt.legend()"
   ]
  },
  {
   "cell_type": "code",
   "execution_count": 11,
   "id": "7f0fdc93",
   "metadata": {},
   "outputs": [],
   "source": [
    "j2_bin = hist.axis.Regular(label=\"Dijet Mass [GeV]\", name=\"dijet_mass\", bins=40, start=0, stop=2000)\n",
    "j2_cat = hist.axis.StrCategory(label='Dijets', name='dijet', categories=[\"Pair1\",\"Pair2\",\"Pair3\"])"
   ]
  },
  {
   "cell_type": "code",
   "execution_count": 12,
   "id": "cdbb0d41",
   "metadata": {},
   "outputs": [
    {
     "data": {
      "text/html": [
       "<html>\n",
       "<div style=\"display:flex; align-items:center;\">\n",
       "<div style=\"width:290px;\">\n",
       "<svg xmlns=\"http://www.w3.org/2000/svg\" viewBox=\"-20 -270 290 290\">\n",
       "<text text-anchor=\"middle\" x=\"0\" y=\"13\" style=\"fill:currentColor;\">\n",
       "0\n",
       "</text>\n",
       "<text text-anchor=\"middle\" x=\"250\" y=\"13\" style=\"fill:currentColor;\">\n",
       "2e+03\n",
       "</text>\n",
       "<text text-anchor=\"middle\" x=\"-10\" y=\"0\" style=\"fill:currentColor;\">\n",
       "0\n",
       "</text>\n",
       "<text text-anchor=\"middle\" x=\"-10\" y=\"-250\" style=\"fill:currentColor;\">\n",
       "3\n",
       "</text>\n",
       "<text text-anchor=\"middle\" x=\"125.0\" y=\"13\" style=\"fill:currentColor;\">\n",
       "Dijet Mass [GeV]\n",
       "</text>\n",
       "<text text-anchor=\"middle\" x=\"-10\" y=\"-125.0\" transform=\"rotate(-90,-10,-125.0)\" style=\"fill:currentColor;\">\n",
       "Dijets\n",
       "</text>\n",
       "<rect x=\"0.0\" y=\"-83.33333333333333\" width=\"6.25\" height=\"83.333\" opacity=\"0.0\" fill=\"currentColor\" stroke-width=\"0.1\"/>\n",
       "<rect x=\"6.25\" y=\"-83.33333333333333\" width=\"6.25\" height=\"83.333\" opacity=\"0.0\" fill=\"currentColor\" stroke-width=\"0.1\"/>\n",
       "<rect x=\"12.5\" y=\"-83.33333333333333\" width=\"6.25\" height=\"83.333\" opacity=\"0.0\" fill=\"currentColor\" stroke-width=\"0.1\"/>\n",
       "<rect x=\"18.75\" y=\"-83.33333333333333\" width=\"6.25\" height=\"83.333\" opacity=\"0.0\" fill=\"currentColor\" stroke-width=\"0.1\"/>\n",
       "<rect x=\"25.0\" y=\"-83.33333333333333\" width=\"6.25\" height=\"83.333\" opacity=\"0.0\" fill=\"currentColor\" stroke-width=\"0.1\"/>\n",
       "<rect x=\"31.25\" y=\"-83.33333333333333\" width=\"6.25\" height=\"83.333\" opacity=\"0.0\" fill=\"currentColor\" stroke-width=\"0.1\"/>\n",
       "<rect x=\"37.5\" y=\"-83.33333333333333\" width=\"6.25\" height=\"83.333\" opacity=\"0.0\" fill=\"currentColor\" stroke-width=\"0.1\"/>\n",
       "<rect x=\"43.75\" y=\"-83.33333333333333\" width=\"6.25\" height=\"83.333\" opacity=\"0.0\" fill=\"currentColor\" stroke-width=\"0.1\"/>\n",
       "<rect x=\"50.0\" y=\"-83.33333333333333\" width=\"6.25\" height=\"83.333\" opacity=\"0.0\" fill=\"currentColor\" stroke-width=\"0.1\"/>\n",
       "<rect x=\"56.25\" y=\"-83.33333333333333\" width=\"6.25\" height=\"83.333\" opacity=\"0.0\" fill=\"currentColor\" stroke-width=\"0.1\"/>\n",
       "<rect x=\"62.5\" y=\"-83.33333333333333\" width=\"6.25\" height=\"83.333\" opacity=\"0.014285714285714284\" fill=\"currentColor\" stroke-width=\"0.1\"/>\n",
       "<rect x=\"68.75\" y=\"-83.33333333333333\" width=\"6.25\" height=\"83.333\" opacity=\"0.028571428571428567\" fill=\"currentColor\" stroke-width=\"0.1\"/>\n",
       "<rect x=\"75.0\" y=\"-83.33333333333333\" width=\"6.25\" height=\"83.333\" opacity=\"0.04285714285714286\" fill=\"currentColor\" stroke-width=\"0.1\"/>\n",
       "<rect x=\"81.25\" y=\"-83.33333333333333\" width=\"6.25\" height=\"83.333\" opacity=\"0.08571428571428572\" fill=\"currentColor\" stroke-width=\"0.1\"/>\n",
       "<rect x=\"87.5\" y=\"-83.33333333333333\" width=\"6.25\" height=\"83.333\" opacity=\"0.12857142857142856\" fill=\"currentColor\" stroke-width=\"0.1\"/>\n",
       "<rect x=\"93.75\" y=\"-83.33333333333333\" width=\"6.25\" height=\"83.333\" opacity=\"0.08571428571428572\" fill=\"currentColor\" stroke-width=\"0.1\"/>\n",
       "<rect x=\"100.0\" y=\"-83.33333333333333\" width=\"6.25\" height=\"83.333\" opacity=\"0.17142857142857143\" fill=\"currentColor\" stroke-width=\"0.1\"/>\n",
       "<rect x=\"106.25\" y=\"-83.33333333333333\" width=\"6.25\" height=\"83.333\" opacity=\"0.12857142857142856\" fill=\"currentColor\" stroke-width=\"0.1\"/>\n",
       "<rect x=\"112.5\" y=\"-83.33333333333333\" width=\"6.25\" height=\"83.333\" opacity=\"0.3\" fill=\"currentColor\" stroke-width=\"0.1\"/>\n",
       "<rect x=\"118.75\" y=\"-83.33333333333333\" width=\"6.25\" height=\"83.333\" opacity=\"0.2714285714285714\" fill=\"currentColor\" stroke-width=\"0.1\"/>\n",
       "<rect x=\"125.0\" y=\"-83.33333333333333\" width=\"6.25\" height=\"83.333\" opacity=\"0.5428571428571428\" fill=\"currentColor\" stroke-width=\"0.1\"/>\n",
       "<rect x=\"131.25\" y=\"-83.33333333333333\" width=\"6.25\" height=\"83.333\" opacity=\"1.0\" fill=\"currentColor\" stroke-width=\"0.1\"/>\n",
       "<rect x=\"137.5\" y=\"-83.33333333333333\" width=\"6.25\" height=\"83.333\" opacity=\"0.8285714285714285\" fill=\"currentColor\" stroke-width=\"0.1\"/>\n",
       "<rect x=\"143.75\" y=\"-83.33333333333333\" width=\"6.25\" height=\"83.333\" opacity=\"0.5428571428571428\" fill=\"currentColor\" stroke-width=\"0.1\"/>\n",
       "<rect x=\"150.0\" y=\"-83.33333333333333\" width=\"6.25\" height=\"83.333\" opacity=\"0.42857142857142855\" fill=\"currentColor\" stroke-width=\"0.1\"/>\n",
       "<rect x=\"156.25\" y=\"-83.33333333333333\" width=\"6.25\" height=\"83.333\" opacity=\"0.3714285714285714\" fill=\"currentColor\" stroke-width=\"0.1\"/>\n",
       "<rect x=\"162.5\" y=\"-83.33333333333333\" width=\"6.25\" height=\"83.333\" opacity=\"0.3142857142857142\" fill=\"currentColor\" stroke-width=\"0.1\"/>\n",
       "<rect x=\"168.75\" y=\"-83.33333333333333\" width=\"6.25\" height=\"83.333\" opacity=\"0.42857142857142855\" fill=\"currentColor\" stroke-width=\"0.1\"/>\n",
       "<rect x=\"175.0\" y=\"-83.33333333333333\" width=\"6.25\" height=\"83.333\" opacity=\"0.4857142857142857\" fill=\"currentColor\" stroke-width=\"0.1\"/>\n",
       "<rect x=\"181.25\" y=\"-83.33333333333333\" width=\"6.25\" height=\"83.333\" opacity=\"0.3714285714285714\" fill=\"currentColor\" stroke-width=\"0.1\"/>\n",
       "<rect x=\"187.5\" y=\"-83.33333333333333\" width=\"6.25\" height=\"83.333\" opacity=\"0.42857142857142855\" fill=\"currentColor\" stroke-width=\"0.1\"/>\n",
       "<rect x=\"193.75\" y=\"-83.33333333333333\" width=\"6.25\" height=\"83.333\" opacity=\"0.32857142857142857\" fill=\"currentColor\" stroke-width=\"0.1\"/>\n",
       "<rect x=\"200.0\" y=\"-83.33333333333333\" width=\"6.25\" height=\"83.333\" opacity=\"0.11428571428571427\" fill=\"currentColor\" stroke-width=\"0.1\"/>\n",
       "<rect x=\"206.25\" y=\"-83.33333333333333\" width=\"6.25\" height=\"83.333\" opacity=\"0.057142857142857134\" fill=\"currentColor\" stroke-width=\"0.1\"/>\n",
       "<rect x=\"212.5\" y=\"-83.33333333333333\" width=\"6.25\" height=\"83.333\" opacity=\"0.057142857142857134\" fill=\"currentColor\" stroke-width=\"0.1\"/>\n",
       "<rect x=\"218.75\" y=\"-83.33333333333333\" width=\"6.25\" height=\"83.333\" opacity=\"0.0\" fill=\"currentColor\" stroke-width=\"0.1\"/>\n",
       "<rect x=\"225.0\" y=\"-83.33333333333333\" width=\"6.25\" height=\"83.333\" opacity=\"0.028571428571428567\" fill=\"currentColor\" stroke-width=\"0.1\"/>\n",
       "<rect x=\"231.25\" y=\"-83.33333333333333\" width=\"6.25\" height=\"83.333\" opacity=\"0.0\" fill=\"currentColor\" stroke-width=\"0.1\"/>\n",
       "<rect x=\"237.5\" y=\"-83.33333333333333\" width=\"6.25\" height=\"83.333\" opacity=\"0.0\" fill=\"currentColor\" stroke-width=\"0.1\"/>\n",
       "<rect x=\"243.75\" y=\"-83.33333333333333\" width=\"6.25\" height=\"83.333\" opacity=\"0.0\" fill=\"currentColor\" stroke-width=\"0.1\"/>\n",
       "<rect x=\"0.0\" y=\"-166.66666666666666\" width=\"6.25\" height=\"83.333\" opacity=\"0.0\" fill=\"currentColor\" stroke-width=\"0.1\"/>\n",
       "<rect x=\"6.25\" y=\"-166.66666666666666\" width=\"6.25\" height=\"83.333\" opacity=\"0.0\" fill=\"currentColor\" stroke-width=\"0.1\"/>\n",
       "<rect x=\"12.5\" y=\"-166.66666666666666\" width=\"6.25\" height=\"83.333\" opacity=\"0.0\" fill=\"currentColor\" stroke-width=\"0.1\"/>\n",
       "<rect x=\"18.75\" y=\"-166.66666666666666\" width=\"6.25\" height=\"83.333\" opacity=\"0.0\" fill=\"currentColor\" stroke-width=\"0.1\"/>\n",
       "<rect x=\"25.0\" y=\"-166.66666666666666\" width=\"6.25\" height=\"83.333\" opacity=\"0.014285714285714284\" fill=\"currentColor\" stroke-width=\"0.1\"/>\n",
       "<rect x=\"31.25\" y=\"-166.66666666666666\" width=\"6.25\" height=\"83.333\" opacity=\"0.08571428571428572\" fill=\"currentColor\" stroke-width=\"0.1\"/>\n",
       "<rect x=\"37.5\" y=\"-166.66666666666666\" width=\"6.25\" height=\"83.333\" opacity=\"0.22857142857142854\" fill=\"currentColor\" stroke-width=\"0.1\"/>\n",
       "<rect x=\"43.75\" y=\"-166.66666666666666\" width=\"6.25\" height=\"83.333\" opacity=\"0.2\" fill=\"currentColor\" stroke-width=\"0.1\"/>\n",
       "<rect x=\"50.0\" y=\"-166.66666666666666\" width=\"6.25\" height=\"83.333\" opacity=\"0.22857142857142854\" fill=\"currentColor\" stroke-width=\"0.1\"/>\n",
       "<rect x=\"56.25\" y=\"-166.66666666666666\" width=\"6.25\" height=\"83.333\" opacity=\"0.1571428571428571\" fill=\"currentColor\" stroke-width=\"0.1\"/>\n",
       "<rect x=\"62.5\" y=\"-166.66666666666666\" width=\"6.25\" height=\"83.333\" opacity=\"0.21428571428571427\" fill=\"currentColor\" stroke-width=\"0.1\"/>\n",
       "<rect x=\"68.75\" y=\"-166.66666666666666\" width=\"6.25\" height=\"83.333\" opacity=\"0.17142857142857143\" fill=\"currentColor\" stroke-width=\"0.1\"/>\n",
       "<rect x=\"75.0\" y=\"-166.66666666666666\" width=\"6.25\" height=\"83.333\" opacity=\"0.2714285714285714\" fill=\"currentColor\" stroke-width=\"0.1\"/>\n",
       "<rect x=\"81.25\" y=\"-166.66666666666666\" width=\"6.25\" height=\"83.333\" opacity=\"0.35714285714285715\" fill=\"currentColor\" stroke-width=\"0.1\"/>\n",
       "<rect x=\"87.5\" y=\"-166.66666666666666\" width=\"6.25\" height=\"83.333\" opacity=\"0.35714285714285715\" fill=\"currentColor\" stroke-width=\"0.1\"/>\n",
       "<rect x=\"93.75\" y=\"-166.66666666666666\" width=\"6.25\" height=\"83.333\" opacity=\"0.44285714285714284\" fill=\"currentColor\" stroke-width=\"0.1\"/>\n",
       "<rect x=\"100.0\" y=\"-166.66666666666666\" width=\"6.25\" height=\"83.333\" opacity=\"0.35714285714285715\" fill=\"currentColor\" stroke-width=\"0.1\"/>\n",
       "<rect x=\"106.25\" y=\"-166.66666666666666\" width=\"6.25\" height=\"83.333\" opacity=\"0.5\" fill=\"currentColor\" stroke-width=\"0.1\"/>\n",
       "<rect x=\"112.5\" y=\"-166.66666666666666\" width=\"6.25\" height=\"83.333\" opacity=\"0.2857142857142857\" fill=\"currentColor\" stroke-width=\"0.1\"/>\n",
       "<rect x=\"118.75\" y=\"-166.66666666666666\" width=\"6.25\" height=\"83.333\" opacity=\"0.4571428571428571\" fill=\"currentColor\" stroke-width=\"0.1\"/>\n",
       "<rect x=\"125.0\" y=\"-166.66666666666666\" width=\"6.25\" height=\"83.333\" opacity=\"0.35714285714285715\" fill=\"currentColor\" stroke-width=\"0.1\"/>\n",
       "<rect x=\"131.25\" y=\"-166.66666666666666\" width=\"6.25\" height=\"83.333\" opacity=\"0.5\" fill=\"currentColor\" stroke-width=\"0.1\"/>\n",
       "<rect x=\"137.5\" y=\"-166.66666666666666\" width=\"6.25\" height=\"83.333\" opacity=\"0.17142857142857143\" fill=\"currentColor\" stroke-width=\"0.1\"/>\n",
       "<rect x=\"143.75\" y=\"-166.66666666666666\" width=\"6.25\" height=\"83.333\" opacity=\"0.2857142857142857\" fill=\"currentColor\" stroke-width=\"0.1\"/>\n",
       "<rect x=\"150.0\" y=\"-166.66666666666666\" width=\"6.25\" height=\"83.333\" opacity=\"0.3\" fill=\"currentColor\" stroke-width=\"0.1\"/>\n",
       "<rect x=\"156.25\" y=\"-166.66666666666666\" width=\"6.25\" height=\"83.333\" opacity=\"0.34285714285714286\" fill=\"currentColor\" stroke-width=\"0.1\"/>\n",
       "<rect x=\"162.5\" y=\"-166.66666666666666\" width=\"6.25\" height=\"83.333\" opacity=\"0.17142857142857143\" fill=\"currentColor\" stroke-width=\"0.1\"/>\n",
       "<rect x=\"168.75\" y=\"-166.66666666666666\" width=\"6.25\" height=\"83.333\" opacity=\"0.22857142857142854\" fill=\"currentColor\" stroke-width=\"0.1\"/>\n",
       "<rect x=\"175.0\" y=\"-166.66666666666666\" width=\"6.25\" height=\"83.333\" opacity=\"0.14285714285714285\" fill=\"currentColor\" stroke-width=\"0.1\"/>\n",
       "<rect x=\"181.25\" y=\"-166.66666666666666\" width=\"6.25\" height=\"83.333\" opacity=\"0.08571428571428572\" fill=\"currentColor\" stroke-width=\"0.1\"/>\n",
       "<rect x=\"187.5\" y=\"-166.66666666666666\" width=\"6.25\" height=\"83.333\" opacity=\"0.08571428571428572\" fill=\"currentColor\" stroke-width=\"0.1\"/>\n",
       "<rect x=\"193.75\" y=\"-166.66666666666666\" width=\"6.25\" height=\"83.333\" opacity=\"0.07142857142857142\" fill=\"currentColor\" stroke-width=\"0.1\"/>\n",
       "<rect x=\"200.0\" y=\"-166.66666666666666\" width=\"6.25\" height=\"83.333\" opacity=\"0.07142857142857142\" fill=\"currentColor\" stroke-width=\"0.1\"/>\n",
       "<rect x=\"206.25\" y=\"-166.66666666666666\" width=\"6.25\" height=\"83.333\" opacity=\"0.12857142857142856\" fill=\"currentColor\" stroke-width=\"0.1\"/>\n",
       "<rect x=\"212.5\" y=\"-166.66666666666666\" width=\"6.25\" height=\"83.333\" opacity=\"0.0\" fill=\"currentColor\" stroke-width=\"0.1\"/>\n",
       "<rect x=\"218.75\" y=\"-166.66666666666666\" width=\"6.25\" height=\"83.333\" opacity=\"0.014285714285714284\" fill=\"currentColor\" stroke-width=\"0.1\"/>\n",
       "<rect x=\"225.0\" y=\"-166.66666666666666\" width=\"6.25\" height=\"83.333\" opacity=\"0.028571428571428567\" fill=\"currentColor\" stroke-width=\"0.1\"/>\n",
       "<rect x=\"231.25\" y=\"-166.66666666666666\" width=\"6.25\" height=\"83.333\" opacity=\"0.028571428571428567\" fill=\"currentColor\" stroke-width=\"0.1\"/>\n",
       "<rect x=\"237.5\" y=\"-166.66666666666666\" width=\"6.25\" height=\"83.333\" opacity=\"0.028571428571428567\" fill=\"currentColor\" stroke-width=\"0.1\"/>\n",
       "<rect x=\"243.75\" y=\"-166.66666666666666\" width=\"6.25\" height=\"83.333\" opacity=\"0.014285714285714284\" fill=\"currentColor\" stroke-width=\"0.1\"/>\n",
       "<rect x=\"0.0\" y=\"-250.0\" width=\"6.25\" height=\"83.333\" opacity=\"0.0\" fill=\"currentColor\" stroke-width=\"0.1\"/>\n",
       "<rect x=\"6.25\" y=\"-250.0\" width=\"6.25\" height=\"83.333\" opacity=\"0.0\" fill=\"currentColor\" stroke-width=\"0.1\"/>\n",
       "<rect x=\"12.5\" y=\"-250.0\" width=\"6.25\" height=\"83.333\" opacity=\"0.0\" fill=\"currentColor\" stroke-width=\"0.1\"/>\n",
       "<rect x=\"18.75\" y=\"-250.0\" width=\"6.25\" height=\"83.333\" opacity=\"0.0\" fill=\"currentColor\" stroke-width=\"0.1\"/>\n",
       "<rect x=\"25.0\" y=\"-250.0\" width=\"6.25\" height=\"83.333\" opacity=\"0.028571428571428567\" fill=\"currentColor\" stroke-width=\"0.1\"/>\n",
       "<rect x=\"31.25\" y=\"-250.0\" width=\"6.25\" height=\"83.333\" opacity=\"0.11428571428571427\" fill=\"currentColor\" stroke-width=\"0.1\"/>\n",
       "<rect x=\"37.5\" y=\"-250.0\" width=\"6.25\" height=\"83.333\" opacity=\"0.17142857142857143\" fill=\"currentColor\" stroke-width=\"0.1\"/>\n",
       "<rect x=\"43.75\" y=\"-250.0\" width=\"6.25\" height=\"83.333\" opacity=\"0.22857142857142854\" fill=\"currentColor\" stroke-width=\"0.1\"/>\n",
       "<rect x=\"50.0\" y=\"-250.0\" width=\"6.25\" height=\"83.333\" opacity=\"0.3714285714285714\" fill=\"currentColor\" stroke-width=\"0.1\"/>\n",
       "<rect x=\"56.25\" y=\"-250.0\" width=\"6.25\" height=\"83.333\" opacity=\"0.24285714285714285\" fill=\"currentColor\" stroke-width=\"0.1\"/>\n",
       "<rect x=\"62.5\" y=\"-250.0\" width=\"6.25\" height=\"83.333\" opacity=\"0.2857142857142857\" fill=\"currentColor\" stroke-width=\"0.1\"/>\n",
       "<rect x=\"68.75\" y=\"-250.0\" width=\"6.25\" height=\"83.333\" opacity=\"0.32857142857142857\" fill=\"currentColor\" stroke-width=\"0.1\"/>\n",
       "<rect x=\"75.0\" y=\"-250.0\" width=\"6.25\" height=\"83.333\" opacity=\"0.34285714285714286\" fill=\"currentColor\" stroke-width=\"0.1\"/>\n",
       "<rect x=\"81.25\" y=\"-250.0\" width=\"6.25\" height=\"83.333\" opacity=\"0.5285714285714286\" fill=\"currentColor\" stroke-width=\"0.1\"/>\n",
       "<rect x=\"87.5\" y=\"-250.0\" width=\"6.25\" height=\"83.333\" opacity=\"0.5\" fill=\"currentColor\" stroke-width=\"0.1\"/>\n",
       "<rect x=\"93.75\" y=\"-250.0\" width=\"6.25\" height=\"83.333\" opacity=\"0.4\" fill=\"currentColor\" stroke-width=\"0.1\"/>\n",
       "<rect x=\"100.0\" y=\"-250.0\" width=\"6.25\" height=\"83.333\" opacity=\"0.41428571428571426\" fill=\"currentColor\" stroke-width=\"0.1\"/>\n",
       "<rect x=\"106.25\" y=\"-250.0\" width=\"6.25\" height=\"83.333\" opacity=\"0.3857142857142857\" fill=\"currentColor\" stroke-width=\"0.1\"/>\n",
       "<rect x=\"112.5\" y=\"-250.0\" width=\"6.25\" height=\"83.333\" opacity=\"0.4857142857142857\" fill=\"currentColor\" stroke-width=\"0.1\"/>\n",
       "<rect x=\"118.75\" y=\"-250.0\" width=\"6.25\" height=\"83.333\" opacity=\"0.44285714285714284\" fill=\"currentColor\" stroke-width=\"0.1\"/>\n",
       "<rect x=\"125.0\" y=\"-250.0\" width=\"6.25\" height=\"83.333\" opacity=\"0.3\" fill=\"currentColor\" stroke-width=\"0.1\"/>\n",
       "<rect x=\"131.25\" y=\"-250.0\" width=\"6.25\" height=\"83.333\" opacity=\"0.21428571428571427\" fill=\"currentColor\" stroke-width=\"0.1\"/>\n",
       "<rect x=\"137.5\" y=\"-250.0\" width=\"6.25\" height=\"83.333\" opacity=\"0.24285714285714285\" fill=\"currentColor\" stroke-width=\"0.1\"/>\n",
       "<rect x=\"143.75\" y=\"-250.0\" width=\"6.25\" height=\"83.333\" opacity=\"0.22857142857142854\" fill=\"currentColor\" stroke-width=\"0.1\"/>\n",
       "<rect x=\"150.0\" y=\"-250.0\" width=\"6.25\" height=\"83.333\" opacity=\"0.22857142857142854\" fill=\"currentColor\" stroke-width=\"0.1\"/>\n",
       "<rect x=\"156.25\" y=\"-250.0\" width=\"6.25\" height=\"83.333\" opacity=\"0.17142857142857143\" fill=\"currentColor\" stroke-width=\"0.1\"/>\n",
       "<rect x=\"162.5\" y=\"-250.0\" width=\"6.25\" height=\"83.333\" opacity=\"0.08571428571428572\" fill=\"currentColor\" stroke-width=\"0.1\"/>\n",
       "<rect x=\"168.75\" y=\"-250.0\" width=\"6.25\" height=\"83.333\" opacity=\"0.17142857142857143\" fill=\"currentColor\" stroke-width=\"0.1\"/>\n",
       "<rect x=\"175.0\" y=\"-250.0\" width=\"6.25\" height=\"83.333\" opacity=\"0.08571428571428572\" fill=\"currentColor\" stroke-width=\"0.1\"/>\n",
       "<rect x=\"181.25\" y=\"-250.0\" width=\"6.25\" height=\"83.333\" opacity=\"0.08571428571428572\" fill=\"currentColor\" stroke-width=\"0.1\"/>\n",
       "<rect x=\"187.5\" y=\"-250.0\" width=\"6.25\" height=\"83.333\" opacity=\"0.07142857142857142\" fill=\"currentColor\" stroke-width=\"0.1\"/>\n",
       "<rect x=\"193.75\" y=\"-250.0\" width=\"6.25\" height=\"83.333\" opacity=\"0.04285714285714286\" fill=\"currentColor\" stroke-width=\"0.1\"/>\n",
       "<rect x=\"200.0\" y=\"-250.0\" width=\"6.25\" height=\"83.333\" opacity=\"0.04285714285714286\" fill=\"currentColor\" stroke-width=\"0.1\"/>\n",
       "<rect x=\"206.25\" y=\"-250.0\" width=\"6.25\" height=\"83.333\" opacity=\"0.057142857142857134\" fill=\"currentColor\" stroke-width=\"0.1\"/>\n",
       "<rect x=\"212.5\" y=\"-250.0\" width=\"6.25\" height=\"83.333\" opacity=\"0.057142857142857134\" fill=\"currentColor\" stroke-width=\"0.1\"/>\n",
       "<rect x=\"218.75\" y=\"-250.0\" width=\"6.25\" height=\"83.333\" opacity=\"0.028571428571428567\" fill=\"currentColor\" stroke-width=\"0.1\"/>\n",
       "<rect x=\"225.0\" y=\"-250.0\" width=\"6.25\" height=\"83.333\" opacity=\"0.057142857142857134\" fill=\"currentColor\" stroke-width=\"0.1\"/>\n",
       "<rect x=\"231.25\" y=\"-250.0\" width=\"6.25\" height=\"83.333\" opacity=\"0.014285714285714284\" fill=\"currentColor\" stroke-width=\"0.1\"/>\n",
       "<rect x=\"237.5\" y=\"-250.0\" width=\"6.25\" height=\"83.333\" opacity=\"0.014285714285714284\" fill=\"currentColor\" stroke-width=\"0.1\"/>\n",
       "<rect x=\"243.75\" y=\"-250.0\" width=\"6.25\" height=\"83.333\" opacity=\"0.014285714285714284\" fill=\"currentColor\" stroke-width=\"0.1\"/>\n",
       "</svg>\n",
       "</div>\n",
       "<div style=\"flex=grow:1;\">\n",
       "Regular(40, 0, 2000, name='dijet_mass', label='Dijet Mass [GeV]')<br/>\n",
       "StrCategory(['Pair1', 'Pair2', 'Pair3'], name='dijet', label='Dijets')<br/>\n",
       "<hr style=\"margin-top:.2em; margin-bottom:.2em;\"/>\n",
       "Double() Σ=1572.0 <em>(1596.0 with flow)</em>\n",
       "\n",
       "</div>\n",
       "</div>\n",
       "</html>"
      ],
      "text/plain": [
       "Hist(\n",
       "  Regular(40, 0, 2000, name='dijet_mass', label='Dijet Mass [GeV]'),\n",
       "  StrCategory(['Pair1', 'Pair2', 'Pair3'], name='dijet', label='Dijets'),\n",
       "  storage=Double()) # Sum: 1572.0 (1596.0 with flow)"
      ]
     },
     "execution_count": 12,
     "metadata": {},
     "output_type": "execute_result"
    }
   ],
   "source": [
    "j2_hist = Hist(j2_bin, j2_cat)\n",
    "j2_hist.fill(dijet=\"Pair1\", dijet_mass=dijet1_mass)\n",
    "j2_hist.fill(dijet=\"Pair2\", dijet_mass=dijet2_mass)\n",
    "j2_hist.fill(dijet=\"Pair3\", dijet_mass=dijet3_mass)"
   ]
  },
  {
   "cell_type": "code",
   "execution_count": 13,
   "id": "9ab7f9cf",
   "metadata": {},
   "outputs": [
    {
     "data": {
      "text/plain": [
       "<matplotlib.legend.Legend at 0x7f7a4398b310>"
      ]
     },
     "execution_count": 13,
     "metadata": {},
     "output_type": "execute_result"
    },
    {
     "data": {
      "image/png": "[encoded data removed]",
      "text/plain": [
       "<Figure size 720x720 with 1 Axes>"
      ]
     },
     "metadata": {
      "needs_background": "light"
     },
     "output_type": "display_data"
    }
   ],
   "source": [
    "j2_hist.plot(stack=True,histtype='fill')\n",
    "hep.cms.text(\"Work in progress\",loc=0)\n",
    "plt.ylabel(\"Event count\",horizontalalignment='right', y=1.0)\n",
    "plt.legend()"
   ]
  },
  {
   "cell_type": "code",
   "execution_count": null,
   "id": "0d54b0a0",
   "metadata": {},
   "outputs": [],
   "source": []
  }
 ],
 "metadata": {
  "kernelspec": {
   "display_name": "Python 3",
   "language": "python",
   "name": "python3"
  },
  "language_info": {
   "codemirror_mode": {
    "name": "ipython",
    "version": 3
   },
   "file_extension": ".py",
   "mimetype": "text/x-python",
   "name": "python",
   "nbconvert_exporter": "python",
   "pygments_lexer": "ipython3",
   "version": "3.9.12"
  }
 },
 "nbformat": 4,
 "nbformat_minor": 5
}
