{
 "cells": [
  {
   "cell_type": "code",
   "execution_count": 1,
   "id": "3db5f338",
   "metadata": {},
   "outputs": [],
   "source": [
    "import uproot\n",
    "import awkward as ak\n",
    "import matplotlib.pyplot as plt\n",
    "import hist\n",
    "from hist import Hist\n",
    "from coffea.nanoevents import NanoEventsFactory, BaseSchema\n",
    "import coffea.processor as processor\n",
    "from coffea.nanoevents import NanoEventsFactory, NanoAODSchema, schemas\n",
    "import numpy as np\n",
    "import mplhep as hep\n",
    "from prettytable import PrettyTable\n"
   ]
  },
  {
   "cell_type": "code",
   "execution_count": 2,
   "id": "e3ad04e5",
   "metadata": {},
   "outputs": [],
   "source": [
    "fileset = \"/eos/home-b/bchitrod/HHH/NANOAOD/TRSM_XToHY_6b_M3_2800_M2_2300_NANOAOD.root\" "
   ]
  },
  {
   "cell_type": "code",
   "execution_count": 3,
   "id": "f470eec3",
   "metadata": {},
   "outputs": [],
   "source": [
    "eventsToRead = 10000\n",
    "events = NanoEventsFactory.from_root(fileset,schemaclass=NanoAODSchema,metadata={\"dataset\": \"testSignal\"},entry_stop=eventsToRead).events()"
   ]
  },
  {
   "cell_type": "code",
   "execution_count": 4,
   "id": "05d66d02",
   "metadata": {},
   "outputs": [
    {
     "data": {
      "text/plain": [
       "<Array [401, 402, 403, ... 7198, 7199, 7200] type='10000 * uint64[parameters={\"_...'>"
      ]
     },
     "execution_count": 4,
     "metadata": {},
     "output_type": "execute_result"
    }
   ],
   "source": [
    "events.event"
   ]
  },
  {
   "cell_type": "code",
   "execution_count": 5,
   "id": "ad54347c",
   "metadata": {},
   "outputs": [],
   "source": [
    "#useful functions\n",
    "def closest(masses):\n",
    "    delta = abs(125 - masses)\n",
    "    closest_masses = ak.min(delta, axis=1)\n",
    "    is_closest = (delta == closest_masses)\n",
    "    return is_closest\n",
    "\n",
    "def HbbvsQCD(fatjet):\n",
    "    score = (fatjet.particleNetMD_Xbb/(fatjet.particleNetMD_Xbb+fatjet.particleNetMD_QCD))\n",
    "    return score\n"
   ]
  },
  {
   "cell_type": "code",
   "execution_count": 6,
   "id": "8ab93590",
   "metadata": {},
   "outputs": [],
   "source": [
    "    #Semiboosted selection\n",
    "    fatjets = events.FatJet\n",
    "    jets = events.Jet\n",
    "\n",
    "    ptcut = 250\n",
    "    etacut = 2.5\n",
    "    mass_cut = [100,150]\n",
    "    pNet_cut = 0.9105\n",
    "\n",
    "    good_fatjets = fatjets[(fatjets.pt>ptcut) & (np.absolute(fatjets.eta)<etacut) & (fatjets.msoftdrop>=mass_cut[0]) & (fatjets.msoftdrop<=mass_cut[1])] #& (fatjets.particleNet_HbbvsQCD>=pNet_cut)                                                  \n",
    "    good_semiboosted = good_fatjets[ak.num(good_fatjets, axis=1) == 2]\n",
    "    good_boosted = good_fatjets[ak.num(good_fatjets, axis=1)> 2]\n",
    "\n",
    "    res_ptcut = 30\n",
    "    res_etacut = 2.5\n",
    "    res_mass_cut = [90,150]\n",
    "    # loose cut = 0.0532, med_cut = 0.3040, tight_cut = 0.7476 , https://twiki.cern.ch/twiki/bin/view/CMS/BtagRecommendation106XUL17                                                                                                                  \n",
    "    res_deepBcut = 0.0532\n",
    "\n",
    "    good_jets = jets[(jets.pt > res_ptcut) & (np.absolute(jets.eta) < res_etacut) & (jets.btagDeepB>res_deepBcut)]\n",
    "\n",
    "    res_jets = (good_jets[ak.num(good_fatjets, axis=1) == 2])\n",
    "    good_pairs = res_jets.nearest(good_semiboosted).delta_r(res_jets)>0.8\n",
    "    good_paired = res_jets[good_pairs]\n",
    "    res_bjets = (good_paired[ak.num(good_paired, axis=1) >= 2])\n",
    "\n",
    "    dijets = ak.combinations(res_bjets, 2, fields=['i0', 'i1'])\n",
    "    dijet_masses = (dijets['i0'] + dijets['i1']).mass\n",
    "    is_closest = closest(dijet_masses)\n",
    "    closest_dijets = dijets[is_closest]\n",
    "\n",
    "    mass_jets = closest_dijets[((closest_dijets['i0'] + closest_dijets['i1']).mass>=res_mass_cut[0]) & ((closest_dijets['i0'] + closest_dijets['i1']).mass<=res_mass_cut[1])]\n",
    "    selected_jets = mass_jets[ak.num(mass_jets,axis=1)>0]\n",
    "    selected_fatjets = good_semiboosted[ak.num(selected_jets, axis=1)>0]"
   ]
  },
  {
   "cell_type": "code",
   "execution_count": 7,
   "id": "96ff9b16",
   "metadata": {},
   "outputs": [],
   "source": [
    "    #initiating arrays\n",
    "    fj1_pt = []\n",
    "    fj1_eta = []\n",
    "    fj1_phi = []\n",
    "    fj1_mass = []\n",
    "    fj1_pnet = []\n",
    "    fj2_pt = []\n",
    "    fj2_eta = []\n",
    "    fj2_phi = []\n",
    "    fj2_mass =[]\n",
    "    fj2_pnet = []\n",
    "    rj1_pt = []\n",
    "    rj1_eta = []\n",
    "    rj1_phi = []\n",
    "    rj2_pt = []\n",
    "    rj2_eta = []\n",
    "    rj2_phi = []\n",
    "    nevnt = []\n",
    "    Numbers = []\n"
   ]
  },
  {
   "cell_type": "code",
   "execution_count": 8,
   "id": "bb4ee2f6",
   "metadata": {},
   "outputs": [],
   "source": [
    "#interesting events \n",
    "tri_mass = (selected_fatjets[:,0]+selected_fatjets[:,1]+selected_jets['i0']+selected_jets['i1']).mass\n",
    "mass_1800 = []\n",
    "mass_2800 = []\n",
    "for i in tri_mass:\n",
    "    for j in i:\n",
    "        if j>=1780.0 and j<=1820.0:\n",
    "            mass_1800.append(j)\n",
    "        if j>=2780.0and j<=2820.0:\n",
    "            mass_2800.append(j)"
   ]
  },
  {
   "cell_type": "code",
   "execution_count": 14,
   "id": "5055030a",
   "metadata": {},
   "outputs": [
    {
     "name": "stdout",
     "output_type": "stream",
     "text": [
      "[4, 76, 106, 168, 178, 208, 279, 405, 451, 492, 625, 639, 658, 726, 908, 1014, 1063, 4, 76, 106, 168, 178, 208, 279, 405, 451, 492, 625, 639, 658, 726, 908, 1014, 1063, 4, 76, 106, 168, 178, 208, 279, 405, 451, 492, 625, 639, 658, 726, 908, 1014, 1063]\n"
     ]
    }
   ],
   "source": [
    "#finding event number for interesting events\n",
    "for mass in mass_1800:\n",
    "    mass_fatjet = selected_fatjets[tri_mass == mass]\n",
    "    event_select = events[ak.num(mass_fatjet,axis=1)>0]\n",
    "    nevnt.append(event_select.event)\n",
    "    \n",
    "#tracing array element number from event number\n",
    "\n",
    "for j in nevnt:\n",
    "    n=0\n",
    "    for i in events.event:\n",
    "        if i==j:\n",
    "            Numbers.append(n)\n",
    "            break\n",
    "        n += 1\n",
    "print(Numbers)"
   ]
  },
  {
   "cell_type": "code",
   "execution_count": 10,
   "id": "20badcb7",
   "metadata": {},
   "outputs": [],
   "source": [
    "    for mass,n in zip(mass_1800,Numbers):\n",
    "        fj1_pt.append(fatjets[n,0].pt)\n",
    "        fj1_eta.append(fatjets[n,0].eta)\n",
    "        fj1_phi.append(fatjets[n,0].phi)\n",
    "        fj1_mass.append(fatjets[n,0].msoftdrop)\n",
    "        fj1_pnet.append(HbbvsQCD(fatjets[n,0]))\n",
    "        fj2_pt.append(fatjets[n,1].pt)\n",
    "        fj2_eta.append(fatjets[n,1].eta)\n",
    "        fj2_phi.append(fatjets[n,1].phi)\n",
    "        fj2_mass.append(fatjets[n,1].msoftdrop)\n",
    "        fj2_pnet.append(HbbvsQCD(fatjets[n,1]))\n",
    "        rj1_pt.append(jets[n,0].pt)\n",
    "        rj1_eta.append(jets[n,0].eta)\n",
    "        rj1_phi.append(jets[n,0].phi)\n",
    "        rj2_pt.append(jets[n,1].pt)\n",
    "        rj2_eta.append(jets[n,1].eta)\n",
    "        rj2_phi.append(jets[n,1].phi)"
   ]
  },
  {
   "cell_type": "code",
   "execution_count": 11,
   "id": "f3ac9420",
   "metadata": {},
   "outputs": [],
   "source": [
    "def makePrettyTable(table_col1, table_col2, table_col3,table_col4,table_col5,table_col6,table_col7,table_col8,table_col9,table_col10,table_col11,table_col12,table_col14,table_col15,table_col16):\n",
    "    table = PrettyTable()\n",
    "    table.add_column(\"Event Number\", table_col1)\n",
    "    table.add_column(\"FatJet1 Pt\", table_col2)\n",
    "    table.add_column(\"FatJet1 Eta\", table_col3)\n",
    "    table.add_column(\"FatJet1 Phi\", table_col4)\n",
    "    table.add_column(\"FatJet1 Mass\", table_col5)\n",
    "    table.add_column(\"FatJet2 Pt\", table_col6)\n",
    "    table.add_column(\"FatJet2 Eta\", table_col7)\n",
    "    table.add_column(\"FatJet2 Phi\", table_col8)\n",
    "    table.add_column(\"FatJet2 Mass\", table_col9)\n",
    "    table.add_column(\"ResJet1 Pt\", table_col10)\n",
    "    table.add_column(\"ResJet1 Eta\", table_col11)\n",
    "    table.add_column(\"ResJet1 Phi\", table_col12)\n",
    "    table.add_column(\"ResJet2 Pt\", table_col14)\n",
    "    table.add_column(\"ResJet2 Eta\", table_col15)\n",
    "    table.add_column(\"ResJet2 Phi\", table_col16)\n",
    "    return table"
   ]
  },
  {
   "cell_type": "code",
   "execution_count": 12,
   "id": "22a26a15",
   "metadata": {},
   "outputs": [],
   "source": [
    "t1 = makePrettyTable(nevnt,fj1_pt, fj1_eta, fj1_phi, fj1_mass,fj2_pt, fj2_eta, fj2_phi, fj2_mass,rj1_pt, rj1_eta, rj1_phi, rj2_pt, rj2_eta, rj2_phi)"
   ]
  },
  {
   "cell_type": "code",
   "execution_count": 13,
   "id": "8177f068",
   "metadata": {},
   "outputs": [
    {
     "name": "stdout",
     "output_type": "stream",
     "text": [
      "+--------------+------------+------------------+-------------------+--------------+------------+--------------------+-------------------+------------------------+------------+------------------+-------------------+------------+-------------------+--------------------+\n",
      "| Event Number | FatJet1 Pt |   FatJet1 Eta    |    FatJet1 Phi    | FatJet1 Mass | FatJet2 Pt |    FatJet2 Eta     |    FatJet2 Phi    |      FatJet2 Mass      | ResJet1 Pt |   ResJet1 Eta    |    ResJet1 Phi    | ResJet2 Pt |    ResJet2 Eta    |    ResJet2 Phi     |\n",
      "+--------------+------------+------------------+-------------------+--------------+------------+--------------------+-------------------+------------------------+------------+------------------+-------------------+------------+-------------------+--------------------+\n",
      "|    [405]     |   1086.0   |   0.552734375    |   2.16259765625   |   129.375    |   1016.0   |   -1.9287109375    |   -1.39013671875  |        91.4375         |   1061.0   |  0.54638671875   |   2.16259765625   |   1006.0   |   -1.9228515625   |   -1.3857421875    |\n",
      "|    [477]     |   642.5    |  -0.99658203125  |    -1.69921875    |   121.375    |   354.75   |  0.6075439453125   |   1.760986328125  |        53.78125        |   620.0    |   -0.98046875    |   -1.70556640625  |   353.25   |   0.610107421875  |   1.765380859375   |\n",
      "|    [9607]    |   420.5    |  1.296630859375  |   1.132080078125  |    113.0     |   393.0    |  0.25201416015625  |  -0.6807861328125 |         137.0          |   333.25   | -1.775634765625  |   2.78564453125   |   276.25   |  0.3492431640625  |  -0.838623046875   |\n",
      "|    [9669]    |   1012.5   | 0.9332275390625  |  0.8450927734375  |   230.375    |   721.5    |  0.3594970703125   |   -2.3408203125   |      3.564453125       |   851.5    | 0.9373779296875  |   0.92431640625   |   721.0    |   0.383544921875  |   -2.3525390625    |\n",
      "|    [9679]    |   1107.0   |  0.670166015625  |   0.933349609375  |   7.015625   |   1002.5   | -0.076812744140625 |  -1.807373046875  |         133.25         |   1165.0   |  0.667724609375  |  0.9427490234375  |   1000.0   | -0.07611083984375 |   -1.8076171875    |\n",
      "|    [1609]    |   671.0    | -0.7679443359375 |  0.39849853515625 |    249.0     |   561.5    |   1.369873046875   |   -2.73291015625  |         88.25          |   547.5    |  1.36279296875   |   -2.73388671875  |   408.0    |  -0.7664794921875 |   0.63330078125    |\n",
      "|    [1680]    |   755.5    |  -1.6884765625   |   -1.1552734375   |   107.6875   |   639.0    |   0.420654296875   |      2.859375     |        126.375         |   763.0    | -1.677978515625  |  -1.156005859375  |   506.25   |  0.4334716796875  |   2.76904296875    |\n",
      "|    [2306]    |   1122.0   | -0.686767578125  | -0.14349365234375 |    39.375    |   1102.0   |     -0.671875      |   -3.1044921875   |        122.625         |   1112.0   | -0.686767578125  | -0.14495849609375 |   1087.0   |  -0.6734619140625 |     -3.1015625     |\n",
      "|    [2352]    |   961.0    |  1.68212890625   |    2.9326171875   | 2.017578125  |   502.75   |  0.2440185546875   | -0.19427490234375 |         88.625         |   962.0    |  1.678955078125  |    2.9365234375   |   506.0    |   0.241455078125  | -0.189544677734375 |\n",
      "|    [2393]    |   457.5    |   1.572265625    |    2.115234375    |   10.84375   |   401.75   |   -1.63720703125   |   -1.76416015625  |        107.6875        |   434.5    |   1.572265625    |     2.1171875     |   325.5    |  -1.509521484375  |    -1.84765625     |\n",
      "|    [9026]    |   909.0    |   1.3564453125   |  -1.927001953125  |    104.0     |   791.0    |  -0.9439697265625  |   1.968994140625  |         223.0          |   974.0    |   1.3583984375   |  -1.927978515625  |   707.0    |   -0.93994140625  |   1.865966796875   |\n",
      "|    [9040]    |   802.5    |   1.0087890625   |    1.4345703125   |     50.5     |   605.0    |  -1.193603515625   |  -1.681884765625  |         138.0          |   771.0    |   1.021484375    |   1.444580078125  |   454.25   |    -1.302734375   |   -1.69873046875   |\n",
      "|    [9059]    |   417.5    |  2.16455078125   |  0.7318115234375  |   33.21875   |   233.75   |   1.533447265625   |   -2.17041015625  |       13.6953125       |   413.25   |  2.17333984375   |  0.7327880859375  |  226.625   |     1.51171875    |   -2.11767578125   |\n",
      "|    [5927]    |   683.5    |   0.580078125    |    2.6982421875   | 3.455078125  |   664.5    |  -1.474365234375   |  -0.8336181640625 | 2.6434659957885742e-05 |   743.0    |    0.5859375     |   2.66259765625   |   644.5    |  -1.458251953125  |  -0.813720703125   |\n",
      "|    [909]     |   1134.0   |  0.500732421875  |   -2.17529296875  |   124.4375   |   825.0    |  -1.170166015625   |   1.670654296875  |        238.125         |   1120.0   | 0.49993896484375 |    -2.17578125    |   621.5    |   -1.10888671875  |   1.81689453125    |\n",
      "|    [4315]    |   936.0    | -0.966064453125  |   2.74267578125   |    291.25    |   473.5    |  0.30780029296875  | -0.37896728515625 |        56.5625         |   632.5    | -1.086669921875  |   2.87255859375   |   463.5    |  0.30670166015625 |  -0.3819580078125  |\n",
      "|    [4364]    |   1186.0   | 0.4417724609375  |  -1.069091796875  |   121.3125   |   906.5    |   1.538330078125   |    1.9287109375   |         153.75         |   1190.0   | 0.44342041015625 |    -1.068359375   |   911.0    |   1.546142578125  |     1.92578125     |\n",
      "+--------------+------------+------------------+-------------------+--------------+------------+--------------------+-------------------+------------------------+------------+------------------+-------------------+------------+-------------------+--------------------+\n"
     ]
    }
   ],
   "source": [
    "print(t1)"
   ]
  },
  {
   "cell_type": "code",
   "execution_count": null,
   "id": "02301484",
   "metadata": {},
   "outputs": [],
   "source": []
  }
 ],
 "metadata": {
  "kernelspec": {
   "display_name": "Python 3",
   "language": "python",
   "name": "python3"
  },
  "language_info": {
   "codemirror_mode": {
    "name": "ipython",
    "version": 3
   },
   "file_extension": ".py",
   "mimetype": "text/x-python",
   "name": "python",
   "nbconvert_exporter": "python",
   "pygments_lexer": "ipython3",
   "version": "3.9.12"
  }
 },
 "nbformat": 4,
 "nbformat_minor": 5
}
