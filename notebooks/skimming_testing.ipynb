{
 "cells": [
  {
   "cell_type": "code",
   "execution_count": 1,
   "id": "ca827de9",
   "metadata": {},
   "outputs": [],
   "source": [
    "import uproot\n",
    "import awkward as ak\n",
    "from coffea.nanoevents import NanoEventsFactory, BaseSchema, NanoAODSchema\n",
    "import numpy as np"
   ]
  },
  {
   "cell_type": "code",
   "execution_count": 2,
   "id": "2c857fbc",
   "metadata": {},
   "outputs": [],
   "source": [
    "fname   = \"root://cms-xrd-global.cern.ch///store/mc/RunIISummer19UL17NanoAODv2/QCD_HT1000to1500_TuneCP5_PSWeights_13TeV-madgraphMLM-pythia8/NANOAODSIM/106X_mc2017_realistic_v8-v1/250000/032CD0E4-6F4F-A049-A65C-0A24275AB0C2.root\""
   ]
  },
  {
   "cell_type": "code",
   "execution_count": 3,
   "id": "0a0649ee",
   "metadata": {},
   "outputs": [
    {
     "name": "stderr",
     "output_type": "stream",
     "text": [
      "/users/mrogul/Work/H3/H3env/lib/python3.9/site-packages/uproot/reading.py:171: FutureWarning: XRootD unknown is not fully supported; either upgrade to 5.2.0+ or set\n",
      "\n",
      "    open.defaults[\"xrootd_handler\"] = uproot.MultithreadedXRootDSource\n",
      "\n",
      "  warnings.warn(message, FutureWarning)\n"
     ]
    }
   ],
   "source": [
    "eventsToRead = None\n",
    "events = NanoEventsFactory.from_root(fname,schemaclass=NanoAODSchema,entry_stop=eventsToRead).events()"
   ]
  },
  {
   "cell_type": "code",
   "execution_count": 4,
   "id": "6eb07592",
   "metadata": {},
   "outputs": [],
   "source": [
    "ptCut  = 200\n",
    "msdCut = 50\n",
    "etaCut = 2.5"
   ]
  },
  {
   "cell_type": "code",
   "execution_count": 5,
   "id": "f6afb393",
   "metadata": {},
   "outputs": [],
   "source": [
    "ptMask       = events.FatJet.pt>ptCut\n",
    "msdMask      = events.FatJet.msoftdrop>msdCut\n",
    "etaMask      = np.abs(events.FatJet.eta)<etaCut\n",
    "\n",
    "#We require at least two FatJets satisfying pt, eta and msd requirements\n",
    "#This allows for 3+0 or 2+1 (AK8Jet+AK4Jet topologies)\n",
    "skimmingMask = ak.sum(ptMask & msdMask & etaMask, axis=1)>1\n",
    "skimmed      = events[skimmingMask]"
   ]
  },
  {
   "cell_type": "code",
   "execution_count": 6,
   "id": "dda5f80f",
   "metadata": {},
   "outputs": [],
   "source": [
    "file = uproot.recreate(\"output_test.root\")"
   ]
  },
  {
   "cell_type": "code",
   "execution_count": 7,
   "id": "bc0b073d",
   "metadata": {},
   "outputs": [],
   "source": [
    "FatJetBranches = {}\n",
    "blacklists = [\"tau\",\"deepTag\",\"btag\",\"electron\",\"muon\",\"subJet\"]\n",
    "for i,field in enumerate(skimmed.FatJet.fields):\n",
    "    if any(blacklist in field for blacklist in blacklists):\n",
    "        continue\n",
    "    FatJetBranches[field]=getattr(skimmed.FatJet,field)\n",
    "    \n",
    "JetBranches = {}\n",
    "whitelists = [\"pt\",\"eta\",\"phi\",\"DeepFlavB\",\"mass\",\"rawFactor\"]\n",
    "for i,field in enumerate(skimmed.Jet.fields):\n",
    "    if not any(whitelist in field for whitelist in whitelists):\n",
    "        continue\n",
    "    JetBranches[field]=getattr(skimmed.Jet,field)\n",
    "    \n",
    "HLTBranches = {}\n",
    "for i,field in enumerate(skimmed.HLT.fields):\n",
    "    HLTBranches[field]=getattr(skimmed.HLT,field)"
   ]
  },
  {
   "cell_type": "code",
   "execution_count": 8,
   "id": "f4298d57",
   "metadata": {},
   "outputs": [
    {
     "name": "stdout",
     "output_type": "stream",
     "text": [
      "area\n",
      "eta\n",
      "genJetAK8Idx\n",
      "genJetAK8IdxG\n",
      "hadronFlavour\n",
      "jetId\n",
      "lsf3\n",
      "mass\n",
      "msoftdrop\n",
      "n2b1\n",
      "n3b1\n",
      "nBHadrons\n",
      "nCHadrons\n",
      "particleNetMD_QCD\n",
      "particleNetMD_Xbb\n",
      "particleNetMD_Xcc\n",
      "particleNetMD_Xqq\n",
      "particleNet_H4qvsQCD\n",
      "particleNet_HbbvsQCD\n",
      "particleNet_HccvsQCD\n",
      "particleNet_QCD\n",
      "particleNet_TvsQCD\n",
      "particleNet_WvsQCD\n",
      "particleNet_ZvsQCD\n",
      "phi\n",
      "pt\n",
      "rawFactor\n",
      "-----\n",
      "btagDeepFlavB\n",
      "eta\n",
      "mass\n",
      "phi\n",
      "pt\n",
      "rawFactor\n"
     ]
    }
   ],
   "source": [
    "for branch in FatJetBranches:\n",
    "    print(branch)\n",
    "print(\"-----\")\n",
    "for branch in JetBranches:\n",
    "    print(branch)"
   ]
  },
  {
   "cell_type": "code",
   "execution_count": 9,
   "id": "d811c413",
   "metadata": {},
   "outputs": [
    {
     "ename": "AssertionError",
     "evalue": "how did this pass the type check?\n\n<VirtualArray cache_key=\"ak578\">\n    <parameters>\n        <param key=\"__doc__\">\"jet catchment area, for JECs\"</param>\n    </parameters>\n    <SliceGenerator>\n        <slice>[array([0, 1, 2, 18, 19, 22, 23, 24, 48, 49, ..., 378920, 378921, 378922, 378923, 378935, 378936, 378937, 378970, 378971, 378972])]</slice>\n        <content><VirtualArray cache_key=\"ak.from_buffers:0(ec14f966-3b08-11eb-8fc2-020013acbeef/%2FEvents%3B1/0-159888/0/FatJet_area%2C%21load%2C%21content/virtual)\">\n            <ArrayGenerator f=\"<function _form_to_layout at 0x7f158adb94c0>\" args=\"({\n    \"class\": \"NumpyArray\",\n    \"itemsize\": 4,\n    \"format\": \"f\",\n    \"primitive\": \"float32\",\n    \"parameters\": {\n        \"__doc__\": \"jet catchment area, for JECs\"\n    },\n    \"form_key\": \"FatJet_area%2C%21load%2C%21content\"\n}, <coffea.nanoevents.mapping.uproot.UprootSourceMapping object at 0x7f15856fdb80>, '0', functools.partial(<function _key_formatter at 0x7f158ad638b0>, 'ec14f966-3b08-11eb-8fc2-020013acbeef/%2FEvents%3B1/0-159888'), 378973, <ArrayCache mapping=\"{'ak.from_buffers:0': <RecordArray length=\"1598...\"/>, 'ak.from_buffers:0')\">\n                <length>378973</length>\n                <form>\n                    {\n                        \"class\": \"NumpyArray\",\n                        \"itemsize\": 4,\n                        \"format\": \"f\",\n                        \"primitive\": \"float32\",\n                        \"parameters\": {\n                            \"__doc__\": \"jet catchment area, for JECs\"\n                        },\n                        \"form_key\": \"FatJet_area%2C%21load%2C%21content\"\n                    }\n                </form>\n            </ArrayGenerator>\n            <ArrayCache mapping=\"{'ak.from_buffers:0': <RecordArray length=\"1598...\"/>\n            <array><NumpyArray format=\"f\" shape=\"378973\" data=\"2.00391 1.96484 1.96484 2.02539 2.00391 ... 2.04492 1.86523 1.97461 1.84473 1.48633\" at=\"0x000004ba3bc0\">\n                <parameters>\n                    <param key=\"__doc__\">\"jet catchment area, for JECs\"</param>\n                </parameters>\n            </NumpyArray></array>\n        </VirtualArray></content>\n        <length>56929</length>\n    </SliceGenerator>\n</VirtualArray>",
     "output_type": "error",
     "traceback": [
      "\u001b[0;31m---------------------------------------------------------------------------\u001b[0m",
      "\u001b[0;31mAssertionError\u001b[0m                            Traceback (most recent call last)",
      "\u001b[0;32m/tmp/ipykernel_2951965/4144239271.py\u001b[0m in \u001b[0;36m<module>\u001b[0;34m\u001b[0m\n\u001b[1;32m      1\u001b[0m \u001b[0;31m#branchesToWrite={\"FatJet\":ak.zip(FatJetBranches),\"Jet\":ak.zip(JetBranches),\"HLT\":ak.zip(HLTBranches)}\u001b[0m\u001b[0;34m\u001b[0m\u001b[0;34m\u001b[0m\u001b[0;34m\u001b[0m\u001b[0m\n\u001b[1;32m      2\u001b[0m \u001b[0mbranchesToWrite\u001b[0m\u001b[0;34m=\u001b[0m\u001b[0;34m{\u001b[0m\u001b[0;34m\"FatJet\"\u001b[0m\u001b[0;34m:\u001b[0m\u001b[0mak\u001b[0m\u001b[0;34m.\u001b[0m\u001b[0mzip\u001b[0m\u001b[0;34m(\u001b[0m\u001b[0mFatJetBranches\u001b[0m\u001b[0;34m)\u001b[0m\u001b[0;34m}\u001b[0m\u001b[0;34m\u001b[0m\u001b[0;34m\u001b[0m\u001b[0m\n\u001b[0;32m----> 3\u001b[0;31m \u001b[0mfile\u001b[0m\u001b[0;34m[\u001b[0m\u001b[0;34m\"Events\"\u001b[0m\u001b[0;34m]\u001b[0m\u001b[0;34m=\u001b[0m\u001b[0mbranchesToWrite\u001b[0m\u001b[0;34m\u001b[0m\u001b[0;34m\u001b[0m\u001b[0m\n\u001b[0m",
      "\u001b[0;32m~/Work/H3/H3env/lib/python3.9/site-packages/uproot/writing/writable.py\u001b[0m in \u001b[0;36m__setitem__\u001b[0;34m(self, where, what)\u001b[0m\n\u001b[1;32m    956\u001b[0m         \u001b[0;32mif\u001b[0m \u001b[0mself\u001b[0m\u001b[0;34m.\u001b[0m\u001b[0m_file\u001b[0m\u001b[0;34m.\u001b[0m\u001b[0msink\u001b[0m\u001b[0;34m.\u001b[0m\u001b[0mclosed\u001b[0m\u001b[0;34m:\u001b[0m\u001b[0;34m\u001b[0m\u001b[0;34m\u001b[0m\u001b[0m\n\u001b[1;32m    957\u001b[0m             \u001b[0;32mraise\u001b[0m \u001b[0mValueError\u001b[0m\u001b[0;34m(\u001b[0m\u001b[0;34m\"cannot write data to a closed file\"\u001b[0m\u001b[0;34m)\u001b[0m\u001b[0;34m\u001b[0m\u001b[0;34m\u001b[0m\u001b[0m\n\u001b[0;32m--> 958\u001b[0;31m         \u001b[0mself\u001b[0m\u001b[0;34m.\u001b[0m\u001b[0mupdate\u001b[0m\u001b[0;34m(\u001b[0m\u001b[0;34m{\u001b[0m\u001b[0mwhere\u001b[0m\u001b[0;34m:\u001b[0m \u001b[0mwhat\u001b[0m\u001b[0;34m}\u001b[0m\u001b[0;34m)\u001b[0m\u001b[0;34m\u001b[0m\u001b[0;34m\u001b[0m\u001b[0m\n\u001b[0m\u001b[1;32m    959\u001b[0m \u001b[0;34m\u001b[0m\u001b[0m\n\u001b[1;32m    960\u001b[0m     \u001b[0;32mdef\u001b[0m \u001b[0m__delitem__\u001b[0m\u001b[0;34m(\u001b[0m\u001b[0mself\u001b[0m\u001b[0;34m,\u001b[0m \u001b[0mwhere\u001b[0m\u001b[0;34m)\u001b[0m\u001b[0;34m:\u001b[0m\u001b[0;34m\u001b[0m\u001b[0;34m\u001b[0m\u001b[0m\n",
      "\u001b[0;32m~/Work/H3/H3env/lib/python3.9/site-packages/uproot/writing/writable.py\u001b[0m in \u001b[0;36mupdate\u001b[0;34m(self, pairs, **more_pairs)\u001b[0m\n\u001b[1;32m   1470\u001b[0m                 \u001b[0mdirectory\u001b[0m \u001b[0;34m=\u001b[0m \u001b[0mdirectory\u001b[0m\u001b[0;34m[\u001b[0m\u001b[0mitem\u001b[0m\u001b[0;34m]\u001b[0m\u001b[0;34m\u001b[0m\u001b[0;34m\u001b[0m\u001b[0m\n\u001b[1;32m   1471\u001b[0m \u001b[0;34m\u001b[0m\u001b[0m\n\u001b[0;32m-> 1472\u001b[0;31m             \u001b[0muproot\u001b[0m\u001b[0;34m.\u001b[0m\u001b[0mwriting\u001b[0m\u001b[0;34m.\u001b[0m\u001b[0midentify\u001b[0m\u001b[0;34m.\u001b[0m\u001b[0madd_to_directory\u001b[0m\u001b[0;34m(\u001b[0m\u001b[0mv\u001b[0m\u001b[0;34m,\u001b[0m \u001b[0mname\u001b[0m\u001b[0;34m,\u001b[0m \u001b[0mdirectory\u001b[0m\u001b[0;34m,\u001b[0m \u001b[0mstreamers\u001b[0m\u001b[0;34m)\u001b[0m\u001b[0;34m\u001b[0m\u001b[0;34m\u001b[0m\u001b[0m\n\u001b[0m\u001b[1;32m   1473\u001b[0m \u001b[0;34m\u001b[0m\u001b[0m\n\u001b[1;32m   1474\u001b[0m         \u001b[0mself\u001b[0m\u001b[0;34m.\u001b[0m\u001b[0m_file\u001b[0m\u001b[0;34m.\u001b[0m\u001b[0m_cascading\u001b[0m\u001b[0;34m.\u001b[0m\u001b[0mstreamers\u001b[0m\u001b[0;34m.\u001b[0m\u001b[0mupdate_streamers\u001b[0m\u001b[0;34m(\u001b[0m\u001b[0mself\u001b[0m\u001b[0;34m.\u001b[0m\u001b[0m_file\u001b[0m\u001b[0;34m.\u001b[0m\u001b[0msink\u001b[0m\u001b[0;34m,\u001b[0m \u001b[0mstreamers\u001b[0m\u001b[0;34m)\u001b[0m\u001b[0;34m\u001b[0m\u001b[0;34m\u001b[0m\u001b[0m\n",
      "\u001b[0;32m~/Work/H3/H3env/lib/python3.9/site-packages/uproot/writing/identify.py\u001b[0m in \u001b[0;36madd_to_directory\u001b[0;34m(obj, name, directory, streamers)\u001b[0m\n\u001b[1;32m    144\u001b[0m     \u001b[0;32mif\u001b[0m \u001b[0mis_ttree\u001b[0m\u001b[0;34m:\u001b[0m\u001b[0;34m\u001b[0m\u001b[0;34m\u001b[0m\u001b[0m\n\u001b[1;32m    145\u001b[0m         \u001b[0mtree\u001b[0m \u001b[0;34m=\u001b[0m \u001b[0mdirectory\u001b[0m\u001b[0;34m.\u001b[0m\u001b[0mmktree\u001b[0m\u001b[0;34m(\u001b[0m\u001b[0mname\u001b[0m\u001b[0;34m,\u001b[0m \u001b[0mmetadata\u001b[0m\u001b[0;34m)\u001b[0m\u001b[0;34m\u001b[0m\u001b[0;34m\u001b[0m\u001b[0m\n\u001b[0;32m--> 146\u001b[0;31m         \u001b[0mtree\u001b[0m\u001b[0;34m.\u001b[0m\u001b[0mextend\u001b[0m\u001b[0;34m(\u001b[0m\u001b[0mdata\u001b[0m\u001b[0;34m)\u001b[0m\u001b[0;34m\u001b[0m\u001b[0;34m\u001b[0m\u001b[0m\n\u001b[0m\u001b[1;32m    147\u001b[0m \u001b[0;34m\u001b[0m\u001b[0m\n\u001b[1;32m    148\u001b[0m     \u001b[0;32melse\u001b[0m\u001b[0;34m:\u001b[0m\u001b[0;34m\u001b[0m\u001b[0;34m\u001b[0m\u001b[0m\n",
      "\u001b[0;32m~/Work/H3/H3env/lib/python3.9/site-packages/uproot/writing/writable.py\u001b[0m in \u001b[0;36mextend\u001b[0;34m(self, data)\u001b[0m\n\u001b[1;32m   1749\u001b[0m             \u001b[0;34m**\u001b[0m\u001b[0mAs\u001b[0m \u001b[0ma\u001b[0m \u001b[0mword\u001b[0m \u001b[0mof\u001b[0m \u001b[0mwarning\u001b[0m\u001b[0;34m,\u001b[0m\u001b[0;34m**\u001b[0m \u001b[0mbe\u001b[0m \u001b[0msure\u001b[0m \u001b[0mthat\u001b[0m \u001b[0meach\u001b[0m \u001b[0mcall\u001b[0m \u001b[0mto\u001b[0m \u001b[0;34m:\u001b[0m\u001b[0mref\u001b[0m\u001b[0;34m:\u001b[0m\u001b[0;31m`\u001b[0m\u001b[0muproot\u001b[0m\u001b[0;34m.\u001b[0m\u001b[0mwriting\u001b[0m\u001b[0;34m.\u001b[0m\u001b[0mwritable\u001b[0m\u001b[0;34m.\u001b[0m\u001b[0mWritableTree\u001b[0m\u001b[0;34m.\u001b[0m\u001b[0mextend\u001b[0m\u001b[0;31m`\u001b[0m \u001b[0mincludes\u001b[0m \u001b[0mat\u001b[0m \u001b[0mleast\u001b[0m \u001b[0;36m100\u001b[0m \u001b[0mkB\u001b[0m \u001b[0mper\u001b[0m \u001b[0mbranch\u001b[0m\u001b[0;34m/\u001b[0m\u001b[0marray\u001b[0m\u001b[0;34m.\u001b[0m \u001b[0;34m(\u001b[0m\u001b[0mNumPy\u001b[0m \u001b[0;32mand\u001b[0m \u001b[0mAwkward\u001b[0m \u001b[0mArrays\u001b[0m \u001b[0mhave\u001b[0m \u001b[0man\u001b[0m\u001b[0;31m \u001b[0m\u001b[0;31m`\u001b[0m\u001b[0mnbytes\u001b[0m \u001b[0;34m<\u001b[0m\u001b[0mhttps\u001b[0m\u001b[0;34m:\u001b[0m\u001b[0;34m//\u001b[0m\u001b[0mnumpy\u001b[0m\u001b[0;34m.\u001b[0m\u001b[0morg\u001b[0m\u001b[0;34m/\u001b[0m\u001b[0mdoc\u001b[0m\u001b[0;34m/\u001b[0m\u001b[0mstable\u001b[0m\u001b[0;34m/\u001b[0m\u001b[0mreference\u001b[0m\u001b[0;34m/\u001b[0m\u001b[0mgenerated\u001b[0m\u001b[0;34m/\u001b[0m\u001b[0mnumpy\u001b[0m\u001b[0;34m.\u001b[0m\u001b[0mndarray\u001b[0m\u001b[0;34m.\u001b[0m\u001b[0mnbytes\u001b[0m\u001b[0;34m.\u001b[0m\u001b[0mhtml\u001b[0m\u001b[0;34m>\u001b[0m\u001b[0;31m`\u001b[0m\u001b[0m__\u001b[0m \u001b[0mproperty\u001b[0m\u001b[0;34m;\u001b[0m \u001b[0myou\u001b[0m \u001b[0mwant\u001b[0m \u001b[0mat\u001b[0m \u001b[0mleast\u001b[0m\u001b[0;31m \u001b[0m\u001b[0;31m`\u001b[0m\u001b[0;31m`\u001b[0m\u001b[0;36m100000\u001b[0m\u001b[0;31m`\u001b[0m\u001b[0;31m`\u001b[0m \u001b[0mper\u001b[0m \u001b[0marray\u001b[0m\u001b[0;34m.\u001b[0m\u001b[0;34m)\u001b[0m \u001b[0mIf\u001b[0m \u001b[0myou\u001b[0m \u001b[0mask\u001b[0m \u001b[0mUproot\u001b[0m \u001b[0mto\u001b[0m \u001b[0mwrite\u001b[0m \u001b[0mvery\u001b[0m \u001b[0msmall\u001b[0m \u001b[0mTBaskets\u001b[0m\u001b[0;34m,\u001b[0m \u001b[0mit\u001b[0m \u001b[0mwill\u001b[0m \u001b[0mspend\u001b[0m \u001b[0mmore\u001b[0m \u001b[0mtime\u001b[0m \u001b[0mworking\u001b[0m \u001b[0mon\u001b[0m \u001b[0mTBasket\u001b[0m \u001b[0moverhead\u001b[0m \u001b[0mthan\u001b[0m \u001b[0mactually\u001b[0m \u001b[0mwriting\u001b[0m \u001b[0mdata\u001b[0m\u001b[0;34m.\u001b[0m \u001b[0mThe\u001b[0m \u001b[0mabsolute\u001b[0m \u001b[0mworst\u001b[0m \u001b[0mcase\u001b[0m \u001b[0;32mis\u001b[0m \u001b[0mone\u001b[0m\u001b[0;34m-\u001b[0m\u001b[0mentry\u001b[0m\u001b[0;34m-\u001b[0m\u001b[0mper\u001b[0m\u001b[0;34m-\u001b[0m\u001b[0;34m:\u001b[0m\u001b[0mref\u001b[0m\u001b[0;34m:\u001b[0m\u001b[0;31m`\u001b[0m\u001b[0muproot\u001b[0m\u001b[0;34m.\u001b[0m\u001b[0mwriting\u001b[0m\u001b[0;34m.\u001b[0m\u001b[0mwritable\u001b[0m\u001b[0;34m.\u001b[0m\u001b[0mWritableTree\u001b[0m\u001b[0;34m.\u001b[0m\u001b[0mextend\u001b[0m\u001b[0;31m`\u001b[0m\u001b[0;34m.\u001b[0m \u001b[0mSee\u001b[0m\u001b[0;31m \u001b[0m\u001b[0;31m`\u001b[0m\u001b[0;31m#428 (comment) <https://github.com/scikit-hep/uproot4/pull/428#issuecomment-908703486>`__.\u001b[0m\u001b[0;34m\u001b[0m\u001b[0;34m\u001b[0m\u001b[0m\n\u001b[1;32m   1750\u001b[0m         \"\"\"\n\u001b[0;32m-> 1751\u001b[0;31m         \u001b[0mself\u001b[0m\u001b[0;34m.\u001b[0m\u001b[0m_cascading\u001b[0m\u001b[0;34m.\u001b[0m\u001b[0mextend\u001b[0m\u001b[0;34m(\u001b[0m\u001b[0mself\u001b[0m\u001b[0;34m.\u001b[0m\u001b[0m_file\u001b[0m\u001b[0;34m,\u001b[0m \u001b[0mself\u001b[0m\u001b[0;34m.\u001b[0m\u001b[0m_file\u001b[0m\u001b[0;34m.\u001b[0m\u001b[0msink\u001b[0m\u001b[0;34m,\u001b[0m \u001b[0mdata\u001b[0m\u001b[0;34m)\u001b[0m\u001b[0;34m\u001b[0m\u001b[0;34m\u001b[0m\u001b[0m\n\u001b[0m\u001b[1;32m   1752\u001b[0m \u001b[0;34m\u001b[0m\u001b[0m\n\u001b[1;32m   1753\u001b[0m     def show(\n",
      "\u001b[0;32m~/Work/H3/H3env/lib/python3.9/site-packages/uproot/writing/_cascadetree.py\u001b[0m in \u001b[0;36mextend\u001b[0;34m(self, file, sink, data)\u001b[0m\n\u001b[1;32m    774\u001b[0m \u001b[0;34m\u001b[0m\u001b[0m\n\u001b[1;32m    775\u001b[0m                     \u001b[0;32melse\u001b[0m\u001b[0;34m:\u001b[0m\u001b[0;34m\u001b[0m\u001b[0;34m\u001b[0m\u001b[0m\n\u001b[0;32m--> 776\u001b[0;31m                         raise AssertionError(\n\u001b[0m\u001b[1;32m    777\u001b[0m                             \u001b[0;34m\"how did this pass the type check?\\n\\n\"\u001b[0m \u001b[0;34m+\u001b[0m \u001b[0mrepr\u001b[0m\u001b[0;34m(\u001b[0m\u001b[0mcontent\u001b[0m\u001b[0;34m)\u001b[0m\u001b[0;34m\u001b[0m\u001b[0;34m\u001b[0m\u001b[0m\n\u001b[1;32m    778\u001b[0m                         )\n",
      "\u001b[0;31mAssertionError\u001b[0m: how did this pass the type check?\n\n<VirtualArray cache_key=\"ak578\">\n    <parameters>\n        <param key=\"__doc__\">\"jet catchment area, for JECs\"</param>\n    </parameters>\n    <SliceGenerator>\n        <slice>[array([0, 1, 2, 18, 19, 22, 23, 24, 48, 49, ..., 378920, 378921, 378922, 378923, 378935, 378936, 378937, 378970, 378971, 378972])]</slice>\n        <content><VirtualArray cache_key=\"ak.from_buffers:0(ec14f966-3b08-11eb-8fc2-020013acbeef/%2FEvents%3B1/0-159888/0/FatJet_area%2C%21load%2C%21content/virtual)\">\n            <ArrayGenerator f=\"<function _form_to_layout at 0x7f158adb94c0>\" args=\"({\n    \"class\": \"NumpyArray\",\n    \"itemsize\": 4,\n    \"format\": \"f\",\n    \"primitive\": \"float32\",\n    \"parameters\": {\n        \"__doc__\": \"jet catchment area, for JECs\"\n    },\n    \"form_key\": \"FatJet_area%2C%21load%2C%21content\"\n}, <coffea.nanoevents.mapping.uproot.UprootSourceMapping object at 0x7f15856fdb80>, '0', functools.partial(<function _key_formatter at 0x7f158ad638b0>, 'ec14f966-3b08-11eb-8fc2-020013acbeef/%2FEvents%3B1/0-159888'), 378973, <ArrayCache mapping=\"{'ak.from_buffers:0': <RecordArray length=\"1598...\"/>, 'ak.from_buffers:0')\">\n                <length>378973</length>\n                <form>\n                    {\n                        \"class\": \"NumpyArray\",\n                        \"itemsize\": 4,\n                        \"format\": \"f\",\n                        \"primitive\": \"float32\",\n                        \"parameters\": {\n                            \"__doc__\": \"jet catchment area, for JECs\"\n                        },\n                        \"form_key\": \"FatJet_area%2C%21load%2C%21content\"\n                    }\n                </form>\n            </ArrayGenerator>\n            <ArrayCache mapping=\"{'ak.from_buffers:0': <RecordArray length=\"1598...\"/>\n            <array><NumpyArray format=\"f\" shape=\"378973\" data=\"2.00391 1.96484 1.96484 2.02539 2.00391 ... 2.04492 1.86523 1.97461 1.84473 1.48633\" at=\"0x000004ba3bc0\">\n                <parameters>\n                    <param key=\"__doc__\">\"jet catchment area, for JECs\"</param>\n                </parameters>\n            </NumpyArray></array>\n        </VirtualArray></content>\n        <length>56929</length>\n    </SliceGenerator>\n</VirtualArray>"
     ]
    }
   ],
   "source": [
    "#branchesToWrite={\"FatJet\":ak.zip(FatJetBranches),\"Jet\":ak.zip(JetBranches),\"HLT\":ak.zip(HLTBranches)}\n",
    "branchesToWrite={\"FatJet\":ak.zip(FatJetBranches)}\n",
    "file[\"Events\"]=branchesToWrite"
   ]
  },
  {
   "cell_type": "code",
   "execution_count": null,
   "id": "d82416f9",
   "metadata": {},
   "outputs": [],
   "source": []
  }
 ],
 "metadata": {
  "kernelspec": {
   "display_name": "Python 3 (ipykernel)",
   "language": "python",
   "name": "python3"
  },
  "language_info": {
   "codemirror_mode": {
    "name": "ipython",
    "version": 3
   },
   "file_extension": ".py",
   "mimetype": "text/x-python",
   "name": "python",
   "nbconvert_exporter": "python",
   "pygments_lexer": "ipython3",
   "version": "3.9.6"
  }
 },
 "nbformat": 4,
 "nbformat_minor": 5
}
