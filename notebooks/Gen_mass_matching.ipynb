{
 "cells": [
  {
   "cell_type": "code",
   "execution_count": 1,
   "id": "ea0e5401",
   "metadata": {},
   "outputs": [],
   "source": [
    "# Preliminary\n",
    "## Columnar analysis basics.\n",
    "import uproot\n",
    "import awkward as ak\n",
    "## Plotting.\n",
    "import matplotlib.pyplot as plt\n",
    "\n",
    "# Hists\n",
    "import hist\n",
    "from hist import Hist\n",
    "\n",
    "# NanoEvents\n",
    "from coffea.nanoevents import NanoEventsFactory, BaseSchema\n",
    "# Processors\n",
    "import coffea.processor as processor\n",
    "from coffea.nanoevents import NanoEventsFactory, NanoAODSchema\n",
    "\n",
    "import numpy as np"
   ]
  },
  {
   "cell_type": "code",
   "execution_count": 2,
   "id": "0af6b4c3",
   "metadata": {},
   "outputs": [],
   "source": [
    "fname   = \"/eos/home-b/bchitrod/HHH/NANOAOD/TRSM_XToHY_6b_M3_2000_M2_1100_NANOAOD.root\""
   ]
  },
  {
   "cell_type": "code",
   "execution_count": 3,
   "id": "fa1de1ff",
   "metadata": {},
   "outputs": [
    {
     "data": {
      "text/plain": [
       "<NanoEventsArray [<event 1:1:9901>, ... <event 1:1:2500>] type='10000 * event'>"
      ]
     },
     "execution_count": 3,
     "metadata": {},
     "output_type": "execute_result"
    }
   ],
   "source": [
    "eventsToRead = 10000\n",
    "events = NanoEventsFactory.from_root(fname,schemaclass=NanoAODSchema,metadata={\"dataset\": \"testSignal\"},entry_stop=eventsToRead).events()\n",
    "events"
   ]
  },
  {
   "cell_type": "code",
   "execution_count": 4,
   "id": "d52c6490",
   "metadata": {},
   "outputs": [
    {
     "data": {
      "text/plain": [
       "['eta', 'mass', 'phi', 'pt', 'partonFlavour', 'hadronFlavour']"
      ]
     },
     "execution_count": 4,
     "metadata": {},
     "output_type": "execute_result"
    }
   ],
   "source": [
    "events.GenJetAK8.fields"
   ]
  },
  {
   "cell_type": "code",
   "execution_count": 5,
   "id": "d382e2b7",
   "metadata": {},
   "outputs": [],
   "source": [
    "ptcut  = 250\n",
    "etacut = 2.5\n",
    "\n",
    "genjets = events.GenJetAK8[(events.GenJetAK8.pt>ptcut) & (np.abs(events.GenJetAK8.eta)<etacut)] \n",
    "\n",
    "trijets = genjets[(ak.num(genjets, axis=1) > 2)]"
   ]
  },
  {
   "cell_type": "code",
   "execution_count": 6,
   "id": "82e5e99c",
   "metadata": {},
   "outputs": [],
   "source": [
    "trijet_mass = (trijets[:,0]+trijets[:,1]+trijets[:,2]).mass\n",
    "#calc inv mass of trijets by lorentz v. sum of three leading jets\n",
    "\n",
    "dijet1_mass = (trijets[:,0]+trijets[:,1]).mass\n",
    "#calc inv mass of first dijet combination\n",
    "\n",
    "dijet2_mass = (trijets[:,0]+trijets[:,2]).mass\n",
    "#calc inv mass of first dijet combination\n",
    "\n",
    "dijet3_mass = (trijets[:,1]+trijets[:,2]).mass\n",
    "#calc inv mass of first dijet combination"
   ]
  },
  {
   "cell_type": "code",
   "execution_count": 7,
   "id": "377f62b3",
   "metadata": {},
   "outputs": [],
   "source": [
    "j3_bin = hist.axis.Regular(label=\"Trijet Mass [GeV]\", name=\"trijet_mass\", bins=40, start=0, stop=4000)\n",
    "j3_cat = hist.axis.StrCategory(label='Trijets', name='trijet', categories=[\"signal\"])#can add bkg categories later on"
   ]
  },
  {
   "cell_type": "code",
   "execution_count": 8,
   "id": "4ab1c31a",
   "metadata": {},
   "outputs": [],
   "source": [
    "j3_hist = Hist(j3_bin, j3_cat)"
   ]
  },
  {
   "cell_type": "code",
   "execution_count": 9,
   "id": "78038287",
   "metadata": {},
   "outputs": [
    {
     "data": {
      "text/html": [
       "<html>\n",
       "<div style=\"display:flex; align-items:center;\">\n",
       "<div style=\"width:290px;\">\n",
       "<svg xmlns=\"http://www.w3.org/2000/svg\" viewBox=\"-20 -270 290 290\">\n",
       "<text text-anchor=\"middle\" x=\"0\" y=\"13\" style=\"fill:currentColor;\">\n",
       "0\n",
       "</text>\n",
       "<text text-anchor=\"middle\" x=\"250\" y=\"13\" style=\"fill:currentColor;\">\n",
       "4e+03\n",
       "</text>\n",
       "<text text-anchor=\"middle\" x=\"-10\" y=\"0\" style=\"fill:currentColor;\">\n",
       "0\n",
       "</text>\n",
       "<text text-anchor=\"middle\" x=\"-10\" y=\"-250\" style=\"fill:currentColor;\">\n",
       "1\n",
       "</text>\n",
       "<text text-anchor=\"middle\" x=\"125.0\" y=\"13\" style=\"fill:currentColor;\">\n",
       "Trijet Mass [GeV]\n",
       "</text>\n",
       "<text text-anchor=\"middle\" x=\"-10\" y=\"-125.0\" transform=\"rotate(-90,-10,-125.0)\" style=\"fill:currentColor;\">\n",
       "Trijets\n",
       "</text>\n",
       "<rect x=\"0.0\" y=\"-250.0\" width=\"6.25\" height=\"250.0\" opacity=\"0.0\" fill=\"currentColor\" stroke-width=\"0.1\"/>\n",
       "<rect x=\"6.25\" y=\"-250.0\" width=\"6.25\" height=\"250.0\" opacity=\"0.0\" fill=\"currentColor\" stroke-width=\"0.1\"/>\n",
       "<rect x=\"12.5\" y=\"-250.0\" width=\"6.25\" height=\"250.0\" opacity=\"0.0\" fill=\"currentColor\" stroke-width=\"0.1\"/>\n",
       "<rect x=\"18.75\" y=\"-250.0\" width=\"6.25\" height=\"250.0\" opacity=\"0.0\" fill=\"currentColor\" stroke-width=\"0.1\"/>\n",
       "<rect x=\"25.0\" y=\"-250.0\" width=\"6.25\" height=\"250.0\" opacity=\"0.0\" fill=\"currentColor\" stroke-width=\"0.1\"/>\n",
       "<rect x=\"31.25\" y=\"-250.0\" width=\"6.25\" height=\"250.0\" opacity=\"0.0\" fill=\"currentColor\" stroke-width=\"0.1\"/>\n",
       "<rect x=\"37.5\" y=\"-250.0\" width=\"6.25\" height=\"250.0\" opacity=\"0.0\" fill=\"currentColor\" stroke-width=\"0.1\"/>\n",
       "<rect x=\"43.75\" y=\"-250.0\" width=\"6.25\" height=\"250.0\" opacity=\"0.0\" fill=\"currentColor\" stroke-width=\"0.1\"/>\n",
       "<rect x=\"50.0\" y=\"-250.0\" width=\"6.25\" height=\"250.0\" opacity=\"0.0\" fill=\"currentColor\" stroke-width=\"0.1\"/>\n",
       "<rect x=\"56.25\" y=\"-250.0\" width=\"6.25\" height=\"250.0\" opacity=\"0.0005347593582887701\" fill=\"currentColor\" stroke-width=\"0.1\"/>\n",
       "<rect x=\"62.5\" y=\"-250.0\" width=\"6.25\" height=\"250.0\" opacity=\"0.0005347593582887701\" fill=\"currentColor\" stroke-width=\"0.1\"/>\n",
       "<rect x=\"68.75\" y=\"-250.0\" width=\"6.25\" height=\"250.0\" opacity=\"0.0026737967914438505\" fill=\"currentColor\" stroke-width=\"0.1\"/>\n",
       "<rect x=\"75.0\" y=\"-250.0\" width=\"6.25\" height=\"250.0\" opacity=\"0.0058823529411764705\" fill=\"currentColor\" stroke-width=\"0.1\"/>\n",
       "<rect x=\"81.25\" y=\"-250.0\" width=\"6.25\" height=\"250.0\" opacity=\"0.012834224598930482\" fill=\"currentColor\" stroke-width=\"0.1\"/>\n",
       "<rect x=\"87.5\" y=\"-250.0\" width=\"6.25\" height=\"250.0\" opacity=\"0.025133689839572194\" fill=\"currentColor\" stroke-width=\"0.1\"/>\n",
       "<rect x=\"93.75\" y=\"-250.0\" width=\"6.25\" height=\"250.0\" opacity=\"0.05775401069518716\" fill=\"currentColor\" stroke-width=\"0.1\"/>\n",
       "<rect x=\"100.0\" y=\"-250.0\" width=\"6.25\" height=\"250.0\" opacity=\"0.12727272727272726\" fill=\"currentColor\" stroke-width=\"0.1\"/>\n",
       "<rect x=\"106.25\" y=\"-250.0\" width=\"6.25\" height=\"250.0\" opacity=\"0.33475935828877007\" fill=\"currentColor\" stroke-width=\"0.1\"/>\n",
       "<rect x=\"112.5\" y=\"-250.0\" width=\"6.25\" height=\"250.0\" opacity=\"0.6390374331550802\" fill=\"currentColor\" stroke-width=\"0.1\"/>\n",
       "<rect x=\"118.75\" y=\"-250.0\" width=\"6.25\" height=\"250.0\" opacity=\"1.0\" fill=\"currentColor\" stroke-width=\"0.1\"/>\n",
       "<rect x=\"125.0\" y=\"-250.0\" width=\"6.25\" height=\"250.0\" opacity=\"0.4379679144385027\" fill=\"currentColor\" stroke-width=\"0.1\"/>\n",
       "<rect x=\"131.25\" y=\"-250.0\" width=\"6.25\" height=\"250.0\" opacity=\"0.17379679144385024\" fill=\"currentColor\" stroke-width=\"0.1\"/>\n",
       "<rect x=\"137.5\" y=\"-250.0\" width=\"6.25\" height=\"250.0\" opacity=\"0.12406417112299464\" fill=\"currentColor\" stroke-width=\"0.1\"/>\n",
       "<rect x=\"143.75\" y=\"-250.0\" width=\"6.25\" height=\"250.0\" opacity=\"0.0839572192513369\" fill=\"currentColor\" stroke-width=\"0.1\"/>\n",
       "<rect x=\"150.0\" y=\"-250.0\" width=\"6.25\" height=\"250.0\" opacity=\"0.06470588235294117\" fill=\"currentColor\" stroke-width=\"0.1\"/>\n",
       "<rect x=\"156.25\" y=\"-250.0\" width=\"6.25\" height=\"250.0\" opacity=\"0.05508021390374331\" fill=\"currentColor\" stroke-width=\"0.1\"/>\n",
       "<rect x=\"162.5\" y=\"-250.0\" width=\"6.25\" height=\"250.0\" opacity=\"0.051336898395721926\" fill=\"currentColor\" stroke-width=\"0.1\"/>\n",
       "<rect x=\"168.75\" y=\"-250.0\" width=\"6.25\" height=\"250.0\" opacity=\"0.03796791443850268\" fill=\"currentColor\" stroke-width=\"0.1\"/>\n",
       "<rect x=\"175.0\" y=\"-250.0\" width=\"6.25\" height=\"250.0\" opacity=\"0.02620320855614973\" fill=\"currentColor\" stroke-width=\"0.1\"/>\n",
       "<rect x=\"181.25\" y=\"-250.0\" width=\"6.25\" height=\"250.0\" opacity=\"0.01871657754010695\" fill=\"currentColor\" stroke-width=\"0.1\"/>\n",
       "<rect x=\"187.5\" y=\"-250.0\" width=\"6.25\" height=\"250.0\" opacity=\"0.02727272727272727\" fill=\"currentColor\" stroke-width=\"0.1\"/>\n",
       "<rect x=\"193.75\" y=\"-250.0\" width=\"6.25\" height=\"250.0\" opacity=\"0.02085561497326203\" fill=\"currentColor\" stroke-width=\"0.1\"/>\n",
       "<rect x=\"200.0\" y=\"-250.0\" width=\"6.25\" height=\"250.0\" opacity=\"0.021925133689839574\" fill=\"currentColor\" stroke-width=\"0.1\"/>\n",
       "<rect x=\"206.25\" y=\"-250.0\" width=\"6.25\" height=\"250.0\" opacity=\"0.00909090909090909\" fill=\"currentColor\" stroke-width=\"0.1\"/>\n",
       "<rect x=\"212.5\" y=\"-250.0\" width=\"6.25\" height=\"250.0\" opacity=\"0.01443850267379679\" fill=\"currentColor\" stroke-width=\"0.1\"/>\n",
       "<rect x=\"218.75\" y=\"-250.0\" width=\"6.25\" height=\"250.0\" opacity=\"0.008556149732620321\" fill=\"currentColor\" stroke-width=\"0.1\"/>\n",
       "<rect x=\"225.0\" y=\"-250.0\" width=\"6.25\" height=\"250.0\" opacity=\"0.0074866310160427805\" fill=\"currentColor\" stroke-width=\"0.1\"/>\n",
       "<rect x=\"231.25\" y=\"-250.0\" width=\"6.25\" height=\"250.0\" opacity=\"0.0074866310160427805\" fill=\"currentColor\" stroke-width=\"0.1\"/>\n",
       "<rect x=\"237.5\" y=\"-250.0\" width=\"6.25\" height=\"250.0\" opacity=\"0.0042780748663101605\" fill=\"currentColor\" stroke-width=\"0.1\"/>\n",
       "<rect x=\"243.75\" y=\"-250.0\" width=\"6.25\" height=\"250.0\" opacity=\"0.0042780748663101605\" fill=\"currentColor\" stroke-width=\"0.1\"/>\n",
       "</svg>\n",
       "</div>\n",
       "<div style=\"flex=grow:1;\">\n",
       "Regular(40, 0, 4000, name='trijet_mass', label='Trijet Mass [GeV]')<br/>\n",
       "StrCategory(['signal'], name='trijet', label='Trijets')<br/>\n",
       "<hr style=\"margin-top:.2em; margin-bottom:.2em;\"/>\n",
       "Double() Σ=6369.0 <em>(6406.0 with flow)</em>\n",
       "\n",
       "</div>\n",
       "</div>\n",
       "</html>"
      ],
      "text/plain": [
       "Hist(\n",
       "  Regular(40, 0, 4000, name='trijet_mass', label='Trijet Mass [GeV]'),\n",
       "  StrCategory(['signal'], name='trijet', label='Trijets'),\n",
       "  storage=Double()) # Sum: 6369.0 (6406.0 with flow)"
      ]
     },
     "execution_count": 9,
     "metadata": {},
     "output_type": "execute_result"
    }
   ],
   "source": [
    "j3_hist.fill(trijet=\"signal\", trijet_mass=trijet_mass)"
   ]
  },
  {
   "cell_type": "code",
   "execution_count": 10,
   "id": "3270c10a",
   "metadata": {},
   "outputs": [
    {
     "data": {
      "text/plain": [
       "<matplotlib.legend.Legend at 0x7f76460584f0>"
      ]
     },
     "execution_count": 10,
     "metadata": {},
     "output_type": "execute_result"
    },
    {
     "data": {
      "image/png": "[encoded data removed]",
      "text/plain": [
       "<Figure size 720x720 with 1 Axes>"
      ]
     },
     "metadata": {
      "needs_background": "light"
     },
     "output_type": "display_data"
    }
   ],
   "source": [
    "import mplhep as hep\n",
    "plt.style.use([hep.style.CMS])\n",
    "j3_hist.plot(color=\"black\")\n",
    "hep.cms.text(\"Work in progress\",loc=0)\n",
    "plt.ylabel(\"Event count\",horizontalalignment='right', y=1.0)\n",
    "plt.legend()"
   ]
  },
  {
   "cell_type": "code",
   "execution_count": 11,
   "id": "c0b2f5c9",
   "metadata": {},
   "outputs": [],
   "source": [
    "j2_bin = hist.axis.Regular(label=\"Dijet Mass [GeV]\", name=\"dijet_mass\", bins=40, start=0, stop=2000)\n",
    "j2_cat = hist.axis.StrCategory(label='Dijets', name='dijet', categories=[\"Pair1\",\"Pair2\",\"Pair3\"])"
   ]
  },
  {
   "cell_type": "code",
   "execution_count": 12,
   "id": "14b031c8",
   "metadata": {},
   "outputs": [],
   "source": [
    "j2_hist = Hist(j2_bin, j2_cat)"
   ]
  },
  {
   "cell_type": "code",
   "execution_count": 13,
   "id": "e3e2779d",
   "metadata": {},
   "outputs": [
    {
     "data": {
      "text/html": [
       "<html>\n",
       "<div style=\"display:flex; align-items:center;\">\n",
       "<div style=\"width:290px;\">\n",
       "<svg xmlns=\"http://www.w3.org/2000/svg\" viewBox=\"-20 -270 290 290\">\n",
       "<text text-anchor=\"middle\" x=\"0\" y=\"13\" style=\"fill:currentColor;\">\n",
       "0\n",
       "</text>\n",
       "<text text-anchor=\"middle\" x=\"250\" y=\"13\" style=\"fill:currentColor;\">\n",
       "2e+03\n",
       "</text>\n",
       "<text text-anchor=\"middle\" x=\"-10\" y=\"0\" style=\"fill:currentColor;\">\n",
       "0\n",
       "</text>\n",
       "<text text-anchor=\"middle\" x=\"-10\" y=\"-250\" style=\"fill:currentColor;\">\n",
       "3\n",
       "</text>\n",
       "<text text-anchor=\"middle\" x=\"125.0\" y=\"13\" style=\"fill:currentColor;\">\n",
       "Dijet Mass [GeV]\n",
       "</text>\n",
       "<text text-anchor=\"middle\" x=\"-10\" y=\"-125.0\" transform=\"rotate(-90,-10,-125.0)\" style=\"fill:currentColor;\">\n",
       "Dijets\n",
       "</text>\n",
       "<rect x=\"0.0\" y=\"-83.33333333333333\" width=\"6.25\" height=\"83.333\" opacity=\"0.0\" fill=\"currentColor\" stroke-width=\"0.1\"/>\n",
       "<rect x=\"6.25\" y=\"-83.33333333333333\" width=\"6.25\" height=\"83.333\" opacity=\"0.0\" fill=\"currentColor\" stroke-width=\"0.1\"/>\n",
       "<rect x=\"12.5\" y=\"-83.33333333333333\" width=\"6.25\" height=\"83.333\" opacity=\"0.0\" fill=\"currentColor\" stroke-width=\"0.1\"/>\n",
       "<rect x=\"18.75\" y=\"-83.33333333333333\" width=\"6.25\" height=\"83.333\" opacity=\"0.0\" fill=\"currentColor\" stroke-width=\"0.1\"/>\n",
       "<rect x=\"25.0\" y=\"-83.33333333333333\" width=\"6.25\" height=\"83.333\" opacity=\"0.0\" fill=\"currentColor\" stroke-width=\"0.1\"/>\n",
       "<rect x=\"31.25\" y=\"-83.33333333333333\" width=\"6.25\" height=\"83.333\" opacity=\"0.0\" fill=\"currentColor\" stroke-width=\"0.1\"/>\n",
       "<rect x=\"37.5\" y=\"-83.33333333333333\" width=\"6.25\" height=\"83.333\" opacity=\"0.00089126559714795\" fill=\"currentColor\" stroke-width=\"0.1\"/>\n",
       "<rect x=\"43.75\" y=\"-83.33333333333333\" width=\"6.25\" height=\"83.333\" opacity=\"0.0\" fill=\"currentColor\" stroke-width=\"0.1\"/>\n",
       "<rect x=\"50.0\" y=\"-83.33333333333333\" width=\"6.25\" height=\"83.333\" opacity=\"0.00089126559714795\" fill=\"currentColor\" stroke-width=\"0.1\"/>\n",
       "<rect x=\"56.25\" y=\"-83.33333333333333\" width=\"6.25\" height=\"83.333\" opacity=\"0.0\" fill=\"currentColor\" stroke-width=\"0.1\"/>\n",
       "<rect x=\"62.5\" y=\"-83.33333333333333\" width=\"6.25\" height=\"83.333\" opacity=\"0.0\" fill=\"currentColor\" stroke-width=\"0.1\"/>\n",
       "<rect x=\"68.75\" y=\"-83.33333333333333\" width=\"6.25\" height=\"83.333\" opacity=\"0.0017825311942959\" fill=\"currentColor\" stroke-width=\"0.1\"/>\n",
       "<rect x=\"75.0\" y=\"-83.33333333333333\" width=\"6.25\" height=\"83.333\" opacity=\"0.004456327985739751\" fill=\"currentColor\" stroke-width=\"0.1\"/>\n",
       "<rect x=\"81.25\" y=\"-83.33333333333333\" width=\"6.25\" height=\"83.333\" opacity=\"0.008021390374331552\" fill=\"currentColor\" stroke-width=\"0.1\"/>\n",
       "<rect x=\"87.5\" y=\"-83.33333333333333\" width=\"6.25\" height=\"83.333\" opacity=\"0.0142602495543672\" fill=\"currentColor\" stroke-width=\"0.1\"/>\n",
       "<rect x=\"93.75\" y=\"-83.33333333333333\" width=\"6.25\" height=\"83.333\" opacity=\"0.016934046345811055\" fill=\"currentColor\" stroke-width=\"0.1\"/>\n",
       "<rect x=\"100.0\" y=\"-83.33333333333333\" width=\"6.25\" height=\"83.333\" opacity=\"0.026737967914438502\" fill=\"currentColor\" stroke-width=\"0.1\"/>\n",
       "<rect x=\"106.25\" y=\"-83.33333333333333\" width=\"6.25\" height=\"83.333\" opacity=\"0.053475935828877004\" fill=\"currentColor\" stroke-width=\"0.1\"/>\n",
       "<rect x=\"112.5\" y=\"-83.33333333333333\" width=\"6.25\" height=\"83.333\" opacity=\"0.08021390374331551\" fill=\"currentColor\" stroke-width=\"0.1\"/>\n",
       "<rect x=\"118.75\" y=\"-83.33333333333333\" width=\"6.25\" height=\"83.333\" opacity=\"0.15240641711229946\" fill=\"currentColor\" stroke-width=\"0.1\"/>\n",
       "<rect x=\"125.0\" y=\"-83.33333333333333\" width=\"6.25\" height=\"83.333\" opacity=\"0.25222816399286985\" fill=\"currentColor\" stroke-width=\"0.1\"/>\n",
       "<rect x=\"131.25\" y=\"-83.33333333333333\" width=\"6.25\" height=\"83.333\" opacity=\"0.42156862745098045\" fill=\"currentColor\" stroke-width=\"0.1\"/>\n",
       "<rect x=\"137.5\" y=\"-83.33333333333333\" width=\"6.25\" height=\"83.333\" opacity=\"0.3841354723707665\" fill=\"currentColor\" stroke-width=\"0.1\"/>\n",
       "<rect x=\"143.75\" y=\"-83.33333333333333\" width=\"6.25\" height=\"83.333\" opacity=\"0.3137254901960784\" fill=\"currentColor\" stroke-width=\"0.1\"/>\n",
       "<rect x=\"150.0\" y=\"-83.33333333333333\" width=\"6.25\" height=\"83.333\" opacity=\"0.36898395721925137\" fill=\"currentColor\" stroke-width=\"0.1\"/>\n",
       "<rect x=\"156.25\" y=\"-83.33333333333333\" width=\"6.25\" height=\"83.333\" opacity=\"0.4046345811051693\" fill=\"currentColor\" stroke-width=\"0.1\"/>\n",
       "<rect x=\"162.5\" y=\"-83.33333333333333\" width=\"6.25\" height=\"83.333\" opacity=\"0.428698752228164\" fill=\"currentColor\" stroke-width=\"0.1\"/>\n",
       "<rect x=\"168.75\" y=\"-83.33333333333333\" width=\"6.25\" height=\"83.333\" opacity=\"0.44474153297682706\" fill=\"currentColor\" stroke-width=\"0.1\"/>\n",
       "<rect x=\"175.0\" y=\"-83.33333333333333\" width=\"6.25\" height=\"83.333\" opacity=\"0.4518716577540107\" fill=\"currentColor\" stroke-width=\"0.1\"/>\n",
       "<rect x=\"181.25\" y=\"-83.33333333333333\" width=\"6.25\" height=\"83.333\" opacity=\"0.39750445632798576\" fill=\"currentColor\" stroke-width=\"0.1\"/>\n",
       "<rect x=\"187.5\" y=\"-83.33333333333333\" width=\"6.25\" height=\"83.333\" opacity=\"0.3850267379679145\" fill=\"currentColor\" stroke-width=\"0.1\"/>\n",
       "<rect x=\"193.75\" y=\"-83.33333333333333\" width=\"6.25\" height=\"83.333\" opacity=\"0.2718360071301248\" fill=\"currentColor\" stroke-width=\"0.1\"/>\n",
       "<rect x=\"200.0\" y=\"-83.33333333333333\" width=\"6.25\" height=\"83.333\" opacity=\"0.16310160427807488\" fill=\"currentColor\" stroke-width=\"0.1\"/>\n",
       "<rect x=\"206.25\" y=\"-83.33333333333333\" width=\"6.25\" height=\"83.333\" opacity=\"0.08912655971479501\" fill=\"currentColor\" stroke-width=\"0.1\"/>\n",
       "<rect x=\"212.5\" y=\"-83.33333333333333\" width=\"6.25\" height=\"83.333\" opacity=\"0.0766488413547237\" fill=\"currentColor\" stroke-width=\"0.1\"/>\n",
       "<rect x=\"218.75\" y=\"-83.33333333333333\" width=\"6.25\" height=\"83.333\" opacity=\"0.06060606060606061\" fill=\"currentColor\" stroke-width=\"0.1\"/>\n",
       "<rect x=\"225.0\" y=\"-83.33333333333333\" width=\"6.25\" height=\"83.333\" opacity=\"0.059714795008912656\" fill=\"currentColor\" stroke-width=\"0.1\"/>\n",
       "<rect x=\"231.25\" y=\"-83.33333333333333\" width=\"6.25\" height=\"83.333\" opacity=\"0.044563279857397504\" fill=\"currentColor\" stroke-width=\"0.1\"/>\n",
       "<rect x=\"237.5\" y=\"-83.33333333333333\" width=\"6.25\" height=\"83.333\" opacity=\"0.05080213903743316\" fill=\"currentColor\" stroke-width=\"0.1\"/>\n",
       "<rect x=\"243.75\" y=\"-83.33333333333333\" width=\"6.25\" height=\"83.333\" opacity=\"0.04367201426024956\" fill=\"currentColor\" stroke-width=\"0.1\"/>\n",
       "<rect x=\"0.0\" y=\"-166.66666666666666\" width=\"6.25\" height=\"83.333\" opacity=\"0.0\" fill=\"currentColor\" stroke-width=\"0.1\"/>\n",
       "<rect x=\"6.25\" y=\"-166.66666666666666\" width=\"6.25\" height=\"83.333\" opacity=\"0.0\" fill=\"currentColor\" stroke-width=\"0.1\"/>\n",
       "<rect x=\"12.5\" y=\"-166.66666666666666\" width=\"6.25\" height=\"83.333\" opacity=\"0.0\" fill=\"currentColor\" stroke-width=\"0.1\"/>\n",
       "<rect x=\"18.75\" y=\"-166.66666666666666\" width=\"6.25\" height=\"83.333\" opacity=\"0.0\" fill=\"currentColor\" stroke-width=\"0.1\"/>\n",
       "<rect x=\"25.0\" y=\"-166.66666666666666\" width=\"6.25\" height=\"83.333\" opacity=\"0.0\" fill=\"currentColor\" stroke-width=\"0.1\"/>\n",
       "<rect x=\"31.25\" y=\"-166.66666666666666\" width=\"6.25\" height=\"83.333\" opacity=\"0.0\" fill=\"currentColor\" stroke-width=\"0.1\"/>\n",
       "<rect x=\"37.5\" y=\"-166.66666666666666\" width=\"6.25\" height=\"83.333\" opacity=\"0.0\" fill=\"currentColor\" stroke-width=\"0.1\"/>\n",
       "<rect x=\"43.75\" y=\"-166.66666666666666\" width=\"6.25\" height=\"83.333\" opacity=\"0.00089126559714795\" fill=\"currentColor\" stroke-width=\"0.1\"/>\n",
       "<rect x=\"50.0\" y=\"-166.66666666666666\" width=\"6.25\" height=\"83.333\" opacity=\"0.0053475935828877\" fill=\"currentColor\" stroke-width=\"0.1\"/>\n",
       "<rect x=\"56.25\" y=\"-166.66666666666666\" width=\"6.25\" height=\"83.333\" opacity=\"0.008912655971479501\" fill=\"currentColor\" stroke-width=\"0.1\"/>\n",
       "<rect x=\"62.5\" y=\"-166.66666666666666\" width=\"6.25\" height=\"83.333\" opacity=\"0.015151515151515152\" fill=\"currentColor\" stroke-width=\"0.1\"/>\n",
       "<rect x=\"68.75\" y=\"-166.66666666666666\" width=\"6.25\" height=\"83.333\" opacity=\"0.023172905525846704\" fill=\"currentColor\" stroke-width=\"0.1\"/>\n",
       "<rect x=\"75.0\" y=\"-166.66666666666666\" width=\"6.25\" height=\"83.333\" opacity=\"0.027629233511586453\" fill=\"currentColor\" stroke-width=\"0.1\"/>\n",
       "<rect x=\"81.25\" y=\"-166.66666666666666\" width=\"6.25\" height=\"83.333\" opacity=\"0.056149732620320865\" fill=\"currentColor\" stroke-width=\"0.1\"/>\n",
       "<rect x=\"87.5\" y=\"-166.66666666666666\" width=\"6.25\" height=\"83.333\" opacity=\"0.06327985739750445\" fill=\"currentColor\" stroke-width=\"0.1\"/>\n",
       "<rect x=\"93.75\" y=\"-166.66666666666666\" width=\"6.25\" height=\"83.333\" opacity=\"0.09269162210338681\" fill=\"currentColor\" stroke-width=\"0.1\"/>\n",
       "<rect x=\"100.0\" y=\"-166.66666666666666\" width=\"6.25\" height=\"83.333\" opacity=\"0.1265597147950089\" fill=\"currentColor\" stroke-width=\"0.1\"/>\n",
       "<rect x=\"106.25\" y=\"-166.66666666666666\" width=\"6.25\" height=\"83.333\" opacity=\"0.2130124777183601\" fill=\"currentColor\" stroke-width=\"0.1\"/>\n",
       "<rect x=\"112.5\" y=\"-166.66666666666666\" width=\"6.25\" height=\"83.333\" opacity=\"0.29946524064171126\" fill=\"currentColor\" stroke-width=\"0.1\"/>\n",
       "<rect x=\"118.75\" y=\"-166.66666666666666\" width=\"6.25\" height=\"83.333\" opacity=\"0.4545454545454546\" fill=\"currentColor\" stroke-width=\"0.1\"/>\n",
       "<rect x=\"125.0\" y=\"-166.66666666666666\" width=\"6.25\" height=\"83.333\" opacity=\"0.7228163992869875\" fill=\"currentColor\" stroke-width=\"0.1\"/>\n",
       "<rect x=\"131.25\" y=\"-166.66666666666666\" width=\"6.25\" height=\"83.333\" opacity=\"1.0\" fill=\"currentColor\" stroke-width=\"0.1\"/>\n",
       "<rect x=\"137.5\" y=\"-166.66666666666666\" width=\"6.25\" height=\"83.333\" opacity=\"0.6604278074866311\" fill=\"currentColor\" stroke-width=\"0.1\"/>\n",
       "<rect x=\"143.75\" y=\"-166.66666666666666\" width=\"6.25\" height=\"83.333\" opacity=\"0.3155080213903743\" fill=\"currentColor\" stroke-width=\"0.1\"/>\n",
       "<rect x=\"150.0\" y=\"-166.66666666666666\" width=\"6.25\" height=\"83.333\" opacity=\"0.2655971479500891\" fill=\"currentColor\" stroke-width=\"0.1\"/>\n",
       "<rect x=\"156.25\" y=\"-166.66666666666666\" width=\"6.25\" height=\"83.333\" opacity=\"0.2433155080213904\" fill=\"currentColor\" stroke-width=\"0.1\"/>\n",
       "<rect x=\"162.5\" y=\"-166.66666666666666\" width=\"6.25\" height=\"83.333\" opacity=\"0.19340463458110518\" fill=\"currentColor\" stroke-width=\"0.1\"/>\n",
       "<rect x=\"168.75\" y=\"-166.66666666666666\" width=\"6.25\" height=\"83.333\" opacity=\"0.15508021390374332\" fill=\"currentColor\" stroke-width=\"0.1\"/>\n",
       "<rect x=\"175.0\" y=\"-166.66666666666666\" width=\"6.25\" height=\"83.333\" opacity=\"0.12834224598930483\" fill=\"currentColor\" stroke-width=\"0.1\"/>\n",
       "<rect x=\"181.25\" y=\"-166.66666666666666\" width=\"6.25\" height=\"83.333\" opacity=\"0.10873440285204991\" fill=\"currentColor\" stroke-width=\"0.1\"/>\n",
       "<rect x=\"187.5\" y=\"-166.66666666666666\" width=\"6.25\" height=\"83.333\" opacity=\"0.08288770053475936\" fill=\"currentColor\" stroke-width=\"0.1\"/>\n",
       "<rect x=\"193.75\" y=\"-166.66666666666666\" width=\"6.25\" height=\"83.333\" opacity=\"0.06506238859180036\" fill=\"currentColor\" stroke-width=\"0.1\"/>\n",
       "<rect x=\"200.0\" y=\"-166.66666666666666\" width=\"6.25\" height=\"83.333\" opacity=\"0.0570409982174688\" fill=\"currentColor\" stroke-width=\"0.1\"/>\n",
       "<rect x=\"206.25\" y=\"-166.66666666666666\" width=\"6.25\" height=\"83.333\" opacity=\"0.040998217468805706\" fill=\"currentColor\" stroke-width=\"0.1\"/>\n",
       "<rect x=\"212.5\" y=\"-166.66666666666666\" width=\"6.25\" height=\"83.333\" opacity=\"0.036541889483065956\" fill=\"currentColor\" stroke-width=\"0.1\"/>\n",
       "<rect x=\"218.75\" y=\"-166.66666666666666\" width=\"6.25\" height=\"83.333\" opacity=\"0.030303030303030304\" fill=\"currentColor\" stroke-width=\"0.1\"/>\n",
       "<rect x=\"225.0\" y=\"-166.66666666666666\" width=\"6.25\" height=\"83.333\" opacity=\"0.03386809269162211\" fill=\"currentColor\" stroke-width=\"0.1\"/>\n",
       "<rect x=\"231.25\" y=\"-166.66666666666666\" width=\"6.25\" height=\"83.333\" opacity=\"0.017825311942959002\" fill=\"currentColor\" stroke-width=\"0.1\"/>\n",
       "<rect x=\"237.5\" y=\"-166.66666666666666\" width=\"6.25\" height=\"83.333\" opacity=\"0.0213903743315508\" fill=\"currentColor\" stroke-width=\"0.1\"/>\n",
       "<rect x=\"243.75\" y=\"-166.66666666666666\" width=\"6.25\" height=\"83.333\" opacity=\"0.0213903743315508\" fill=\"currentColor\" stroke-width=\"0.1\"/>\n",
       "<rect x=\"0.0\" y=\"-250.0\" width=\"6.25\" height=\"83.333\" opacity=\"0.0\" fill=\"currentColor\" stroke-width=\"0.1\"/>\n",
       "<rect x=\"6.25\" y=\"-250.0\" width=\"6.25\" height=\"83.333\" opacity=\"0.0\" fill=\"currentColor\" stroke-width=\"0.1\"/>\n",
       "<rect x=\"12.5\" y=\"-250.0\" width=\"6.25\" height=\"83.333\" opacity=\"0.0\" fill=\"currentColor\" stroke-width=\"0.1\"/>\n",
       "<rect x=\"18.75\" y=\"-250.0\" width=\"6.25\" height=\"83.333\" opacity=\"0.0\" fill=\"currentColor\" stroke-width=\"0.1\"/>\n",
       "<rect x=\"25.0\" y=\"-250.0\" width=\"6.25\" height=\"83.333\" opacity=\"0.0\" fill=\"currentColor\" stroke-width=\"0.1\"/>\n",
       "<rect x=\"31.25\" y=\"-250.0\" width=\"6.25\" height=\"83.333\" opacity=\"0.00089126559714795\" fill=\"currentColor\" stroke-width=\"0.1\"/>\n",
       "<rect x=\"37.5\" y=\"-250.0\" width=\"6.25\" height=\"83.333\" opacity=\"0.011586452762923352\" fill=\"currentColor\" stroke-width=\"0.1\"/>\n",
       "<rect x=\"43.75\" y=\"-250.0\" width=\"6.25\" height=\"83.333\" opacity=\"0.040998217468805706\" fill=\"currentColor\" stroke-width=\"0.1\"/>\n",
       "<rect x=\"50.0\" y=\"-250.0\" width=\"6.25\" height=\"83.333\" opacity=\"0.06684491978609626\" fill=\"currentColor\" stroke-width=\"0.1\"/>\n",
       "<rect x=\"56.25\" y=\"-250.0\" width=\"6.25\" height=\"83.333\" opacity=\"0.09982174688057041\" fill=\"currentColor\" stroke-width=\"0.1\"/>\n",
       "<rect x=\"62.5\" y=\"-250.0\" width=\"6.25\" height=\"83.333\" opacity=\"0.17914438502673796\" fill=\"currentColor\" stroke-width=\"0.1\"/>\n",
       "<rect x=\"68.75\" y=\"-250.0\" width=\"6.25\" height=\"83.333\" opacity=\"0.17468805704099824\" fill=\"currentColor\" stroke-width=\"0.1\"/>\n",
       "<rect x=\"75.0\" y=\"-250.0\" width=\"6.25\" height=\"83.333\" opacity=\"0.24420677361853832\" fill=\"currentColor\" stroke-width=\"0.1\"/>\n",
       "<rect x=\"81.25\" y=\"-250.0\" width=\"6.25\" height=\"83.333\" opacity=\"0.2825311942959002\" fill=\"currentColor\" stroke-width=\"0.1\"/>\n",
       "<rect x=\"87.5\" y=\"-250.0\" width=\"6.25\" height=\"83.333\" opacity=\"0.3057040998217469\" fill=\"currentColor\" stroke-width=\"0.1\"/>\n",
       "<rect x=\"93.75\" y=\"-250.0\" width=\"6.25\" height=\"83.333\" opacity=\"0.32976827094474154\" fill=\"currentColor\" stroke-width=\"0.1\"/>\n",
       "<rect x=\"100.0\" y=\"-250.0\" width=\"6.25\" height=\"83.333\" opacity=\"0.33333333333333337\" fill=\"currentColor\" stroke-width=\"0.1\"/>\n",
       "<rect x=\"106.25\" y=\"-250.0\" width=\"6.25\" height=\"83.333\" opacity=\"0.41354723707664887\" fill=\"currentColor\" stroke-width=\"0.1\"/>\n",
       "<rect x=\"112.5\" y=\"-250.0\" width=\"6.25\" height=\"83.333\" opacity=\"0.4545454545454546\" fill=\"currentColor\" stroke-width=\"0.1\"/>\n",
       "<rect x=\"118.75\" y=\"-250.0\" width=\"6.25\" height=\"83.333\" opacity=\"0.4759358288770054\" fill=\"currentColor\" stroke-width=\"0.1\"/>\n",
       "<rect x=\"125.0\" y=\"-250.0\" width=\"6.25\" height=\"83.333\" opacity=\"0.5213903743315508\" fill=\"currentColor\" stroke-width=\"0.1\"/>\n",
       "<rect x=\"131.25\" y=\"-250.0\" width=\"6.25\" height=\"83.333\" opacity=\"0.5249554367201427\" fill=\"currentColor\" stroke-width=\"0.1\"/>\n",
       "<rect x=\"137.5\" y=\"-250.0\" width=\"6.25\" height=\"83.333\" opacity=\"0.3431372549019608\" fill=\"currentColor\" stroke-width=\"0.1\"/>\n",
       "<rect x=\"143.75\" y=\"-250.0\" width=\"6.25\" height=\"83.333\" opacity=\"0.2005347593582888\" fill=\"currentColor\" stroke-width=\"0.1\"/>\n",
       "<rect x=\"150.0\" y=\"-250.0\" width=\"6.25\" height=\"83.333\" opacity=\"0.13992869875222816\" fill=\"currentColor\" stroke-width=\"0.1\"/>\n",
       "<rect x=\"156.25\" y=\"-250.0\" width=\"6.25\" height=\"83.333\" opacity=\"0.10606060606060606\" fill=\"currentColor\" stroke-width=\"0.1\"/>\n",
       "<rect x=\"162.5\" y=\"-250.0\" width=\"6.25\" height=\"83.333\" opacity=\"0.08912655971479501\" fill=\"currentColor\" stroke-width=\"0.1\"/>\n",
       "<rect x=\"168.75\" y=\"-250.0\" width=\"6.25\" height=\"83.333\" opacity=\"0.062388591800356503\" fill=\"currentColor\" stroke-width=\"0.1\"/>\n",
       "<rect x=\"175.0\" y=\"-250.0\" width=\"6.25\" height=\"83.333\" opacity=\"0.05169340463458111\" fill=\"currentColor\" stroke-width=\"0.1\"/>\n",
       "<rect x=\"181.25\" y=\"-250.0\" width=\"6.25\" height=\"83.333\" opacity=\"0.04812834224598931\" fill=\"currentColor\" stroke-width=\"0.1\"/>\n",
       "<rect x=\"187.5\" y=\"-250.0\" width=\"6.25\" height=\"83.333\" opacity=\"0.031194295900178252\" fill=\"currentColor\" stroke-width=\"0.1\"/>\n",
       "<rect x=\"193.75\" y=\"-250.0\" width=\"6.25\" height=\"83.333\" opacity=\"0.0196078431372549\" fill=\"currentColor\" stroke-width=\"0.1\"/>\n",
       "<rect x=\"200.0\" y=\"-250.0\" width=\"6.25\" height=\"83.333\" opacity=\"0.017825311942959002\" fill=\"currentColor\" stroke-width=\"0.1\"/>\n",
       "<rect x=\"206.25\" y=\"-250.0\" width=\"6.25\" height=\"83.333\" opacity=\"0.0196078431372549\" fill=\"currentColor\" stroke-width=\"0.1\"/>\n",
       "<rect x=\"212.5\" y=\"-250.0\" width=\"6.25\" height=\"83.333\" opacity=\"0.00980392156862745\" fill=\"currentColor\" stroke-width=\"0.1\"/>\n",
       "<rect x=\"218.75\" y=\"-250.0\" width=\"6.25\" height=\"83.333\" opacity=\"0.016934046345811055\" fill=\"currentColor\" stroke-width=\"0.1\"/>\n",
       "<rect x=\"225.0\" y=\"-250.0\" width=\"6.25\" height=\"83.333\" opacity=\"0.016934046345811055\" fill=\"currentColor\" stroke-width=\"0.1\"/>\n",
       "<rect x=\"231.25\" y=\"-250.0\" width=\"6.25\" height=\"83.333\" opacity=\"0.008021390374331552\" fill=\"currentColor\" stroke-width=\"0.1\"/>\n",
       "<rect x=\"237.5\" y=\"-250.0\" width=\"6.25\" height=\"83.333\" opacity=\"0.006238859180035651\" fill=\"currentColor\" stroke-width=\"0.1\"/>\n",
       "<rect x=\"243.75\" y=\"-250.0\" width=\"6.25\" height=\"83.333\" opacity=\"0.008021390374331552\" fill=\"currentColor\" stroke-width=\"0.1\"/>\n",
       "</svg>\n",
       "</div>\n",
       "<div style=\"flex=grow:1;\">\n",
       "Regular(40, 0, 2000, name='dijet_mass', label='Dijet Mass [GeV]')<br/>\n",
       "StrCategory(['Pair1', 'Pair2', 'Pair3'], name='dijet', label='Dijets')<br/>\n",
       "<hr style=\"margin-top:.2em; margin-bottom:.2em;\"/>\n",
       "Double() Σ=18755.0 <em>(19218.0 with flow)</em>\n",
       "\n",
       "</div>\n",
       "</div>\n",
       "</html>"
      ],
      "text/plain": [
       "Hist(\n",
       "  Regular(40, 0, 2000, name='dijet_mass', label='Dijet Mass [GeV]'),\n",
       "  StrCategory(['Pair1', 'Pair2', 'Pair3'], name='dijet', label='Dijets'),\n",
       "  storage=Double()) # Sum: 18755.0 (19218.0 with flow)"
      ]
     },
     "execution_count": 13,
     "metadata": {},
     "output_type": "execute_result"
    }
   ],
   "source": [
    "j2_hist.fill(dijet=\"Pair1\", dijet_mass=dijet1_mass)\n",
    "j2_hist.fill(dijet=\"Pair2\", dijet_mass=dijet2_mass)\n",
    "j2_hist.fill(dijet=\"Pair3\", dijet_mass=dijet3_mass)"
   ]
  },
  {
   "cell_type": "code",
   "execution_count": 15,
   "id": "1663eb94",
   "metadata": {},
   "outputs": [
    {
     "data": {
      "text/plain": [
       "<matplotlib.legend.Legend at 0x7f7645f21f40>"
      ]
     },
     "execution_count": 15,
     "metadata": {},
     "output_type": "execute_result"
    },
    {
     "data": {
      "image/png": "[encoded data removed]",
      "text/plain": [
       "<Figure size 720x720 with 1 Axes>"
      ]
     },
     "metadata": {
      "needs_background": "light"
     },
     "output_type": "display_data"
    }
   ],
   "source": [
    "j2_hist.plot(stack=True,histtype='fill')\n",
    "hep.cms.text(\"Work in progress\",loc=0)\n",
    "plt.ylabel(\"Event count\",horizontalalignment='right', y=1.0)\n",
    "plt.legend()"
   ]
  },
  {
   "cell_type": "code",
   "execution_count": null,
   "id": "b7e09b35",
   "metadata": {},
   "outputs": [],
   "source": []
  }
 ],
 "metadata": {
  "kernelspec": {
   "display_name": "Python 3",
   "language": "python",
   "name": "python3"
  },
  "language_info": {
   "codemirror_mode": {
    "name": "ipython",
    "version": 3
   },
   "file_extension": ".py",
   "mimetype": "text/x-python",
   "name": "python",
   "nbconvert_exporter": "python",
   "pygments_lexer": "ipython3",
   "version": "3.9.12"
  }
 },
 "nbformat": 4,
 "nbformat_minor": 5
}
