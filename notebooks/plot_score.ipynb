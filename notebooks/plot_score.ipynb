{
 "cells": [
  {
   "cell_type": "code",
   "execution_count": 1,
   "id": "61951bd2",
   "metadata": {},
   "outputs": [
    {
     "name": "stdout",
     "output_type": "stream",
     "text": [
      "Welcome to JupyROOT 6.26/07\n"
     ]
    }
   ],
   "source": [
    "# import everything needed\n",
    "import ROOT\n",
    "import time\n",
    "import numpy as np\n",
    "import awkward as ak\n",
    "from coffea.nanoevents import NanoEventsFactory, NanoAODSchema\n",
    "import hist\n",
    "import uproot\n",
    "import matplotlib.pyplot as plt\n",
    "import mplhep as hep\n",
    "\n",
    "# configure ROOT's behavior\n",
    "ROOT.gROOT.SetBatch()\n",
    "ROOT.gStyle.SetOptStat(\"nemruoi\")\n",
    "ROOT.gROOT.ForceStyle()"
   ]
  },
  {
   "cell_type": "code",
   "execution_count": 2,
   "id": "69e96bdc",
   "metadata": {},
   "outputs": [
    {
     "name": "stderr",
     "output_type": "stream",
     "text": [
      "/cvmfs/cms.cern.ch/el9_amd64_gcc11/external/py3-numpy/1.22.4-1e1240160543ee39175a125e9a5e9cae/lib/python3.9/site-packages/numpy/core/getlimits.py:499: UserWarning: The value of the smallest subnormal for <class 'numpy.float32'> type is zero.\n",
      "  setattr(self, word, getattr(machar, word).flat[0])\n",
      "/cvmfs/cms.cern.ch/el9_amd64_gcc11/external/py3-numpy/1.22.4-1e1240160543ee39175a125e9a5e9cae/lib/python3.9/site-packages/numpy/core/getlimits.py:89: UserWarning: The value of the smallest subnormal for <class 'numpy.float32'> type is zero.\n",
      "  return self._float_to_str(self.smallest_subnormal)\n",
      "/cvmfs/cms.cern.ch/el9_amd64_gcc11/external/py3-numpy/1.22.4-1e1240160543ee39175a125e9a5e9cae/lib/python3.9/site-packages/numpy/core/getlimits.py:499: UserWarning: The value of the smallest subnormal for <class 'numpy.float64'> type is zero.\n",
      "  setattr(self, word, getattr(machar, word).flat[0])\n",
      "/cvmfs/cms.cern.ch/el9_amd64_gcc11/external/py3-numpy/1.22.4-1e1240160543ee39175a125e9a5e9cae/lib/python3.9/site-packages/numpy/core/getlimits.py:89: UserWarning: The value of the smallest subnormal for <class 'numpy.float64'> type is zero.\n",
      "  return self._float_to_str(self.smallest_subnormal)\n"
     ]
    },
    {
     "name": "stdout",
     "output_type": "stream",
     "text": [
      "--- 4.104645252227783 seconds ---\n"
     ]
    },
    {
     "data": {
      "image/png": "[encoded data removed]",
      "text/plain": [
       "<IPython.core.display.Image object>"
      ]
     },
     "metadata": {},
     "output_type": "display_data"
    }
   ],
   "source": [
    "nBins = 2000\n",
    "score_min = 0.\n",
    "score_max = 1.\n",
    "mass_cut = [100.,150.]\n",
    "min_jet_mass = 60.\n",
    "max_jet_mass = 250.\n",
    "ptcut = 250.\n",
    "etacut = 2.5\n",
    "\n",
    "\n",
    "def HbbvsQCD(fatjet):\n",
    "    score = (fatjet.particleNetMD_Xbb/(fatjet.particleNetMD_Xbb+fatjet.particleNetMD_QCD))\n",
    "    return score\n",
    "\n",
    "def FatJetMass(fatjet):\n",
    "    return fatjet.msoftdrop\n",
    "\n",
    "\n",
    "# this is a jet mask\n",
    "def precut(fatjets):\n",
    "    return (fatjets.pt>ptcut) & (np.absolute(fatjets.eta)<etacut)\n",
    "\n",
    "#this is a jet mask\n",
    "def higgs_cut(fatjets):\n",
    "    return ( FatJetMass(fatjets) >= mass_cut[0] ) & ( FatJetMass(fatjets) <= mass_cut[1] )\n",
    "\n",
    "#this is a jet mask\n",
    "def y_cut(fatjets):\n",
    "    return (FatJetMass(fatjets) > max_jet_mass)\n",
    "\n",
    "\n",
    "# this is an event mask\n",
    "def SR_b_JetMass_evtMask(fatjets):\n",
    "    # one jet mass is in mass window [ mass_cut[0], mass_cut[1] ], one grater than mass_cut[1]\n",
    "    return ( ( ( FatJetMass(fatjets[:,0]) >= mass_cut[0] ) & ( FatJetMass(fatjets[:,0]) <= mass_cut[1] ) & ( FatJetMass(fatjets[:,1]) > max_jet_mass ) )\n",
    "            | ( ( FatJetMass(fatjets[:,1]) >= mass_cut[0] ) & ( FatJetMass(fatjets[:,1]) <= mass_cut[1] ) & ( FatJetMass(fatjets[:,0]) > max_jet_mass ) ) )\n",
    "\n",
    "\n",
    "\n",
    "\n",
    "# start timer\n",
    "start_time = time.time()\n",
    "\n",
    "events = NanoEventsFactory.from_root(\"/STORE/matej/H3_skims/2017/XToYHTo6B_MX-4000_MY-300/1C0AE519-F164-C149-B3EA-4B48017F9D08.root\",schemaclass=NanoAODSchema,metadata={\"dataset\":\"\"},entry_stop=None).events()\n",
    "fatjets = events.FatJet\n",
    "\n",
    "\n",
    "# fat jet preselection\n",
    "fatjets = fatjets[precut(fatjets)]\n",
    "\n",
    "\n",
    "# select events with at least 2 preselected fat jets\n",
    "events  =  events[ak.num(fatjets, axis=1)>1]\n",
    "fatjets = fatjets[ak.num(fatjets, axis=1)>1]\n",
    "\n",
    "    \n",
    "# SR boosted\n",
    "# apply the SR jet mass cut to the 2 leading (in pT) fat jets.\n",
    "# Pass on only the 2 leading fat jets (to avoid events passing or failing due to the 3rd or higher leading fat jet)\n",
    "fatjets_SR_b_evtMask = SR_b_JetMass_evtMask(fatjets)# & phi_evtMask(fatjets)\n",
    "events_SR_b  =     events[fatjets_SR_b_evtMask]\n",
    "fatjets_SR_b =    fatjets[fatjets_SR_b_evtMask][:,0:2]\n",
    "\n",
    "fatjets_SR_higgs = fatjets_SR_b[ higgs_cut(fatjets_SR_b) ]\n",
    "fatJet_score_higgs = HbbvsQCD(fatjets_SR_higgs)\n",
    "\n",
    "fatjets_SR_y = fatjets_SR_b[ y_cut(fatjets_SR_b) ]\n",
    "fatJet_score_y = HbbvsQCD(ak.flatten(fatjets_SR_y))\n",
    "\n",
    "\n",
    "fatJet_score_higgs_bin = hist.axis.Regular(label=\"eta\", name=\"fatJet_score_higgs\", bins=nBins, start=score_min, stop=score_max)\n",
    "fatJet_score_higgs_hist = hist.Hist(fatJet_score_higgs_bin, storage=\"weight\")\n",
    "fatJet_score_higgs_hist.fill(ak.flatten(fatJet_score_higgs))\n",
    "\n",
    "\n",
    "fatJet_score_y_bin = hist.axis.Regular(label=\"m [GeV]\", name=\"fatJet_score_y\", bins=nBins, start=score_min, stop=score_max)\n",
    "fatJet_score_y_hist = hist.Hist(fatJet_score_y_bin, storage=\"weight\")\n",
    "fatJet_score_y_hist.fill(fatJet_score_y)\n",
    "\n",
    "\n",
    "# stop timer\n",
    "print(\"--- {} seconds ---\".format(time.time() - start_time))\n",
    "\n",
    "\n",
    "with uproot.recreate(\"outfile.root\") as fout:\n",
    "    fout[\"fatJet_score_higgs\"] = fatJet_score_higgs_hist\n",
    "    fout[\"fatJet_score_y\"] = fatJet_score_y_hist\n",
    "\n",
    "c=ROOT.TCanvas(\"c\",\"The Canvas Title\",800,600)\n",
    "fout = ROOT.TFile.Open(\"outfile.root\", \"READ\")\n",
    "h1 = fout.Get(\"fatJet_score_higgs\")\n",
    "h2 = fout.Get(\"fatJet_score_y\")\n",
    "h1.Draw(\"hist\")\n",
    "c.Draw()"
   ]
  },
  {
   "cell_type": "code",
   "execution_count": 3,
   "id": "8f70b1ef",
   "metadata": {},
   "outputs": [
    {
     "data": {
      "image/png": "[encoded data removed]",
      "text/plain": [
       "<IPython.core.display.Image object>"
      ]
     },
     "metadata": {},
     "output_type": "display_data"
    }
   ],
   "source": [
    "h2.Draw(\"hist\")\n",
    "c.Draw()"
   ]
  },
  {
   "cell_type": "code",
   "execution_count": null,
   "id": "4e6282b2",
   "metadata": {},
   "outputs": [],
   "source": []
  }
 ],
 "metadata": {
  "kernelspec": {
   "display_name": "Python 3 (ipykernel)",
   "language": "python",
   "name": "python3"
  },
  "language_info": {
   "codemirror_mode": {
    "name": "ipython",
    "version": 3
   },
   "file_extension": ".py",
   "mimetype": "text/x-python",
   "name": "python",
   "nbconvert_exporter": "python",
   "pygments_lexer": "ipython3",
   "version": "3.9.14"
  }
 },
 "nbformat": 4,
 "nbformat_minor": 5
}
